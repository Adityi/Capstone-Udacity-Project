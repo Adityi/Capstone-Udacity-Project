{
  "nbformat": 4,
  "nbformat_minor": 0,
  "metadata": {
    "colab": {
      "name": "Capstone.ipynb",
      "version": "0.3.2",
      "views": {},
      "default_view": {},
      "provenance": [],
      "collapsed_sections": []
    },
    "kernelspec": {
      "name": "python3",
      "display_name": "Python 3"
    },
    "accelerator": "GPU"
  },
  "cells": [
    {
      "metadata": {
        "id": "xFdJVcTItai6",
        "colab_type": "code",
        "colab": {
          "autoexec": {
            "startup": false,
            "wait_interval": 0
          }
        }
      },
      "cell_type": "code",
      "source": [
        "!pip install -U -q PyDrive\n",
        "\n",
        "from pydrive.auth import GoogleAuth\n",
        "from pydrive.drive import GoogleDrive\n",
        "from google.colab import auth\n",
        "from oauth2client.client import GoogleCredentials\n",
        "\n",
        "# 1. Authenticate and create the PyDrive client.\n",
        "auth.authenticate_user()\n",
        "\n",
        "gauth = GoogleAuth()\n",
        "gauth.credentials = GoogleCredentials.get_application_default()\n",
        "drive = GoogleDrive(gauth)\n"
      ],
      "execution_count": 0,
      "outputs": []
    },
    {
      "metadata": {
        "id": "vTEIM1bst5iB",
        "colab_type": "code",
        "colab": {
          "autoexec": {
            "startup": false,
            "wait_interval": 0
          },
          "output_extras": [
            {
              "item_id": 1
            }
          ],
          "base_uri": "https://localhost:8080/",
          "height": 280
        },
        "outputId": "07b5240f-81f3-4412-9b65-df05bbc75d5b",
        "executionInfo": {
          "status": "ok",
          "timestamp": 1521777906664,
          "user_tz": 240,
          "elapsed": 769,
          "user": {
            "displayName": "Adityi Jain",
            "photoUrl": "//lh4.googleusercontent.com/-Oendzrm2UYs/AAAAAAAAAAI/AAAAAAAABVI/KLJBHKIpiMo/s50-c-k-no/photo.jpg",
            "userId": "113461199095791330828"
          }
        }
      },
      "cell_type": "code",
      "source": [
        "file_list = drive.ListFile({'q': \"'root' in parents and trashed=false\"}).GetList()\n",
        "for file1 in file_list:\n",
        "  print('title: %s, id: %s' % (file1['title'], file1['id']))\n",
        "\n",
        "  "
      ],
      "execution_count": 6,
      "outputs": [
        {
          "output_type": "stream",
          "text": [
            "title: yelp_review.csv, id: 1Pb-HyMgtDS7YLKy4fvHTmijQ8e5btxhf\n",
            "title: assignment2_final.ipynb, id: 1bUcuXQXc7yxQJp3syyV1SKQrXhkyh5Pd\n",
            "title: assignment2_final.ipynb, id: 1BzTVuxNs89te-CweYhAmmvAsoyJUVKyy\n",
            "title: assignment2.ipynb, id: 1GgWimMgPEgfs5yK0wPE9ldZTOaDQIx7T\n",
            "title: assignment2, id: 1GQ42YnoJY06wW6Boe6Md7hmX2mGcsCTv\n",
            "title: TwitterAPIadnauseam.ipynb, id: 17CEE7esgukbxdksSofGcn0xtZLiCQL9z\n",
            "title: Colab Notebooks, id: 1ifvtXVHfqG_RStAHTvCKFxq_EIVndFdI\n",
            "title: Untitled0.ipynb, id: 1eao2LiZo6_CjDu8Fc7NRN4uXuFEX-tQK\n",
            "title: Pics, id: 0B4Z5tSBhDSLqWnNGc2pCU3loakE\n",
            "title: DSC_3425.JPG, id: 0B4Z5tSBhDSLqcTA2MWpkMVR4Zjg\n",
            "title: mobile pics, id: 0B4Z5tSBhDSLqNmdYeWhUNGVmS3c\n",
            "title: DSC_1395.jpg, id: 0B4Z5tSBhDSLqUHZ2cHRzdXZ2NE0\n",
            "title: DSC_1393.jpg, id: 0B4Z5tSBhDSLqWnI3WXY2bTJiU3c\n",
            "title: DSC_1392.jpg, id: 0B4Z5tSBhDSLqbkVzOExfQThMS1E\n",
            "title: novofest, id: 0B4Z5tSBhDSLqflpZUy1XLWdNY3BsNlM3QkRyOHpMSHNGd0htb2NUb0gxTzhhVmJjZ29rN00\n"
          ],
          "name": "stdout"
        }
      ]
    },
    {
      "metadata": {
        "id": "kp3_KCey2RBz",
        "colab_type": "code",
        "colab": {
          "autoexec": {
            "startup": false,
            "wait_interval": 0
          },
          "output_extras": [
            {
              "item_id": 1
            }
          ],
          "base_uri": "https://localhost:8080/",
          "height": 34
        },
        "outputId": "81788df2-f96b-4734-c544-75b7f5403895",
        "executionInfo": {
          "status": "ok",
          "timestamp": 1521777908062,
          "user_tz": 240,
          "elapsed": 364,
          "user": {
            "displayName": "Adityi Jain",
            "photoUrl": "//lh4.googleusercontent.com/-Oendzrm2UYs/AAAAAAAAAAI/AAAAAAAABVI/KLJBHKIpiMo/s50-c-k-no/photo.jpg",
            "userId": "113461199095791330828"
          }
        }
      },
      "cell_type": "code",
      "source": [
        "file2 = drive.CreateFile({'id': \"1Pb-HyMgtDS7YLKy4fvHTmijQ8e5btxhf\"})\n",
        "print('title: %s, mimeType: %s' % (file2['title'], file2['mimeType']))"
      ],
      "execution_count": 7,
      "outputs": [
        {
          "output_type": "stream",
          "text": [
            "title: yelp_review.csv, mimeType: text/csv\n"
          ],
          "name": "stdout"
        }
      ]
    },
    {
      "metadata": {
        "id": "QtZJglFFt8rJ",
        "colab_type": "code",
        "colab": {
          "autoexec": {
            "startup": false,
            "wait_interval": 0
          }
        }
      },
      "cell_type": "code",
      "source": [
        "file2.GetContentFile('yelp_review.csv') "
      ],
      "execution_count": 0,
      "outputs": []
    },
    {
      "metadata": {
        "id": "IFZZv6e7t_7v",
        "colab_type": "code",
        "colab": {
          "autoexec": {
            "startup": false,
            "wait_interval": 0
          }
        }
      },
      "cell_type": "code",
      "source": [
        "# Step 0: Receiving and reading the file.\n",
        "import pandas as pd\n",
        "xyz = pd.read_csv('yelp_review.csv', nrows=200000)"
      ],
      "execution_count": 0,
      "outputs": []
    },
    {
      "metadata": {
        "id": "r2J3dkV02bw_",
        "colab_type": "code",
        "colab": {
          "autoexec": {
            "startup": false,
            "wait_interval": 0
          },
          "output_extras": [
            {
              "item_id": 1
            }
          ],
          "base_uri": "https://localhost:8080/",
          "height": 34
        },
        "outputId": "ecddb176-f5b8-41ce-d06d-fa2c29d11a87",
        "executionInfo": {
          "status": "ok",
          "timestamp": 1521778119692,
          "user_tz": 240,
          "elapsed": 389,
          "user": {
            "displayName": "Adityi Jain",
            "photoUrl": "//lh4.googleusercontent.com/-Oendzrm2UYs/AAAAAAAAAAI/AAAAAAAABVI/KLJBHKIpiMo/s50-c-k-no/photo.jpg",
            "userId": "113461199095791330828"
          }
        }
      },
      "cell_type": "code",
      "source": [
        "\n",
        "xyz.head()\n",
        "xyz.shape\n",
        "\n"
      ],
      "execution_count": 3,
      "outputs": [
        {
          "output_type": "execute_result",
          "data": {
            "text/plain": [
              "(200000, 9)"
            ]
          },
          "metadata": {
            "tags": []
          },
          "execution_count": 3
        }
      ]
    },
    {
      "metadata": {
        "id": "1NBGWeef3zkM",
        "colab_type": "code",
        "colab": {
          "autoexec": {
            "startup": false,
            "wait_interval": 0
          },
          "output_extras": [
            {
              "item_id": 1
            }
          ],
          "base_uri": "https://localhost:8080/",
          "height": 199
        },
        "outputId": "dfd01c5b-410c-491e-bfeb-2a6265ac9f1d",
        "executionInfo": {
          "status": "ok",
          "timestamp": 1521778121028,
          "user_tz": 240,
          "elapsed": 344,
          "user": {
            "displayName": "Adityi Jain",
            "photoUrl": "//lh4.googleusercontent.com/-Oendzrm2UYs/AAAAAAAAAAI/AAAAAAAABVI/KLJBHKIpiMo/s50-c-k-no/photo.jpg",
            "userId": "113461199095791330828"
          }
        }
      },
      "cell_type": "code",
      "source": [
        "# taking relevant columns from the reviews\n",
        "review = xyz[['text', 'stars']]\n",
        "review.head()"
      ],
      "execution_count": 4,
      "outputs": [
        {
          "output_type": "execute_result",
          "data": {
            "text/html": [
              "<div>\n",
              "<style scoped>\n",
              "    .dataframe tbody tr th:only-of-type {\n",
              "        vertical-align: middle;\n",
              "    }\n",
              "\n",
              "    .dataframe tbody tr th {\n",
              "        vertical-align: top;\n",
              "    }\n",
              "\n",
              "    .dataframe thead th {\n",
              "        text-align: right;\n",
              "    }\n",
              "</style>\n",
              "<table border=\"1\" class=\"dataframe\">\n",
              "  <thead>\n",
              "    <tr style=\"text-align: right;\">\n",
              "      <th></th>\n",
              "      <th>text</th>\n",
              "      <th>stars</th>\n",
              "    </tr>\n",
              "  </thead>\n",
              "  <tbody>\n",
              "    <tr>\n",
              "      <th>0</th>\n",
              "      <td>Super simple place but amazing nonetheless. It...</td>\n",
              "      <td>5</td>\n",
              "    </tr>\n",
              "    <tr>\n",
              "      <th>1</th>\n",
              "      <td>Small unassuming place that changes their menu...</td>\n",
              "      <td>5</td>\n",
              "    </tr>\n",
              "    <tr>\n",
              "      <th>2</th>\n",
              "      <td>Lester's is located in a beautiful neighborhoo...</td>\n",
              "      <td>5</td>\n",
              "    </tr>\n",
              "    <tr>\n",
              "      <th>3</th>\n",
              "      <td>Love coming here. Yes the place always needs t...</td>\n",
              "      <td>4</td>\n",
              "    </tr>\n",
              "    <tr>\n",
              "      <th>4</th>\n",
              "      <td>Had their chocolate almond croissant and it wa...</td>\n",
              "      <td>4</td>\n",
              "    </tr>\n",
              "  </tbody>\n",
              "</table>\n",
              "</div>"
            ],
            "text/plain": [
              "                                                text  stars\n",
              "0  Super simple place but amazing nonetheless. It...      5\n",
              "1  Small unassuming place that changes their menu...      5\n",
              "2  Lester's is located in a beautiful neighborhoo...      5\n",
              "3  Love coming here. Yes the place always needs t...      4\n",
              "4  Had their chocolate almond croissant and it wa...      4"
            ]
          },
          "metadata": {
            "tags": []
          },
          "execution_count": 4
        }
      ]
    },
    {
      "metadata": {
        "id": "JL9WAL5A-Ra1",
        "colab_type": "code",
        "colab": {
          "autoexec": {
            "startup": false,
            "wait_interval": 0
          }
        }
      },
      "cell_type": "code",
      "source": [
        ""
      ],
      "execution_count": 0,
      "outputs": []
    },
    {
      "metadata": {
        "id": "K4OA9_sRB0ae",
        "colab_type": "code",
        "colab": {
          "autoexec": {
            "startup": false,
            "wait_interval": 0
          },
          "output_extras": [
            {
              "item_id": 1
            }
          ],
          "base_uri": "https://localhost:8080/",
          "height": 122
        },
        "outputId": "36a91cdf-7ef1-4754-fbe3-f8cb5e36f330",
        "executionInfo": {
          "status": "ok",
          "timestamp": 1521778123560,
          "user_tz": 240,
          "elapsed": 319,
          "user": {
            "displayName": "Adityi Jain",
            "photoUrl": "//lh4.googleusercontent.com/-Oendzrm2UYs/AAAAAAAAAAI/AAAAAAAABVI/KLJBHKIpiMo/s50-c-k-no/photo.jpg",
            "userId": "113461199095791330828"
          }
        }
      },
      "cell_type": "code",
      "source": [
        "# will help to check how many reviews are there per rating\n",
        "review.stars.value_counts()"
      ],
      "execution_count": 5,
      "outputs": [
        {
          "output_type": "execute_result",
          "data": {
            "text/plain": [
              "5    86501\n",
              "4    46788\n",
              "1    27375\n",
              "3    22779\n",
              "2    16557\n",
              "Name: stars, dtype: int64"
            ]
          },
          "metadata": {
            "tags": []
          },
          "execution_count": 5
        }
      ]
    },
    {
      "metadata": {
        "id": "Ge_eVKcO_WoS",
        "colab_type": "code",
        "colab": {
          "autoexec": {
            "startup": false,
            "wait_interval": 0
          }
        }
      },
      "cell_type": "code",
      "source": [
        "# The distributin of the rating shows that the classes or output are highly imbalanced, with more number of reviews towards \n",
        "#higher ratings. The pie plot below gives the details."
      ],
      "execution_count": 0,
      "outputs": []
    },
    {
      "metadata": {
        "id": "hKDplIkI9zUD",
        "colab_type": "code",
        "colab": {
          "autoexec": {
            "startup": false,
            "wait_interval": 0
          },
          "output_extras": [
            {
              "item_id": 1
            }
          ],
          "base_uri": "https://localhost:8080/",
          "height": 401
        },
        "outputId": "66b85bf7-366f-410e-e672-ed86e35ebc50",
        "executionInfo": {
          "status": "ok",
          "timestamp": 1521778174954,
          "user_tz": 240,
          "elapsed": 377,
          "user": {
            "displayName": "Adityi Jain",
            "photoUrl": "//lh4.googleusercontent.com/-Oendzrm2UYs/AAAAAAAAAAI/AAAAAAAABVI/KLJBHKIpiMo/s50-c-k-no/photo.jpg",
            "userId": "113461199095791330828"
          }
        }
      },
      "cell_type": "code",
      "source": [
        "import matplotlib.pyplot as plt\n",
        "\n",
        "# Pie chart\n",
        "labels = ['1 star', '2 star', '3 star', '4 star', \"5 star\"]\n",
        "sizes = [16557, 22779, 27375, 46788, 86501] \n",
        "fig1, ax1 = plt.subplots()\n",
        "ax1.pie(sizes, labels=labels, autopct='%1.1f%%',\n",
        "        shadow=True, startangle=90)\n",
        "# Equal aspect ratio ensures that pie is drawn as a circle\n",
        "ax1.axis('equal')  \n",
        "plt.tight_layout()\n",
        "plt.show()"
      ],
      "execution_count": 7,
      "outputs": [
        {
          "output_type": "display_data",
          "data": {
            "image/png": "[encoded data removed]",
            "text/plain": [
              "<matplotlib.figure.Figure at 0x7f4196d5b710>"
            ]
          },
          "metadata": {
            "tags": []
          }
        }
      ]
    },
    {
      "metadata": {
        "id": "T_6A5PbtCGNJ",
        "colab_type": "code",
        "colab": {
          "autoexec": {
            "startup": false,
            "wait_interval": 0
          },
          "output_extras": [
            {
              "item_id": 1
            }
          ],
          "base_uri": "https://localhost:8080/",
          "height": 34
        },
        "outputId": "5af7c0ff-6bca-4296-c67c-753574c0ebb4",
        "executionInfo": {
          "status": "ok",
          "timestamp": 1521778180672,
          "user_tz": 240,
          "elapsed": 305,
          "user": {
            "displayName": "Adityi Jain",
            "photoUrl": "//lh4.googleusercontent.com/-Oendzrm2UYs/AAAAAAAAAAI/AAAAAAAABVI/KLJBHKIpiMo/s50-c-k-no/photo.jpg",
            "userId": "113461199095791330828"
          }
        }
      },
      "cell_type": "code",
      "source": [
        "X = review[\"text\"]\n",
        "y = review.stars\n",
        "X.shape\n",
        "y.shape"
      ],
      "execution_count": 8,
      "outputs": [
        {
          "output_type": "execute_result",
          "data": {
            "text/plain": [
              "(200000,)"
            ]
          },
          "metadata": {
            "tags": []
          },
          "execution_count": 8
        }
      ]
    },
    {
      "metadata": {
        "id": "10Mdh5z9COqT",
        "colab_type": "code",
        "colab": {
          "autoexec": {
            "startup": false,
            "wait_interval": 0
          }
        }
      },
      "cell_type": "code",
      "source": [
        "#STEP 1/2: PREPROCESSING AND FEATURES EXTRACTION.\n",
        "#STEMMING OF DOC USING NLTK\n",
        "\n",
        "from sklearn.feature_extraction.text import TfidfVectorizer\n",
        "import nltk.stem\n",
        "\n",
        "english_stemmer = nltk.stem.SnowballStemmer('english')\n",
        "class StemmedTfidfVectorizer(TfidfVectorizer):\n",
        "    def build_analyzer(self):\n",
        "        analyzer = super(StemmedTfidfVectorizer, self).build_analyzer()\n",
        "        return lambda doc: ([english_stemmer.stem(w) for w in analyzer(doc)])\n"
      ],
      "execution_count": 0,
      "outputs": []
    },
    {
      "metadata": {
        "id": "2XHKry-pR_NF",
        "colab_type": "code",
        "colab": {
          "autoexec": {
            "startup": false,
            "wait_interval": 0
          }
        }
      },
      "cell_type": "code",
      "source": [
        "\n",
        "# WILL USE TF-IDF VECTORIZER, WHICH IS COMBINATION OF COUNT VECTORIZER AND TF IDF TRANSFORMER\n",
        "# preprocessing and feature extraction\n",
        "from sklearn.model_selection import train_test_split\n",
        "\n",
        "X_train, X_test, y_train, y_test = train_test_split(X, y, test_size=0.25, random_state=5)\n",
        "\n",
        "#UNIGRAM\n",
        "vectorizer_1 = StemmedTfidfVectorizer(stop_words='english')"
      ],
      "execution_count": 0,
      "outputs": []
    },
    {
      "metadata": {
        "id": "MKRBoOVvsfBu",
        "colab_type": "code",
        "colab": {
          "autoexec": {
            "startup": false,
            "wait_interval": 0
          }
        }
      },
      "cell_type": "code",
      "source": [
        "X_train_dtm = vectorizer_1.fit_transform(X_train)\n",
        "#dtm is data term matrix\n",
        "#do fitting and transfrom in single step\n"
      ],
      "execution_count": 0,
      "outputs": []
    },
    {
      "metadata": {
        "id": "_7hc_JekEN7-",
        "colab_type": "code",
        "colab": {
          "autoexec": {
            "startup": false,
            "wait_interval": 0
          },
          "output_extras": [
            {
              "item_id": 1
            }
          ],
          "base_uri": "https://localhost:8080/",
          "height": 34
        },
        "outputId": "3cff5d89-1590-4042-d92b-cef4fdadf11f",
        "executionInfo": {
          "status": "ok",
          "timestamp": 1521778416863,
          "user_tz": 240,
          "elapsed": 397,
          "user": {
            "displayName": "Adityi Jain",
            "photoUrl": "//lh4.googleusercontent.com/-Oendzrm2UYs/AAAAAAAAAAI/AAAAAAAABVI/KLJBHKIpiMo/s50-c-k-no/photo.jpg",
            "userId": "113461199095791330828"
          }
        }
      },
      "cell_type": "code",
      "source": [
        "tokens = vectorizer_1.get_feature_names()\n",
        "print(len(tokens))\n",
        "# number of features in unigram"
      ],
      "execution_count": 12,
      "outputs": [
        {
          "output_type": "stream",
          "text": [
            "81363\n"
          ],
          "name": "stdout"
        }
      ]
    },
    {
      "metadata": {
        "id": "dw0Wy9wHxT87",
        "colab_type": "code",
        "colab": {
          "autoexec": {
            "startup": false,
            "wait_interval": 0
          }
        }
      },
      "cell_type": "code",
      "source": [
        "X_test_dtm = vectorizer_1.transform(X_test)"
      ],
      "execution_count": 0,
      "outputs": []
    },
    {
      "metadata": {
        "id": "la-Vf44u6k4A",
        "colab_type": "code",
        "colab": {
          "autoexec": {
            "startup": false,
            "wait_interval": 0
          }
        }
      },
      "cell_type": "code",
      "source": [
        "# REPEATING WITH BIGRAM METHOD\n",
        "vectorizer_2 =  StemmedTfidfVectorizer(stop_words=\"english\", ngram_range=(1,2))\n",
        "X_train_dtm_2 = vectorizer_2.fit_transform(X_train)\n"
      ],
      "execution_count": 0,
      "outputs": []
    },
    {
      "metadata": {
        "id": "Q9m4K9Oy-RSh",
        "colab_type": "code",
        "colab": {
          "autoexec": {
            "startup": false,
            "wait_interval": 0
          },
          "output_extras": [
            {
              "item_id": 1
            }
          ],
          "base_uri": "https://localhost:8080/",
          "height": 34
        },
        "outputId": "54783a31-cb9a-48eb-e1a5-ecb210253c20",
        "executionInfo": {
          "status": "ok",
          "timestamp": 1521778868874,
          "user_tz": 240,
          "elapsed": 6043,
          "user": {
            "displayName": "Adityi Jain",
            "photoUrl": "//lh4.googleusercontent.com/-Oendzrm2UYs/AAAAAAAAAAI/AAAAAAAABVI/KLJBHKIpiMo/s50-c-k-no/photo.jpg",
            "userId": "113461199095791330828"
          }
        }
      },
      "cell_type": "code",
      "source": [
        "tokens_2 = vectorizer_2.get_feature_names()\n",
        "print(len(tokens_2))\n",
        "#number of features in bigram"
      ],
      "execution_count": 15,
      "outputs": [
        {
          "output_type": "stream",
          "text": [
            "2849324\n"
          ],
          "name": "stdout"
        }
      ]
    },
    {
      "metadata": {
        "id": "ZWkxvMM5-RPB",
        "colab_type": "code",
        "colab": {
          "autoexec": {
            "startup": false,
            "wait_interval": 0
          }
        }
      },
      "cell_type": "code",
      "source": [
        "X_test_dtm_2 = vectorizer_2.transform(X_test)"
      ],
      "execution_count": 0,
      "outputs": []
    },
    {
      "metadata": {
        "id": "cSDqMbIh-RMd",
        "colab_type": "code",
        "colab": {
          "autoexec": {
            "startup": false,
            "wait_interval": 0
          },
          "output_extras": [
            {
              "item_id": 1
            }
          ],
          "base_uri": "https://localhost:8080/",
          "height": 54
        },
        "outputId": "a803bdba-c7ed-4787-cc68-38b46a273b54",
        "executionInfo": {
          "status": "ok",
          "timestamp": 1521779036800,
          "user_tz": 240,
          "elapsed": 351,
          "user": {
            "displayName": "Adityi Jain",
            "photoUrl": "//lh4.googleusercontent.com/-Oendzrm2UYs/AAAAAAAAAAI/AAAAAAAABVI/KLJBHKIpiMo/s50-c-k-no/photo.jpg",
            "userId": "113461199095791330828"
          }
        }
      },
      "cell_type": "code",
      "source": [
        "print(tokens_2[20000:20059])"
      ],
      "execution_count": 17,
      "outputs": [
        {
          "output_type": "stream",
          "text": [
            "['20plus servic', '20pm', '20pm 50', '20pm actual', '20pm allow', '20pm arriv', '20pm avail', '20pm bar', '20pm bunch', '20pm check', '20pm drive', '20pm expect', '20pm friday', '20pm gave', '20pm got', '20pm group', '20pm happi', '20pm hostess', '20pm kitchen', '20pm ladi', '20pm order', '20pm purchas', '20pm salon', '20pm saturday', '20pm sight', '20pm spoke', '20pm thursday', '20pm wast', '20pm weekday', '20pp', '20pp breakfast', '20pp room', '20psi', '20psi car', '20rd', '20rd insp_id', '20road', '20road 20kil', '20s', '20s 10', '20s 12', '20s 30s', '20s 40s', '20s 55', '20s appoint', '20s bartend', '20s bleach', '20s budget', '20s came', '20s clear', '20s close', '20s ear', '20s entir', '20s expect', '20s experi', '20s felt', '20s fifti', '20s food', '20s heel']\n"
          ],
          "name": "stdout"
        }
      ]
    },
    {
      "metadata": {
        "id": "5kOemMzXKlYf",
        "colab_type": "code",
        "colab": {
          "autoexec": {
            "startup": false,
            "wait_interval": 0
          },
          "output_extras": [
            {
              "item_id": 1
            }
          ],
          "base_uri": "https://localhost:8080/",
          "height": 34
        },
        "outputId": "b8b5f3c9-1028-4ce2-c75d-6b25e286393a",
        "executionInfo": {
          "status": "ok",
          "timestamp": 1521779043906,
          "user_tz": 240,
          "elapsed": 459,
          "user": {
            "displayName": "Adityi Jain",
            "photoUrl": "//lh4.googleusercontent.com/-Oendzrm2UYs/AAAAAAAAAAI/AAAAAAAABVI/KLJBHKIpiMo/s50-c-k-no/photo.jpg",
            "userId": "113461199095791330828"
          }
        }
      },
      "cell_type": "code",
      "source": [
        "#STEP 3: SUPERVISED LEARNING/ EVALUATION\n",
        "# MULTINOMIAL NAIVE BAYES\n",
        "import warnings\n",
        "warnings.filterwarnings('ignore')\n",
        "from sklearn.naive_bayes import MultinomialNB\n",
        "nb1 = MultinomialNB()\n",
        "\n",
        "nb1.fit(X_train_dtm, y_train)\n",
        "\n"
      ],
      "execution_count": 18,
      "outputs": [
        {
          "output_type": "execute_result",
          "data": {
            "text/plain": [
              "MultinomialNB(alpha=1.0, class_prior=None, fit_prior=True)"
            ]
          },
          "metadata": {
            "tags": []
          },
          "execution_count": 18
        }
      ]
    },
    {
      "metadata": {
        "id": "Smt9djvm6ZQo",
        "colab_type": "code",
        "colab": {
          "autoexec": {
            "startup": false,
            "wait_interval": 0
          },
          "output_extras": [
            {
              "item_id": 1
            }
          ],
          "base_uri": "https://localhost:8080/",
          "height": 34
        },
        "outputId": "96c17d14-5e9c-4ebb-9075-279aad7306a3",
        "executionInfo": {
          "status": "ok",
          "timestamp": 1521779047956,
          "user_tz": 240,
          "elapsed": 1307,
          "user": {
            "displayName": "Adityi Jain",
            "photoUrl": "//lh4.googleusercontent.com/-Oendzrm2UYs/AAAAAAAAAAI/AAAAAAAABVI/KLJBHKIpiMo/s50-c-k-no/photo.jpg",
            "userId": "113461199095791330828"
          }
        }
      },
      "cell_type": "code",
      "source": [
        "nb2 = MultinomialNB()\n",
        "nb2.fit(X_train_dtm_2, y_train)"
      ],
      "execution_count": 19,
      "outputs": [
        {
          "output_type": "execute_result",
          "data": {
            "text/plain": [
              "MultinomialNB(alpha=1.0, class_prior=None, fit_prior=True)"
            ]
          },
          "metadata": {
            "tags": []
          },
          "execution_count": 19
        }
      ]
    },
    {
      "metadata": {
        "id": "r30cuVwI5eq_",
        "colab_type": "code",
        "colab": {
          "autoexec": {
            "startup": false,
            "wait_interval": 0
          }
        }
      },
      "cell_type": "code",
      "source": [
        "y_pred_nb1 = nb1.predict(X_test_dtm)\n"
      ],
      "execution_count": 0,
      "outputs": []
    },
    {
      "metadata": {
        "id": "FQ-eFAtL6bVR",
        "colab_type": "code",
        "colab": {
          "autoexec": {
            "startup": false,
            "wait_interval": 0
          }
        }
      },
      "cell_type": "code",
      "source": [
        "y_pred_nb2 = nb2.predict(X_test_dtm_2)"
      ],
      "execution_count": 0,
      "outputs": []
    },
    {
      "metadata": {
        "id": "H92NOZiq5q-M",
        "colab_type": "code",
        "colab": {
          "autoexec": {
            "startup": false,
            "wait_interval": 0
          },
          "output_extras": [
            {
              "item_id": 1
            }
          ],
          "base_uri": "https://localhost:8080/",
          "height": 34
        },
        "outputId": "29aa71cf-d496-477a-b232-7298409bc5e6",
        "executionInfo": {
          "status": "ok",
          "timestamp": 1521779051968,
          "user_tz": 240,
          "elapsed": 330,
          "user": {
            "displayName": "Adityi Jain",
            "photoUrl": "//lh4.googleusercontent.com/-Oendzrm2UYs/AAAAAAAAAAI/AAAAAAAABVI/KLJBHKIpiMo/s50-c-k-no/photo.jpg",
            "userId": "113461199095791330828"
          }
        }
      },
      "cell_type": "code",
      "source": [
        "from sklearn.metrics import f1_score\n",
        "#F1 score for unigram NB\n",
        "f1_score(y_test, y_pred_nb1, average= 'weighted')\n"
      ],
      "execution_count": 22,
      "outputs": [
        {
          "output_type": "execute_result",
          "data": {
            "text/plain": [
              "0.43847600823977745"
            ]
          },
          "metadata": {
            "tags": []
          },
          "execution_count": 22
        }
      ]
    },
    {
      "metadata": {
        "id": "AflMyx8MALB8",
        "colab_type": "code",
        "colab": {
          "autoexec": {
            "startup": false,
            "wait_interval": 0
          },
          "output_extras": [
            {
              "item_id": 1
            }
          ],
          "base_uri": "https://localhost:8080/",
          "height": 34
        },
        "outputId": "8bfdfc88-b691-4941-ce36-b00e2dea314e",
        "executionInfo": {
          "status": "ok",
          "timestamp": 1521779053690,
          "user_tz": 240,
          "elapsed": 313,
          "user": {
            "displayName": "Adityi Jain",
            "photoUrl": "//lh4.googleusercontent.com/-Oendzrm2UYs/AAAAAAAAAAI/AAAAAAAABVI/KLJBHKIpiMo/s50-c-k-no/photo.jpg",
            "userId": "113461199095791330828"
          }
        }
      },
      "cell_type": "code",
      "source": [
        "F1_nb = round(f1_score(y_test, y_pred_nb1, average= 'weighted'),5)\n",
        "print(F1_nb)"
      ],
      "execution_count": 23,
      "outputs": [
        {
          "output_type": "stream",
          "text": [
            "0.43848\n"
          ],
          "name": "stdout"
        }
      ]
    },
    {
      "metadata": {
        "id": "GKjufNZa5ydV",
        "colab_type": "code",
        "colab": {
          "autoexec": {
            "startup": false,
            "wait_interval": 0
          },
          "output_extras": [
            {
              "item_id": 1
            }
          ],
          "base_uri": "https://localhost:8080/",
          "height": 34
        },
        "outputId": "8c440242-9d93-44ec-9d20-d4dc868d4d8e",
        "executionInfo": {
          "status": "ok",
          "timestamp": 1521779056239,
          "user_tz": 240,
          "elapsed": 310,
          "user": {
            "displayName": "Adityi Jain",
            "photoUrl": "//lh4.googleusercontent.com/-Oendzrm2UYs/AAAAAAAAAAI/AAAAAAAABVI/KLJBHKIpiMo/s50-c-k-no/photo.jpg",
            "userId": "113461199095791330828"
          }
        }
      },
      "cell_type": "code",
      "source": [
        "# F1 score for bigram NB\n",
        "# to ignore warning due to classes with no predictions made\n",
        "\n",
        "f1_score(y_test, y_pred_nb2, average= 'weighted')\n"
      ],
      "execution_count": 24,
      "outputs": [
        {
          "output_type": "execute_result",
          "data": {
            "text/plain": [
              "0.28645948412433225"
            ]
          },
          "metadata": {
            "tags": []
          },
          "execution_count": 24
        }
      ]
    },
    {
      "metadata": {
        "id": "VBZ_UHNCAW4S",
        "colab_type": "code",
        "colab": {
          "autoexec": {
            "startup": false,
            "wait_interval": 0
          },
          "output_extras": [
            {
              "item_id": 1
            }
          ],
          "base_uri": "https://localhost:8080/",
          "height": 34
        },
        "outputId": "7dc54f57-c49e-49e1-d527-7d4eaa81a03f",
        "executionInfo": {
          "status": "ok",
          "timestamp": 1521779058474,
          "user_tz": 240,
          "elapsed": 374,
          "user": {
            "displayName": "Adityi Jain",
            "photoUrl": "//lh4.googleusercontent.com/-Oendzrm2UYs/AAAAAAAAAAI/AAAAAAAABVI/KLJBHKIpiMo/s50-c-k-no/photo.jpg",
            "userId": "113461199095791330828"
          }
        }
      },
      "cell_type": "code",
      "source": [
        "F2_nb = round(f1_score(y_test, y_pred_nb2, average= 'weighted'),5)\n",
        "print(F2_nb)"
      ],
      "execution_count": 25,
      "outputs": [
        {
          "output_type": "stream",
          "text": [
            "0.28646\n"
          ],
          "name": "stdout"
        }
      ]
    },
    {
      "metadata": {
        "id": "LCLGYEd051G0",
        "colab_type": "code",
        "colab": {
          "autoexec": {
            "startup": false,
            "wait_interval": 0
          },
          "output_extras": [
            {
              "item_id": 1
            }
          ],
          "base_uri": "https://localhost:8080/",
          "height": 87
        },
        "outputId": "6c5927db-0f52-473b-f72e-d9a3a3f8cf06",
        "executionInfo": {
          "status": "ok",
          "timestamp": 1521779094859,
          "user_tz": 240,
          "elapsed": 35160,
          "user": {
            "displayName": "Adityi Jain",
            "photoUrl": "//lh4.googleusercontent.com/-Oendzrm2UYs/AAAAAAAAAAI/AAAAAAAABVI/KLJBHKIpiMo/s50-c-k-no/photo.jpg",
            "userId": "113461199095791330828"
          }
        }
      },
      "cell_type": "code",
      "source": [
        "# LOGISTIC REGRESSION\n",
        "from sklearn.linear_model import LogisticRegression\n",
        "lr1 = LogisticRegression(class_weight='balanced')\n",
        "lr1.fit(X_train_dtm, y_train)\n"
      ],
      "execution_count": 26,
      "outputs": [
        {
          "output_type": "execute_result",
          "data": {
            "text/plain": [
              "LogisticRegression(C=1.0, class_weight='balanced', dual=False,\n",
              "          fit_intercept=True, intercept_scaling=1, max_iter=100,\n",
              "          multi_class='ovr', n_jobs=1, penalty='l2', random_state=None,\n",
              "          solver='liblinear', tol=0.0001, verbose=0, warm_start=False)"
            ]
          },
          "metadata": {
            "tags": []
          },
          "execution_count": 26
        }
      ]
    },
    {
      "metadata": {
        "id": "YhbNJZuEA0AN",
        "colab_type": "code",
        "colab": {
          "autoexec": {
            "startup": false,
            "wait_interval": 0
          }
        }
      },
      "cell_type": "code",
      "source": [
        "\n",
        "y_pred_lr1 = lr1.predict(X_test_dtm)"
      ],
      "execution_count": 0,
      "outputs": []
    },
    {
      "metadata": {
        "id": "uP0fhuPR1gNw",
        "colab_type": "code",
        "colab": {
          "autoexec": {
            "startup": false,
            "wait_interval": 0
          },
          "output_extras": [
            {
              "item_id": 1
            }
          ],
          "base_uri": "https://localhost:8080/",
          "height": 87
        },
        "outputId": "f295261b-2f63-4687-c68f-61982943f78d",
        "executionInfo": {
          "status": "ok",
          "timestamp": 1521779188169,
          "user_tz": 240,
          "elapsed": 87186,
          "user": {
            "displayName": "Adityi Jain",
            "photoUrl": "//lh4.googleusercontent.com/-Oendzrm2UYs/AAAAAAAAAAI/AAAAAAAABVI/KLJBHKIpiMo/s50-c-k-no/photo.jpg",
            "userId": "113461199095791330828"
          }
        }
      },
      "cell_type": "code",
      "source": [
        "lr2 = LogisticRegression(class_weight='balanced')\n",
        "lr2.fit(X_train_dtm_2, y_train)"
      ],
      "execution_count": 28,
      "outputs": [
        {
          "output_type": "execute_result",
          "data": {
            "text/plain": [
              "LogisticRegression(C=1.0, class_weight='balanced', dual=False,\n",
              "          fit_intercept=True, intercept_scaling=1, max_iter=100,\n",
              "          multi_class='ovr', n_jobs=1, penalty='l2', random_state=None,\n",
              "          solver='liblinear', tol=0.0001, verbose=0, warm_start=False)"
            ]
          },
          "metadata": {
            "tags": []
          },
          "execution_count": 28
        }
      ]
    },
    {
      "metadata": {
        "id": "-sxXbA_R1lh5",
        "colab_type": "code",
        "colab": {
          "autoexec": {
            "startup": false,
            "wait_interval": 0
          }
        }
      },
      "cell_type": "code",
      "source": [
        "y_pred_lr2 = lr2.predict(X_test_dtm_2)"
      ],
      "execution_count": 0,
      "outputs": []
    },
    {
      "metadata": {
        "id": "e9eZQqau2P6M",
        "colab_type": "code",
        "colab": {
          "autoexec": {
            "startup": false,
            "wait_interval": 0
          },
          "output_extras": [
            {
              "item_id": 1
            }
          ],
          "base_uri": "https://localhost:8080/",
          "height": 34
        },
        "outputId": "86f458dd-a411-4120-c849-e302a0d67812",
        "executionInfo": {
          "status": "ok",
          "timestamp": 1521779199301,
          "user_tz": 240,
          "elapsed": 312,
          "user": {
            "displayName": "Adityi Jain",
            "photoUrl": "//lh4.googleusercontent.com/-Oendzrm2UYs/AAAAAAAAAAI/AAAAAAAABVI/KLJBHKIpiMo/s50-c-k-no/photo.jpg",
            "userId": "113461199095791330828"
          }
        }
      },
      "cell_type": "code",
      "source": [
        "# F1 score for unigram LR\n",
        "f1_score(y_test, y_pred_lr1, average= 'weighted')"
      ],
      "execution_count": 30,
      "outputs": [
        {
          "output_type": "execute_result",
          "data": {
            "text/plain": [
              "0.6380637428163922"
            ]
          },
          "metadata": {
            "tags": []
          },
          "execution_count": 30
        }
      ]
    },
    {
      "metadata": {
        "id": "NfYIN1dvAlMV",
        "colab_type": "code",
        "colab": {
          "autoexec": {
            "startup": false,
            "wait_interval": 0
          },
          "output_extras": [
            {
              "item_id": 1
            }
          ],
          "base_uri": "https://localhost:8080/",
          "height": 34
        },
        "outputId": "37e7c4e3-ce27-4c12-ff2a-ac783f61362b",
        "executionInfo": {
          "status": "ok",
          "timestamp": 1521779200766,
          "user_tz": 240,
          "elapsed": 355,
          "user": {
            "displayName": "Adityi Jain",
            "photoUrl": "//lh4.googleusercontent.com/-Oendzrm2UYs/AAAAAAAAAAI/AAAAAAAABVI/KLJBHKIpiMo/s50-c-k-no/photo.jpg",
            "userId": "113461199095791330828"
          }
        }
      },
      "cell_type": "code",
      "source": [
        "F1_lr = round(f1_score(y_test, y_pred_lr1, average= 'weighted'),5)\n",
        "print(F1_lr)"
      ],
      "execution_count": 31,
      "outputs": [
        {
          "output_type": "stream",
          "text": [
            "0.63806\n"
          ],
          "name": "stdout"
        }
      ]
    },
    {
      "metadata": {
        "id": "9hQdau202aTH",
        "colab_type": "code",
        "colab": {
          "autoexec": {
            "startup": false,
            "wait_interval": 0
          },
          "output_extras": [
            {
              "item_id": 1
            }
          ],
          "base_uri": "https://localhost:8080/",
          "height": 34
        },
        "outputId": "aaac9ee2-b8d8-48c6-cdb1-8bb1bc8cf7c2",
        "executionInfo": {
          "status": "ok",
          "timestamp": 1521779203605,
          "user_tz": 240,
          "elapsed": 306,
          "user": {
            "displayName": "Adityi Jain",
            "photoUrl": "//lh4.googleusercontent.com/-Oendzrm2UYs/AAAAAAAAAAI/AAAAAAAABVI/KLJBHKIpiMo/s50-c-k-no/photo.jpg",
            "userId": "113461199095791330828"
          }
        }
      },
      "cell_type": "code",
      "source": [
        "# F1 score for bigram LR\n",
        "f1_score(y_test, y_pred_lr2, average= 'weighted')"
      ],
      "execution_count": 32,
      "outputs": [
        {
          "output_type": "execute_result",
          "data": {
            "text/plain": [
              "0.6486225428994348"
            ]
          },
          "metadata": {
            "tags": []
          },
          "execution_count": 32
        }
      ]
    },
    {
      "metadata": {
        "id": "IeyNW-t_AxJ6",
        "colab_type": "code",
        "colab": {
          "autoexec": {
            "startup": false,
            "wait_interval": 0
          },
          "output_extras": [
            {
              "item_id": 1
            }
          ],
          "base_uri": "https://localhost:8080/",
          "height": 34
        },
        "outputId": "ca9e7fd2-9dad-4a75-aa5e-38e4d14d921d",
        "executionInfo": {
          "status": "ok",
          "timestamp": 1521779205316,
          "user_tz": 240,
          "elapsed": 308,
          "user": {
            "displayName": "Adityi Jain",
            "photoUrl": "//lh4.googleusercontent.com/-Oendzrm2UYs/AAAAAAAAAAI/AAAAAAAABVI/KLJBHKIpiMo/s50-c-k-no/photo.jpg",
            "userId": "113461199095791330828"
          }
        }
      },
      "cell_type": "code",
      "source": [
        "F2_lr = round(f1_score(y_test, y_pred_lr2, average= 'weighted'),5)\n",
        "print(F2_lr)"
      ],
      "execution_count": 33,
      "outputs": [
        {
          "output_type": "stream",
          "text": [
            "0.64862\n"
          ],
          "name": "stdout"
        }
      ]
    },
    {
      "metadata": {
        "id": "gs1CTRGA2eRF",
        "colab_type": "code",
        "colab": {
          "autoexec": {
            "startup": false,
            "wait_interval": 0
          }
        }
      },
      "cell_type": "code",
      "source": [
        "# DECISION TREE CLASSIFIER\n",
        "from sklearn.tree import DecisionTreeClassifier\n",
        "from sklearn.grid_search import GridSearchCV\n",
        "\n",
        "param_grid = {'max_depth': [10, 20, 40, 50],\n",
        " 'min_samples_leaf': [5,10,15],\n",
        " 'min_samples_split': [5,10,15]}\n",
        "clf = DecisionTreeClassifier(class_weight=\"balanced\")\n"
      ],
      "execution_count": 0,
      "outputs": []
    },
    {
      "metadata": {
        "id": "kQdlObrQrH-M",
        "colab_type": "code",
        "colab": {
          "autoexec": {
            "startup": false,
            "wait_interval": 0
          }
        }
      },
      "cell_type": "code",
      "source": [
        "grid_obj1 = GridSearchCV(clf, param_grid, scoring=\"f1_weighted\")"
      ],
      "execution_count": 0,
      "outputs": []
    },
    {
      "metadata": {
        "id": "gztQK95IVSwb",
        "colab_type": "code",
        "colab": {
          "autoexec": {
            "startup": false,
            "wait_interval": 0
          }
        }
      },
      "cell_type": "code",
      "source": [
        "grid_fit1 = grid_obj1.fit(X_train_dtm, y_train)"
      ],
      "execution_count": 0,
      "outputs": []
    },
    {
      "metadata": {
        "id": "hLiSs7HnUCo9",
        "colab_type": "code",
        "colab": {
          "autoexec": {
            "startup": false,
            "wait_interval": 0
          }
        }
      },
      "cell_type": "code",
      "source": [
        "grid_best_1 = grid_fit1.best_params_"
      ],
      "execution_count": 0,
      "outputs": []
    },
    {
      "metadata": {
        "id": "Kh2Y0ryEUZwd",
        "colab_type": "code",
        "colab": {
          "autoexec": {
            "startup": false,
            "wait_interval": 0
          },
          "output_extras": [
            {
              "item_id": 1
            }
          ],
          "base_uri": "https://localhost:8080/",
          "height": 34
        },
        "outputId": "5acf1f76-eed0-4700-da3c-9f7c502dc4da",
        "executionInfo": {
          "status": "ok",
          "timestamp": 1521741366313,
          "user_tz": 240,
          "elapsed": 264,
          "user": {
            "displayName": "Adityi Jain",
            "photoUrl": "//lh4.googleusercontent.com/-Oendzrm2UYs/AAAAAAAAAAI/AAAAAAAABVI/KLJBHKIpiMo/s50-c-k-no/photo.jpg",
            "userId": "113461199095791330828"
          }
        }
      },
      "cell_type": "code",
      "source": [
        "print(grid_best_1)"
      ],
      "execution_count": 36,
      "outputs": [
        {
          "output_type": "stream",
          "text": [
            "{'max_depth': 50, 'min_samples_leaf': 5, 'min_samples_split': 10}\n"
          ],
          "name": "stdout"
        }
      ]
    },
    {
      "metadata": {
        "id": "Jb938lc6sv_c",
        "colab_type": "code",
        "colab": {
          "autoexec": {
            "startup": false,
            "wait_interval": 0
          }
        }
      },
      "cell_type": "code",
      "source": [
        "grid_best_obj = grid_fit1.best_estimator_\n",
        "# model classifier with best estimated parameters for unigram"
      ],
      "execution_count": 0,
      "outputs": []
    },
    {
      "metadata": {
        "id": "r_CBoVKWs5j-",
        "colab_type": "code",
        "colab": {
          "autoexec": {
            "startup": false,
            "wait_interval": 0
          }
        }
      },
      "cell_type": "code",
      "source": [
        "y_pred_dt1 = grid_best_obj.predict(X_test_dtm)"
      ],
      "execution_count": 0,
      "outputs": []
    },
    {
      "metadata": {
        "id": "5iUXnUjBtF2s",
        "colab_type": "code",
        "colab": {
          "autoexec": {
            "startup": false,
            "wait_interval": 0
          },
          "output_extras": [
            {
              "item_id": 1
            }
          ],
          "base_uri": "https://localhost:8080/",
          "height": 34
        },
        "outputId": "c6f2f2f7-92ae-4c34-c597-41dc7a787f3c",
        "executionInfo": {
          "status": "ok",
          "timestamp": 1521741367674,
          "user_tz": 240,
          "elapsed": 280,
          "user": {
            "displayName": "Adityi Jain",
            "photoUrl": "//lh4.googleusercontent.com/-Oendzrm2UYs/AAAAAAAAAAI/AAAAAAAABVI/KLJBHKIpiMo/s50-c-k-no/photo.jpg",
            "userId": "113461199095791330828"
          }
        }
      },
      "cell_type": "code",
      "source": [
        "# F1 score for unigram DT\n",
        "f1_score(y_test, y_pred_dt1, average= 'weighted')"
      ],
      "execution_count": 39,
      "outputs": [
        {
          "output_type": "execute_result",
          "data": {
            "text/plain": [
              "0.3018934127951089"
            ]
          },
          "metadata": {
            "tags": []
          },
          "execution_count": 39
        }
      ]
    },
    {
      "metadata": {
        "id": "7ZUkaEa9BFMY",
        "colab_type": "code",
        "colab": {
          "autoexec": {
            "startup": false,
            "wait_interval": 0
          },
          "output_extras": [
            {
              "item_id": 1
            }
          ],
          "base_uri": "https://localhost:8080/",
          "height": 34
        },
        "outputId": "9c11bb0f-b5fc-4e17-a2b6-2c1b5f95714a",
        "executionInfo": {
          "status": "ok",
          "timestamp": 1521744130208,
          "user_tz": 240,
          "elapsed": 257,
          "user": {
            "displayName": "Adityi Jain",
            "photoUrl": "//lh4.googleusercontent.com/-Oendzrm2UYs/AAAAAAAAAAI/AAAAAAAABVI/KLJBHKIpiMo/s50-c-k-no/photo.jpg",
            "userId": "113461199095791330828"
          }
        }
      },
      "cell_type": "code",
      "source": [
        "F1_dt = round(f1_score(y_test, y_pred_dt1, average= 'weighted'),5)\n",
        "print(F1_dt)"
      ],
      "execution_count": 84,
      "outputs": [
        {
          "output_type": "stream",
          "text": [
            "0.30189\n"
          ],
          "name": "stdout"
        }
      ]
    },
    {
      "metadata": {
        "id": "D2vp-JJZrS37",
        "colab_type": "code",
        "colab": {
          "autoexec": {
            "startup": false,
            "wait_interval": 0
          }
        }
      },
      "cell_type": "code",
      "source": [
        "grid_obj2 = GridSearchCV(clf, param_grid, scoring=\"f1_weighted\")"
      ],
      "execution_count": 0,
      "outputs": []
    },
    {
      "metadata": {
        "id": "7MLZyciQsL0N",
        "colab_type": "code",
        "colab": {
          "autoexec": {
            "startup": false,
            "wait_interval": 0
          }
        }
      },
      "cell_type": "code",
      "source": [
        "grid_fit2 = grid_obj2.fit(X_train_dtm_2, y_train)"
      ],
      "execution_count": 0,
      "outputs": []
    },
    {
      "metadata": {
        "id": "0rRlPPOGsLwg",
        "colab_type": "code",
        "colab": {
          "autoexec": {
            "startup": false,
            "wait_interval": 0
          }
        }
      },
      "cell_type": "code",
      "source": [
        "grid_best_2 = grid_fit2.best_params_"
      ],
      "execution_count": 0,
      "outputs": []
    },
    {
      "metadata": {
        "id": "goPEImLmsLtT",
        "colab_type": "code",
        "colab": {
          "autoexec": {
            "startup": false,
            "wait_interval": 0
          },
          "output_extras": [
            {
              "item_id": 1
            }
          ],
          "base_uri": "https://localhost:8080/",
          "height": 34
        },
        "outputId": "4afad097-f851-4594-d8ea-78ad8f964421",
        "executionInfo": {
          "status": "ok",
          "timestamp": 1521741419383,
          "user_tz": 240,
          "elapsed": 281,
          "user": {
            "displayName": "Adityi Jain",
            "photoUrl": "//lh4.googleusercontent.com/-Oendzrm2UYs/AAAAAAAAAAI/AAAAAAAABVI/KLJBHKIpiMo/s50-c-k-no/photo.jpg",
            "userId": "113461199095791330828"
          }
        }
      },
      "cell_type": "code",
      "source": [
        "\n",
        "print(grid_best_2)"
      ],
      "execution_count": 43,
      "outputs": [
        {
          "output_type": "stream",
          "text": [
            "{'max_depth': 50, 'min_samples_leaf': 5, 'min_samples_split': 5}\n"
          ],
          "name": "stdout"
        }
      ]
    },
    {
      "metadata": {
        "id": "0kt1WyLFsLpg",
        "colab_type": "code",
        "colab": {
          "autoexec": {
            "startup": false,
            "wait_interval": 0
          }
        }
      },
      "cell_type": "code",
      "source": [
        "grid_best_obj2 = grid_fit2.best_estimator_\n",
        "# model classifier with best estimated parameters for biigram"
      ],
      "execution_count": 0,
      "outputs": []
    },
    {
      "metadata": {
        "id": "ZnNkNq1SsLm0",
        "colab_type": "code",
        "colab": {
          "autoexec": {
            "startup": false,
            "wait_interval": 0
          }
        }
      },
      "cell_type": "code",
      "source": [
        "y_pred_dt2 = grid_best_obj2.predict(X_test_dtm_2)"
      ],
      "execution_count": 0,
      "outputs": []
    },
    {
      "metadata": {
        "id": "vLGV-zZgsLlA",
        "colab_type": "code",
        "colab": {
          "autoexec": {
            "startup": false,
            "wait_interval": 0
          },
          "output_extras": [
            {
              "item_id": 1
            }
          ],
          "base_uri": "https://localhost:8080/",
          "height": 34
        },
        "outputId": "59816f33-3d6d-4639-b65d-0269e6315c92",
        "executionInfo": {
          "status": "ok",
          "timestamp": 1521741420785,
          "user_tz": 240,
          "elapsed": 329,
          "user": {
            "displayName": "Adityi Jain",
            "photoUrl": "//lh4.googleusercontent.com/-Oendzrm2UYs/AAAAAAAAAAI/AAAAAAAABVI/KLJBHKIpiMo/s50-c-k-no/photo.jpg",
            "userId": "113461199095791330828"
          }
        }
      },
      "cell_type": "code",
      "source": [
        "# F1 score for biigram DT\n",
        "f1_score(y_test, y_pred_dt2, average= 'weighted')"
      ],
      "execution_count": 46,
      "outputs": [
        {
          "output_type": "execute_result",
          "data": {
            "text/plain": [
              "0.2731088994775998"
            ]
          },
          "metadata": {
            "tags": []
          },
          "execution_count": 46
        }
      ]
    },
    {
      "metadata": {
        "id": "2SoicNToBO-q",
        "colab_type": "code",
        "colab": {
          "autoexec": {
            "startup": false,
            "wait_interval": 0
          },
          "output_extras": [
            {
              "item_id": 1
            }
          ],
          "base_uri": "https://localhost:8080/",
          "height": 34
        },
        "outputId": "d03fc6ac-00ba-4ed1-9049-7001bac26516",
        "executionInfo": {
          "status": "ok",
          "timestamp": 1521744168589,
          "user_tz": 240,
          "elapsed": 235,
          "user": {
            "displayName": "Adityi Jain",
            "photoUrl": "//lh4.googleusercontent.com/-Oendzrm2UYs/AAAAAAAAAAI/AAAAAAAABVI/KLJBHKIpiMo/s50-c-k-no/photo.jpg",
            "userId": "113461199095791330828"
          }
        }
      },
      "cell_type": "code",
      "source": [
        "F2_dt = round(f1_score(y_test, y_pred_dt2, average= 'weighted'),5)\n",
        "print(F2_dt)"
      ],
      "execution_count": 85,
      "outputs": [
        {
          "output_type": "stream",
          "text": [
            "0.27311\n"
          ],
          "name": "stdout"
        }
      ]
    },
    {
      "metadata": {
        "id": "0kfq05I_sLhF",
        "colab_type": "code",
        "colab": {
          "autoexec": {
            "startup": false,
            "wait_interval": 0
          }
        }
      },
      "cell_type": "code",
      "source": [
        "# SUPPORT VECTOR MACHINES\n",
        "from sklearn import svm\n",
        "clf = svm.SVC(class_weight=\"balanced\")\n",
        "param_grid = {'C': [0.1,1,4,6,8,10,11,12], \n",
        "          'kernel': ['linear','rbf'],\n",
        "         \"gamma\":[0.001, 0.01, 0.1, 1]}\n",
        "\n",
        "\n",
        "grid_obj1 = GridSearchCV(clf, param_grid, scoring=\"f1_weighted\")"
      ],
      "execution_count": 0,
      "outputs": []
    },
    {
      "metadata": {
        "id": "V6zJIzPUsLez",
        "colab_type": "code",
        "colab": {
          "autoexec": {
            "startup": false,
            "wait_interval": 0
          }
        }
      },
      "cell_type": "code",
      "source": [
        "grid_fit1 = grid_obj1.fit(X_train_dtm, y_train)"
      ],
      "execution_count": 0,
      "outputs": []
    },
    {
      "metadata": {
        "id": "CN1Xp7H9sLbl",
        "colab_type": "code",
        "colab": {
          "autoexec": {
            "startup": false,
            "wait_interval": 0
          },
          "output_extras": [
            {
              "item_id": 1
            }
          ],
          "base_uri": "https://localhost:8080/",
          "height": 34
        },
        "outputId": "e5d51e02-1e4d-491d-bba4-fd9165504127",
        "executionInfo": {
          "status": "ok",
          "timestamp": 1521741639901,
          "user_tz": 240,
          "elapsed": 271,
          "user": {
            "displayName": "Adityi Jain",
            "photoUrl": "//lh4.googleusercontent.com/-Oendzrm2UYs/AAAAAAAAAAI/AAAAAAAABVI/KLJBHKIpiMo/s50-c-k-no/photo.jpg",
            "userId": "113461199095791330828"
          }
        }
      },
      "cell_type": "code",
      "source": [
        "grid_fit1.best_params_"
      ],
      "execution_count": 49,
      "outputs": [
        {
          "output_type": "execute_result",
          "data": {
            "text/plain": [
              "{'C': 4, 'gamma': 0.001, 'kernel': 'linear'}"
            ]
          },
          "metadata": {
            "tags": []
          },
          "execution_count": 49
        }
      ]
    },
    {
      "metadata": {
        "id": "eMKCX7qwsLYd",
        "colab_type": "code",
        "colab": {
          "autoexec": {
            "startup": false,
            "wait_interval": 0
          }
        }
      },
      "cell_type": "code",
      "source": [
        "grid_best_obj1 = grid_fit1.best_estimator_\n",
        "# model classifier with best estimated parameters for unigram"
      ],
      "execution_count": 0,
      "outputs": []
    },
    {
      "metadata": {
        "id": "qPJZ5mzKsLVW",
        "colab_type": "code",
        "colab": {
          "autoexec": {
            "startup": false,
            "wait_interval": 0
          }
        }
      },
      "cell_type": "code",
      "source": [
        "y_pred_svm = grid_best_obj1.predict(X_test_dtm)"
      ],
      "execution_count": 0,
      "outputs": []
    },
    {
      "metadata": {
        "id": "IZmi0kQ-xXBz",
        "colab_type": "code",
        "colab": {
          "autoexec": {
            "startup": false,
            "wait_interval": 0
          },
          "output_extras": [
            {
              "item_id": 1
            }
          ],
          "base_uri": "https://localhost:8080/",
          "height": 34
        },
        "outputId": "a15d1716-f6e1-4377-a374-10c0c8d12de9",
        "executionInfo": {
          "status": "ok",
          "timestamp": 1521741641595,
          "user_tz": 240,
          "elapsed": 272,
          "user": {
            "displayName": "Adityi Jain",
            "photoUrl": "//lh4.googleusercontent.com/-Oendzrm2UYs/AAAAAAAAAAI/AAAAAAAABVI/KLJBHKIpiMo/s50-c-k-no/photo.jpg",
            "userId": "113461199095791330828"
          }
        }
      },
      "cell_type": "code",
      "source": [
        "# F1 score for unigram SVM\n",
        "f1_score(y_test, y_pred_svm, average= 'weighted')"
      ],
      "execution_count": 52,
      "outputs": [
        {
          "output_type": "execute_result",
          "data": {
            "text/plain": [
              "0.41382111590021203"
            ]
          },
          "metadata": {
            "tags": []
          },
          "execution_count": 52
        }
      ]
    },
    {
      "metadata": {
        "id": "Yiaoa-rNBXrY",
        "colab_type": "code",
        "colab": {
          "autoexec": {
            "startup": false,
            "wait_interval": 0
          },
          "output_extras": [
            {
              "item_id": 1
            }
          ],
          "base_uri": "https://localhost:8080/",
          "height": 34
        },
        "outputId": "280ed60c-6209-460a-84d3-85ea78fd0902",
        "executionInfo": {
          "status": "ok",
          "timestamp": 1521744213958,
          "user_tz": 240,
          "elapsed": 362,
          "user": {
            "displayName": "Adityi Jain",
            "photoUrl": "//lh4.googleusercontent.com/-Oendzrm2UYs/AAAAAAAAAAI/AAAAAAAABVI/KLJBHKIpiMo/s50-c-k-no/photo.jpg",
            "userId": "113461199095791330828"
          }
        }
      },
      "cell_type": "code",
      "source": [
        "F1_svm = round(f1_score(y_test, y_pred_svm, average= 'weighted'),5)\n",
        "print(F1_svm)"
      ],
      "execution_count": 86,
      "outputs": [
        {
          "output_type": "stream",
          "text": [
            "0.41382\n"
          ],
          "name": "stdout"
        }
      ]
    },
    {
      "metadata": {
        "id": "kidMnDFexgmN",
        "colab_type": "code",
        "colab": {
          "autoexec": {
            "startup": false,
            "wait_interval": 0
          }
        }
      },
      "cell_type": "code",
      "source": [
        "grid_fit2 = grid_obj1.fit(X_train_dtm_2, y_train)"
      ],
      "execution_count": 0,
      "outputs": []
    },
    {
      "metadata": {
        "id": "iLgCUQobxneS",
        "colab_type": "code",
        "colab": {
          "autoexec": {
            "startup": false,
            "wait_interval": 0
          },
          "output_extras": [
            {
              "item_id": 1
            }
          ],
          "base_uri": "https://localhost:8080/",
          "height": 34
        },
        "outputId": "9cf1deda-3f59-4ee8-ee4b-9c2aedbcf99a",
        "executionInfo": {
          "status": "ok",
          "timestamp": 1521741968180,
          "user_tz": 240,
          "elapsed": 266,
          "user": {
            "displayName": "Adityi Jain",
            "photoUrl": "//lh4.googleusercontent.com/-Oendzrm2UYs/AAAAAAAAAAI/AAAAAAAABVI/KLJBHKIpiMo/s50-c-k-no/photo.jpg",
            "userId": "113461199095791330828"
          }
        }
      },
      "cell_type": "code",
      "source": [
        "grid_fit2.best_params_"
      ],
      "execution_count": 54,
      "outputs": [
        {
          "output_type": "execute_result",
          "data": {
            "text/plain": [
              "{'C': 4, 'gamma': 0.001, 'kernel': 'linear'}"
            ]
          },
          "metadata": {
            "tags": []
          },
          "execution_count": 54
        }
      ]
    },
    {
      "metadata": {
        "id": "rsJaMZoxxtu6",
        "colab_type": "code",
        "colab": {
          "autoexec": {
            "startup": false,
            "wait_interval": 0
          }
        }
      },
      "cell_type": "code",
      "source": [
        "grid_best_obj2 = grid_fit2.best_estimator_\n",
        "# model classifier with best estimated parameters for biigram"
      ],
      "execution_count": 0,
      "outputs": []
    },
    {
      "metadata": {
        "id": "GKdHW0Vuxwt-",
        "colab_type": "code",
        "colab": {
          "autoexec": {
            "startup": false,
            "wait_interval": 0
          }
        }
      },
      "cell_type": "code",
      "source": [
        "y_pred_svm2 = grid_best_obj2.predict(X_test_dtm_2)"
      ],
      "execution_count": 0,
      "outputs": []
    },
    {
      "metadata": {
        "id": "lc4j2iJnx5HS",
        "colab_type": "code",
        "colab": {
          "autoexec": {
            "startup": false,
            "wait_interval": 0
          },
          "output_extras": [
            {
              "item_id": 1
            }
          ],
          "base_uri": "https://localhost:8080/",
          "height": 34
        },
        "outputId": "3ee62b41-80c8-451e-cfc5-d19db3d8bfe2",
        "executionInfo": {
          "status": "ok",
          "timestamp": 1521741969919,
          "user_tz": 240,
          "elapsed": 256,
          "user": {
            "displayName": "Adityi Jain",
            "photoUrl": "//lh4.googleusercontent.com/-Oendzrm2UYs/AAAAAAAAAAI/AAAAAAAABVI/KLJBHKIpiMo/s50-c-k-no/photo.jpg",
            "userId": "113461199095791330828"
          }
        }
      },
      "cell_type": "code",
      "source": [
        "# F1 score for biigram SVM\n",
        "f1_score(y_test, y_pred_svm2, average= 'weighted')"
      ],
      "execution_count": 57,
      "outputs": [
        {
          "output_type": "execute_result",
          "data": {
            "text/plain": [
              "0.3996828264669445"
            ]
          },
          "metadata": {
            "tags": []
          },
          "execution_count": 57
        }
      ]
    },
    {
      "metadata": {
        "id": "0qtKIVviBhX-",
        "colab_type": "code",
        "colab": {
          "autoexec": {
            "startup": false,
            "wait_interval": 0
          },
          "output_extras": [
            {
              "item_id": 1
            }
          ],
          "base_uri": "https://localhost:8080/",
          "height": 34
        },
        "outputId": "a1bf1a06-4857-4888-ec0a-8393ada50ebe",
        "executionInfo": {
          "status": "ok",
          "timestamp": 1521744239444,
          "user_tz": 240,
          "elapsed": 298,
          "user": {
            "displayName": "Adityi Jain",
            "photoUrl": "//lh4.googleusercontent.com/-Oendzrm2UYs/AAAAAAAAAAI/AAAAAAAABVI/KLJBHKIpiMo/s50-c-k-no/photo.jpg",
            "userId": "113461199095791330828"
          }
        }
      },
      "cell_type": "code",
      "source": [
        "F2_svm = round(f1_score(y_test, y_pred_svm2, average= 'weighted'),5)\n",
        "print(F2_svm)"
      ],
      "execution_count": 88,
      "outputs": [
        {
          "output_type": "stream",
          "text": [
            "0.39968\n"
          ],
          "name": "stdout"
        }
      ]
    },
    {
      "metadata": {
        "id": "z2kyER7wyacP",
        "colab_type": "code",
        "colab": {
          "autoexec": {
            "startup": false,
            "wait_interval": 0
          }
        }
      },
      "cell_type": "code",
      "source": [
        "# RANDOM FOREST CLASSIFICATION\n",
        "from sklearn.grid_search import GridSearchCV\n",
        "from sklearn.metrics import make_scorer\n",
        "from sklearn.ensemble import RandomForestClassifier\n",
        "param_grid = {'max_depth': [10, 20, 40, 50, 60,None],\n",
        " 'min_samples_leaf': [1, 2, 4],\n",
        " 'min_samples_split': [2, 5, 10],\n",
        " 'n_estimators': [20, 50, 100, 200]}\n",
        "clf = RandomForestClassifier(class_weight=\"balanced\")\n",
        "\n",
        "grid_obj1 = GridSearchCV(clf, param_grid, scoring=\"f1_weighted\")"
      ],
      "execution_count": 0,
      "outputs": []
    },
    {
      "metadata": {
        "id": "9WV4jr--yaYw",
        "colab_type": "code",
        "colab": {
          "autoexec": {
            "startup": false,
            "wait_interval": 0
          }
        }
      },
      "cell_type": "code",
      "source": [
        "grid_fit1 = grid_obj1.fit(X_train_dtm, y_train)"
      ],
      "execution_count": 0,
      "outputs": []
    },
    {
      "metadata": {
        "id": "3YaWFS4XyaVt",
        "colab_type": "code",
        "colab": {
          "autoexec": {
            "startup": false,
            "wait_interval": 0
          }
        }
      },
      "cell_type": "code",
      "source": [
        "grid_best_1 = grid_fit1.best_params_"
      ],
      "execution_count": 0,
      "outputs": []
    },
    {
      "metadata": {
        "id": "aM2RhdIeyaSO",
        "colab_type": "code",
        "colab": {
          "autoexec": {
            "startup": false,
            "wait_interval": 0
          },
          "output_extras": [
            {
              "item_id": 1
            }
          ],
          "base_uri": "https://localhost:8080/",
          "height": 34
        },
        "outputId": "5d5bb80b-0f28-4ba4-8ede-df5a6c228420",
        "executionInfo": {
          "status": "ok",
          "timestamp": 1521742315476,
          "user_tz": 240,
          "elapsed": 326,
          "user": {
            "displayName": "Adityi Jain",
            "photoUrl": "//lh4.googleusercontent.com/-Oendzrm2UYs/AAAAAAAAAAI/AAAAAAAABVI/KLJBHKIpiMo/s50-c-k-no/photo.jpg",
            "userId": "113461199095791330828"
          }
        }
      },
      "cell_type": "code",
      "source": [
        "print(grid_best_1)"
      ],
      "execution_count": 61,
      "outputs": [
        {
          "output_type": "stream",
          "text": [
            "{'max_depth': 60, 'min_samples_leaf': 4, 'min_samples_split': 5, 'n_estimators': 200}\n"
          ],
          "name": "stdout"
        }
      ]
    },
    {
      "metadata": {
        "id": "LdDdhr7zyaPP",
        "colab_type": "code",
        "colab": {
          "autoexec": {
            "startup": false,
            "wait_interval": 0
          }
        }
      },
      "cell_type": "code",
      "source": [
        "grid_best_obj1 = grid_fit1.best_estimator_"
      ],
      "execution_count": 0,
      "outputs": []
    },
    {
      "metadata": {
        "id": "C614MfJYyaLj",
        "colab_type": "code",
        "colab": {
          "autoexec": {
            "startup": false,
            "wait_interval": 0
          }
        }
      },
      "cell_type": "code",
      "source": [
        "y_pred_rf = grid_best_obj1.predict(X_test_dtm)"
      ],
      "execution_count": 0,
      "outputs": []
    },
    {
      "metadata": {
        "id": "l6J2hBgKyaIR",
        "colab_type": "code",
        "colab": {
          "autoexec": {
            "startup": false,
            "wait_interval": 0
          },
          "output_extras": [
            {
              "item_id": 1
            }
          ],
          "base_uri": "https://localhost:8080/",
          "height": 34
        },
        "outputId": "8e457b84-d1bf-4dd0-db90-91bb774dad56",
        "executionInfo": {
          "status": "ok",
          "timestamp": 1521742316685,
          "user_tz": 240,
          "elapsed": 268,
          "user": {
            "displayName": "Adityi Jain",
            "photoUrl": "//lh4.googleusercontent.com/-Oendzrm2UYs/AAAAAAAAAAI/AAAAAAAABVI/KLJBHKIpiMo/s50-c-k-no/photo.jpg",
            "userId": "113461199095791330828"
          }
        }
      },
      "cell_type": "code",
      "source": [
        "# F1 score for unigram RF\n",
        "f1_score(y_test, y_pred_rf, average= 'weighted')"
      ],
      "execution_count": 64,
      "outputs": [
        {
          "output_type": "execute_result",
          "data": {
            "text/plain": [
              "0.4104230864616098"
            ]
          },
          "metadata": {
            "tags": []
          },
          "execution_count": 64
        }
      ]
    },
    {
      "metadata": {
        "id": "SrC_APRdBp1d",
        "colab_type": "code",
        "colab": {
          "autoexec": {
            "startup": false,
            "wait_interval": 0
          },
          "output_extras": [
            {
              "item_id": 1
            }
          ],
          "base_uri": "https://localhost:8080/",
          "height": 34
        },
        "outputId": "c78677b8-4ef2-416a-c35b-874458cf78de",
        "executionInfo": {
          "status": "ok",
          "timestamp": 1521744277575,
          "user_tz": 240,
          "elapsed": 237,
          "user": {
            "displayName": "Adityi Jain",
            "photoUrl": "//lh4.googleusercontent.com/-Oendzrm2UYs/AAAAAAAAAAI/AAAAAAAABVI/KLJBHKIpiMo/s50-c-k-no/photo.jpg",
            "userId": "113461199095791330828"
          }
        }
      },
      "cell_type": "code",
      "source": [
        "F1_rf = round(f1_score(y_test, y_pred_rf, average= 'weighted'),5)\n",
        "print(F1_rf)"
      ],
      "execution_count": 89,
      "outputs": [
        {
          "output_type": "stream",
          "text": [
            "0.41042\n"
          ],
          "name": "stdout"
        }
      ]
    },
    {
      "metadata": {
        "id": "7v0hvfFtyaEq",
        "colab_type": "code",
        "colab": {
          "autoexec": {
            "startup": false,
            "wait_interval": 0
          }
        }
      },
      "cell_type": "code",
      "source": [
        "grid_fit2 = grid_obj1.fit(X_train_dtm_2, y_train)"
      ],
      "execution_count": 0,
      "outputs": []
    },
    {
      "metadata": {
        "id": "0Cx2AD-ByZ-x",
        "colab_type": "code",
        "colab": {
          "autoexec": {
            "startup": false,
            "wait_interval": 0
          }
        }
      },
      "cell_type": "code",
      "source": [
        "grid_best_2 = grid_fit2.best_params_"
      ],
      "execution_count": 0,
      "outputs": []
    },
    {
      "metadata": {
        "id": "GAhKa1aXyZ8N",
        "colab_type": "code",
        "colab": {
          "autoexec": {
            "startup": false,
            "wait_interval": 0
          },
          "output_extras": [
            {
              "item_id": 1
            }
          ],
          "base_uri": "https://localhost:8080/",
          "height": 34
        },
        "outputId": "4d862d16-806b-4bdd-d7b3-29ef88ac825f",
        "executionInfo": {
          "status": "ok",
          "timestamp": 1521743019280,
          "user_tz": 240,
          "elapsed": 278,
          "user": {
            "displayName": "Adityi Jain",
            "photoUrl": "//lh4.googleusercontent.com/-Oendzrm2UYs/AAAAAAAAAAI/AAAAAAAABVI/KLJBHKIpiMo/s50-c-k-no/photo.jpg",
            "userId": "113461199095791330828"
          }
        }
      },
      "cell_type": "code",
      "source": [
        "print(grid_best_2)"
      ],
      "execution_count": 67,
      "outputs": [
        {
          "output_type": "stream",
          "text": [
            "{'max_depth': 50, 'min_samples_leaf': 2, 'min_samples_split': 2, 'n_estimators': 200}\n"
          ],
          "name": "stdout"
        }
      ]
    },
    {
      "metadata": {
        "id": "eE8AQDMEyZ2j",
        "colab_type": "code",
        "colab": {
          "autoexec": {
            "startup": false,
            "wait_interval": 0
          }
        }
      },
      "cell_type": "code",
      "source": [
        "grid_best_obj2 = grid_fit2.best_estimator_"
      ],
      "execution_count": 0,
      "outputs": []
    },
    {
      "metadata": {
        "id": "0sWNjPizyZzP",
        "colab_type": "code",
        "colab": {
          "autoexec": {
            "startup": false,
            "wait_interval": 0
          }
        }
      },
      "cell_type": "code",
      "source": [
        "y_pred_rf2 = grid_best_obj2.predict(X_test_dtm_2)"
      ],
      "execution_count": 0,
      "outputs": []
    },
    {
      "metadata": {
        "id": "ojLaXxfGyZp1",
        "colab_type": "code",
        "colab": {
          "autoexec": {
            "startup": false,
            "wait_interval": 0
          },
          "output_extras": [
            {
              "item_id": 1
            }
          ],
          "base_uri": "https://localhost:8080/",
          "height": 34
        },
        "outputId": "ad4b8e33-47ee-4c93-89fb-8819ab1c8d8e",
        "executionInfo": {
          "status": "ok",
          "timestamp": 1521743020342,
          "user_tz": 240,
          "elapsed": 424,
          "user": {
            "displayName": "Adityi Jain",
            "photoUrl": "//lh4.googleusercontent.com/-Oendzrm2UYs/AAAAAAAAAAI/AAAAAAAABVI/KLJBHKIpiMo/s50-c-k-no/photo.jpg",
            "userId": "113461199095791330828"
          }
        }
      },
      "cell_type": "code",
      "source": [
        "# F1 score for bigram RF\n",
        "f1_score(y_test, y_pred_rf2, average= 'weighted')"
      ],
      "execution_count": 70,
      "outputs": [
        {
          "output_type": "execute_result",
          "data": {
            "text/plain": [
              "0.4281300564773036"
            ]
          },
          "metadata": {
            "tags": []
          },
          "execution_count": 70
        }
      ]
    },
    {
      "metadata": {
        "id": "ylMtQsz_Bwzx",
        "colab_type": "code",
        "colab": {
          "autoexec": {
            "startup": false,
            "wait_interval": 0
          },
          "output_extras": [
            {
              "item_id": 1
            }
          ],
          "base_uri": "https://localhost:8080/",
          "height": 34
        },
        "outputId": "89df242a-1957-4bcd-cccd-80bf553a666a",
        "executionInfo": {
          "status": "ok",
          "timestamp": 1521744296980,
          "user_tz": 240,
          "elapsed": 247,
          "user": {
            "displayName": "Adityi Jain",
            "photoUrl": "//lh4.googleusercontent.com/-Oendzrm2UYs/AAAAAAAAAAI/AAAAAAAABVI/KLJBHKIpiMo/s50-c-k-no/photo.jpg",
            "userId": "113461199095791330828"
          }
        }
      },
      "cell_type": "code",
      "source": [
        "F2_rf = round(f1_score(y_test, y_pred_rf2, average= 'weighted'),5)\n",
        "print(F2_rf)"
      ],
      "execution_count": 90,
      "outputs": [
        {
          "output_type": "stream",
          "text": [
            "0.42813\n"
          ],
          "name": "stdout"
        }
      ]
    },
    {
      "metadata": {
        "id": "6OE6F-e5yZmh",
        "colab_type": "code",
        "colab": {
          "autoexec": {
            "startup": false,
            "wait_interval": 0
          },
          "output_extras": [
            {
              "item_id": 1
            },
            {
              "item_id": 2
            }
          ],
          "base_uri": "https://localhost:8080/",
          "height": 379
        },
        "outputId": "059b66b3-599a-48aa-8b2d-c818c1371ebb",
        "executionInfo": {
          "status": "ok",
          "timestamp": 1521744515229,
          "user_tz": 240,
          "elapsed": 544,
          "user": {
            "displayName": "Adityi Jain",
            "photoUrl": "//lh4.googleusercontent.com/-Oendzrm2UYs/AAAAAAAAAAI/AAAAAAAABVI/KLJBHKIpiMo/s50-c-k-no/photo.jpg",
            "userId": "113461199095791330828"
          }
        }
      },
      "cell_type": "code",
      "source": [
        "import numpy as np\n",
        "import matplotlib.pyplot as plt\n",
        " \n",
        "# data to plot\n",
        "n_groups = 5\n",
        "F1_Score_unigram = (F1_nb, F1_lr, F1_dt, F1_svm, F1_rf)\n",
        "F1_Score_bigram = (F2_nb, F2_lr, F2_dt, F2_svm, F2_rf)\n",
        " \n",
        "# create plot\n",
        "fig, ax = plt.subplots()\n",
        "index = np.arange(n_groups)\n",
        "bar_width = 0.25\n",
        "opacity = 0.8\n",
        " \n",
        "rects1 = plt.bar(index, F1_Score_unigram, bar_width,\n",
        "                 alpha=opacity,\n",
        "                 color='r',\n",
        "                 label='F1_unigram')\n",
        " \n",
        "rects2 = plt.bar(index + bar_width, F1_Score_bigram, bar_width,\n",
        "                 alpha=opacity,\n",
        "                 color='b',\n",
        "                 label='F1_bigram')\n",
        " \n",
        "plt.xlabel('Type of Classfication model')\n",
        "plt.ylabel('Scores')\n",
        "plt.title('')\n",
        "plt.xticks(index + bar_width, ('NB', 'LR', 'DT', 'SVM', \"RF\"))\n",
        "plt.legend()"
      ],
      "execution_count": 93,
      "outputs": [
        {
          "output_type": "execute_result",
          "data": {
            "text/plain": [
              "<matplotlib.legend.Legend at 0x7fceea622be0>"
            ]
          },
          "metadata": {
            "tags": []
          },
          "execution_count": 93
        },
        {
          "output_type": "display_data",
          "data": {
            "image/png": "[encoded data removed]",
            "text/plain": [
              "<matplotlib.figure.Figure at 0x7fceea622c88>"
            ]
          },
          "metadata": {
            "tags": []
          }
        }
      ]
    },
    {
      "metadata": {
        "id": "n_tQJa6VyZiR",
        "colab_type": "code",
        "colab": {
          "autoexec": {
            "startup": false,
            "wait_interval": 0
          }
        }
      },
      "cell_type": "code",
      "source": [
        ""
      ],
      "execution_count": 0,
      "outputs": []
    },
    {
      "metadata": {
        "id": "pUOrWGfCyZfE",
        "colab_type": "code",
        "colab": {
          "autoexec": {
            "startup": false,
            "wait_interval": 0
          }
        }
      },
      "cell_type": "code",
      "source": [
        ""
      ],
      "execution_count": 0,
      "outputs": []
    },
    {
      "metadata": {
        "id": "cSRxnVpOyZcB",
        "colab_type": "code",
        "colab": {
          "autoexec": {
            "startup": false,
            "wait_interval": 0
          }
        }
      },
      "cell_type": "code",
      "source": [
        ""
      ],
      "execution_count": 0,
      "outputs": []
    },
    {
      "metadata": {
        "id": "6nmyujRdyZZS",
        "colab_type": "code",
        "colab": {
          "autoexec": {
            "startup": false,
            "wait_interval": 0
          }
        }
      },
      "cell_type": "code",
      "source": [
        ""
      ],
      "execution_count": 0,
      "outputs": []
    },
    {
      "metadata": {
        "id": "EVfrXJ8TyZUN",
        "colab_type": "code",
        "colab": {
          "autoexec": {
            "startup": false,
            "wait_interval": 0
          }
        }
      },
      "cell_type": "code",
      "source": [
        ""
      ],
      "execution_count": 0,
      "outputs": []
    },
    {
      "metadata": {
        "id": "54Tvt0qEyZMr",
        "colab_type": "code",
        "colab": {
          "autoexec": {
            "startup": false,
            "wait_interval": 0
          }
        }
      },
      "cell_type": "code",
      "source": [
        ""
      ],
      "execution_count": 0,
      "outputs": []
    }
  ]
}