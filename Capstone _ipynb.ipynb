{
  "nbformat": 4,
  "nbformat_minor": 0,
  "metadata": {
    "colab": {
      "name": "Capstone.ipynb",
      "version": "0.3.2",
      "views": {},
      "default_view": {},
      "provenance": [],
      "collapsed_sections": []
    },
    "kernelspec": {
      "name": "python3",
      "display_name": "Python 3"
    }
  },
  "cells": [
    {
      "metadata": {
        "id": "0X0fa-zm34Wx",
        "colab_type": "code",
        "colab": {
          "autoexec": {
            "startup": false,
            "wait_interval": 0
          }
        },
        "cellView": "form"
      },
      "cell_type": "code",
      "source": [
        "#@title LOADING OF THE DATA\n"
      ],
      "execution_count": 0,
      "outputs": []
    },
    {
      "metadata": {
        "id": "xFdJVcTItai6",
        "colab_type": "code",
        "colab": {
          "autoexec": {
            "startup": false,
            "wait_interval": 0
          }
        }
      },
      "cell_type": "code",
      "source": [
        "!pip install -U -q PyDrive\n",
        "\n",
        "from pydrive.auth import GoogleAuth\n",
        "from pydrive.drive import GoogleDrive\n",
        "from google.colab import auth\n",
        "from oauth2client.client import GoogleCredentials\n",
        "\n",
        "# 1. Authenticate and create the PyDrive client.\n",
        "# The project was made on google colab\n",
        "auth.authenticate_user()\n",
        "\n",
        "gauth = GoogleAuth()\n",
        "gauth.credentials = GoogleCredentials.get_application_default()\n",
        "drive = GoogleDrive(gauth)\n"
      ],
      "execution_count": 0,
      "outputs": []
    },
    {
      "metadata": {
        "id": "vTEIM1bst5iB",
        "colab_type": "code",
        "colab": {
          "autoexec": {
            "startup": false,
            "wait_interval": 0
          },
          "output_extras": [
            {
              "item_id": 1
            }
          ],
          "base_uri": "https://localhost:8080/",
          "height": 332
        },
        "outputId": "2106cbf3-f8c4-4418-cf50-e5240569a55c",
        "executionInfo": {
          "status": "ok",
          "timestamp": 1522385129217,
          "user_tz": 240,
          "elapsed": 979,
          "user": {
            "displayName": "Adityi Jain",
            "photoUrl": "//lh4.googleusercontent.com/-Oendzrm2UYs/AAAAAAAAAAI/AAAAAAAABVI/KLJBHKIpiMo/s50-c-k-no/photo.jpg",
            "userId": "113461199095791330828"
          }
        }
      },
      "cell_type": "code",
      "source": [
        "file_list = drive.ListFile({'q': \"'root' in parents and trashed=false\"}).GetList()\n",
        "for file1 in file_list:\n",
        "  print('title: %s, id: %s' % (file1['title'], file1['id']))\n",
        "\n",
        "  "
      ],
      "execution_count": 8,
      "outputs": [
        {
          "output_type": "stream",
          "text": [
            "title: CAPSTONE_PROJECT_REPORT\t\t\t\t\t\t\t\t\t\t\t\t\t, id: 1Ou2Wivec5g14fxbM2mLDmo-XmXwvq7d8TONmsnG3eUU\n",
            "title: Untitled document, id: 1t_DcPlIczfg95-a_VHjQoXrMt7BRZzSSSlGtYK0l6xs\n",
            "title: yelp_review_1.csv, id: 1Pb-HyMgtDS7YLKy4fvHTmijQ8e5btxhf\n",
            "title: assignment2_final.ipynb, id: 1bUcuXQXc7yxQJp3syyV1SKQrXhkyh5Pd\n",
            "title: assignment2_final.ipynb, id: 1BzTVuxNs89te-CweYhAmmvAsoyJUVKyy\n",
            "title: assignment2.ipynb, id: 1GgWimMgPEgfs5yK0wPE9ldZTOaDQIx7T\n",
            "title: assignment2, id: 1GQ42YnoJY06wW6Boe6Md7hmX2mGcsCTv\n",
            "title: TwitterAPIadnauseam.ipynb, id: 17CEE7esgukbxdksSofGcn0xtZLiCQL9z\n",
            "title: Colab Notebooks, id: 1ifvtXVHfqG_RStAHTvCKFxq_EIVndFdI\n",
            "title: Untitled0.ipynb, id: 1eao2LiZo6_CjDu8Fc7NRN4uXuFEX-tQK\n",
            "title: Pics, id: 0B4Z5tSBhDSLqWnNGc2pCU3loakE\n",
            "title: DSC_3425.JPG, id: 0B4Z5tSBhDSLqcTA2MWpkMVR4Zjg\n",
            "title: mobile pics, id: 0B4Z5tSBhDSLqNmdYeWhUNGVmS3c\n",
            "title: DSC_1395.jpg, id: 0B4Z5tSBhDSLqUHZ2cHRzdXZ2NE0\n",
            "title: DSC_1393.jpg, id: 0B4Z5tSBhDSLqWnI3WXY2bTJiU3c\n",
            "title: DSC_1392.jpg, id: 0B4Z5tSBhDSLqbkVzOExfQThMS1E\n",
            "title: novofest, id: 0B4Z5tSBhDSLqflpZUy1XLWdNY3BsNlM3QkRyOHpMSHNGd0htb2NUb0gxTzhhVmJjZ29rN00\n"
          ],
          "name": "stdout"
        }
      ]
    },
    {
      "metadata": {
        "id": "kp3_KCey2RBz",
        "colab_type": "code",
        "colab": {
          "autoexec": {
            "startup": false,
            "wait_interval": 0
          },
          "output_extras": [
            {
              "item_id": 1
            }
          ],
          "base_uri": "https://localhost:8080/",
          "height": 34
        },
        "outputId": "d24ce861-e2be-439a-dff1-35dacec2adb1",
        "executionInfo": {
          "status": "ok",
          "timestamp": 1522385134217,
          "user_tz": 240,
          "elapsed": 561,
          "user": {
            "displayName": "Adityi Jain",
            "photoUrl": "//lh4.googleusercontent.com/-Oendzrm2UYs/AAAAAAAAAAI/AAAAAAAABVI/KLJBHKIpiMo/s50-c-k-no/photo.jpg",
            "userId": "113461199095791330828"
          }
        }
      },
      "cell_type": "code",
      "source": [
        "file2 = drive.CreateFile({'id': \"1Pb-HyMgtDS7YLKy4fvHTmijQ8e5btxhf\"})\n",
        "print('title: %s, mimeType: %s' % (file2['title'], file2['mimeType']))"
      ],
      "execution_count": 9,
      "outputs": [
        {
          "output_type": "stream",
          "text": [
            "title: yelp_review_1.csv, mimeType: text/csv\n"
          ],
          "name": "stdout"
        }
      ]
    },
    {
      "metadata": {
        "id": "QtZJglFFt8rJ",
        "colab_type": "code",
        "colab": {
          "autoexec": {
            "startup": false,
            "wait_interval": 0
          }
        }
      },
      "cell_type": "code",
      "source": [
        "file2.GetContentFile('yelp_review.csv') "
      ],
      "execution_count": 0,
      "outputs": []
    },
    {
      "metadata": {
        "id": "IFZZv6e7t_7v",
        "colab_type": "code",
        "colab": {
          "autoexec": {
            "startup": false,
            "wait_interval": 0
          }
        }
      },
      "cell_type": "code",
      "source": [
        "# Step 0: Receiving and reading the file.\n",
        "import pandas as pd\n",
        "xyz = pd.read_csv('yelp_review.csv', nrows=200000)\n",
        "# due to huge data of 5.2 million reviews, I have selected 200 thousands reviews. "
      ],
      "execution_count": 0,
      "outputs": []
    },
    {
      "metadata": {
        "id": "r2J3dkV02bw_",
        "colab_type": "code",
        "colab": {
          "autoexec": {
            "startup": false,
            "wait_interval": 0
          },
          "output_extras": [
            {
              "item_id": 1
            }
          ],
          "base_uri": "https://localhost:8080/",
          "height": 34
        },
        "outputId": "6466e132-3f13-4cf2-af83-d0619b4ce790",
        "executionInfo": {
          "status": "ok",
          "timestamp": 1522385310988,
          "user_tz": 240,
          "elapsed": 606,
          "user": {
            "displayName": "Adityi Jain",
            "photoUrl": "//lh4.googleusercontent.com/-Oendzrm2UYs/AAAAAAAAAAI/AAAAAAAABVI/KLJBHKIpiMo/s50-c-k-no/photo.jpg",
            "userId": "113461199095791330828"
          }
        }
      },
      "cell_type": "code",
      "source": [
        "# The data has a total of 200000 rows and 9 columns\n",
        "xyz.head()\n",
        "xyz.shape\n",
        "\n"
      ],
      "execution_count": 13,
      "outputs": [
        {
          "output_type": "execute_result",
          "data": {
            "text/plain": [
              "(200000, 9)"
            ]
          },
          "metadata": {
            "tags": []
          },
          "execution_count": 13
        }
      ]
    },
    {
      "metadata": {
        "id": "1NBGWeef3zkM",
        "colab_type": "code",
        "colab": {
          "autoexec": {
            "startup": false,
            "wait_interval": 0
          },
          "output_extras": [
            {
              "item_id": 1
            }
          ],
          "base_uri": "https://localhost:8080/",
          "height": 202
        },
        "outputId": "ad03ce2b-e5ca-4920-b9b4-05179cde7eea",
        "executionInfo": {
          "status": "ok",
          "timestamp": 1522385312845,
          "user_tz": 240,
          "elapsed": 469,
          "user": {
            "displayName": "Adityi Jain",
            "photoUrl": "//lh4.googleusercontent.com/-Oendzrm2UYs/AAAAAAAAAAI/AAAAAAAABVI/KLJBHKIpiMo/s50-c-k-no/photo.jpg",
            "userId": "113461199095791330828"
          }
        }
      },
      "cell_type": "code",
      "source": [
        "# taking relevant columns from the reviews, which is text related to reviews and corresponding rating in stars.\n",
        "review = xyz[['text', 'stars']]\n",
        "review.head()"
      ],
      "execution_count": 14,
      "outputs": [
        {
          "output_type": "execute_result",
          "data": {
            "text/html": [
              "<div>\n",
              "<style scoped>\n",
              "    .dataframe tbody tr th:only-of-type {\n",
              "        vertical-align: middle;\n",
              "    }\n",
              "\n",
              "    .dataframe tbody tr th {\n",
              "        vertical-align: top;\n",
              "    }\n",
              "\n",
              "    .dataframe thead th {\n",
              "        text-align: right;\n",
              "    }\n",
              "</style>\n",
              "<table border=\"1\" class=\"dataframe\">\n",
              "  <thead>\n",
              "    <tr style=\"text-align: right;\">\n",
              "      <th></th>\n",
              "      <th>text</th>\n",
              "      <th>stars</th>\n",
              "    </tr>\n",
              "  </thead>\n",
              "  <tbody>\n",
              "    <tr>\n",
              "      <th>0</th>\n",
              "      <td>Super simple place but amazing nonetheless. It...</td>\n",
              "      <td>5</td>\n",
              "    </tr>\n",
              "    <tr>\n",
              "      <th>1</th>\n",
              "      <td>Small unassuming place that changes their menu...</td>\n",
              "      <td>5</td>\n",
              "    </tr>\n",
              "    <tr>\n",
              "      <th>2</th>\n",
              "      <td>Lester's is located in a beautiful neighborhoo...</td>\n",
              "      <td>5</td>\n",
              "    </tr>\n",
              "    <tr>\n",
              "      <th>3</th>\n",
              "      <td>Love coming here. Yes the place always needs t...</td>\n",
              "      <td>4</td>\n",
              "    </tr>\n",
              "    <tr>\n",
              "      <th>4</th>\n",
              "      <td>Had their chocolate almond croissant and it wa...</td>\n",
              "      <td>4</td>\n",
              "    </tr>\n",
              "  </tbody>\n",
              "</table>\n",
              "</div>"
            ],
            "text/plain": [
              "                                                text  stars\n",
              "0  Super simple place but amazing nonetheless. It...      5\n",
              "1  Small unassuming place that changes their menu...      5\n",
              "2  Lester's is located in a beautiful neighborhoo...      5\n",
              "3  Love coming here. Yes the place always needs t...      4\n",
              "4  Had their chocolate almond croissant and it wa...      4"
            ]
          },
          "metadata": {
            "tags": []
          },
          "execution_count": 14
        }
      ]
    },
    {
      "metadata": {
        "id": "JL9WAL5A-Ra1",
        "colab_type": "code",
        "colab": {
          "autoexec": {
            "startup": false,
            "wait_interval": 0
          }
        }
      },
      "cell_type": "code",
      "source": [
        ""
      ],
      "execution_count": 0,
      "outputs": []
    },
    {
      "metadata": {
        "id": "K4OA9_sRB0ae",
        "colab_type": "code",
        "colab": {
          "autoexec": {
            "startup": false,
            "wait_interval": 0
          },
          "output_extras": [
            {
              "item_id": 1
            }
          ],
          "base_uri": "https://localhost:8080/",
          "height": 121
        },
        "outputId": "075fa046-8b5f-4190-c8ac-58db4a906e3e",
        "executionInfo": {
          "status": "ok",
          "timestamp": 1522385317517,
          "user_tz": 240,
          "elapsed": 311,
          "user": {
            "displayName": "Adityi Jain",
            "photoUrl": "//lh4.googleusercontent.com/-Oendzrm2UYs/AAAAAAAAAAI/AAAAAAAABVI/KLJBHKIpiMo/s50-c-k-no/photo.jpg",
            "userId": "113461199095791330828"
          }
        }
      },
      "cell_type": "code",
      "source": [
        "# will help to check how many reviews are there per rating.\n",
        "review.stars.value_counts()"
      ],
      "execution_count": 15,
      "outputs": [
        {
          "output_type": "execute_result",
          "data": {
            "text/plain": [
              "5    86501\n",
              "4    46788\n",
              "1    27375\n",
              "3    22779\n",
              "2    16557\n",
              "Name: stars, dtype: int64"
            ]
          },
          "metadata": {
            "tags": []
          },
          "execution_count": 15
        }
      ]
    },
    {
      "metadata": {
        "id": "Ge_eVKcO_WoS",
        "colab_type": "code",
        "colab": {
          "autoexec": {
            "startup": false,
            "wait_interval": 0
          }
        }
      },
      "cell_type": "code",
      "source": [
        "# The distributin of the rating shows that the classes or output are highly imbalanced, with more number of reviews towards \n",
        "#higher ratings. The pie plot below gives the details."
      ],
      "execution_count": 0,
      "outputs": []
    },
    {
      "metadata": {
        "id": "hKDplIkI9zUD",
        "colab_type": "code",
        "colab": {
          "autoexec": {
            "startup": false,
            "wait_interval": 0
          },
          "output_extras": [
            {
              "item_id": 1
            }
          ],
          "base_uri": "https://localhost:8080/",
          "height": 401
        },
        "outputId": "48c0f8f8-2b06-4eb2-a1d8-f527ff921466",
        "executionInfo": {
          "status": "ok",
          "timestamp": 1522385340521,
          "user_tz": 240,
          "elapsed": 575,
          "user": {
            "displayName": "Adityi Jain",
            "photoUrl": "//lh4.googleusercontent.com/-Oendzrm2UYs/AAAAAAAAAAI/AAAAAAAABVI/KLJBHKIpiMo/s50-c-k-no/photo.jpg",
            "userId": "113461199095791330828"
          }
        }
      },
      "cell_type": "code",
      "source": [
        "import matplotlib.pyplot as plt\n",
        "\n",
        "# Pie chart\n",
        "labels = ['2 star', '3 star', '1 star', '4 star', \"5 star\"]\n",
        "sizes = [16557, 22779, 27375, 46788, 86501] \n",
        "fig1, ax1 = plt.subplots()\n",
        "ax1.pie(sizes, labels=labels, autopct='%1.1f%%',\n",
        "        shadow=True, startangle=90)\n",
        "# Equal aspect ratio ensures that pie is drawn as a circle\n",
        "ax1.axis('equal')  \n",
        "plt.tight_layout()\n",
        "plt.show()"
      ],
      "execution_count": 16,
      "outputs": [
        {
          "output_type": "display_data",
          "data": {
            "image/png": "[encoded data removed]",
            "text/plain": [
              "<matplotlib.figure.Figure at 0x7f6e407ff860>"
            ]
          },
          "metadata": {
            "tags": []
          }
        }
      ]
    },
    {
      "metadata": {
        "id": "T_6A5PbtCGNJ",
        "colab_type": "code",
        "colab": {
          "autoexec": {
            "startup": false,
            "wait_interval": 0
          },
          "output_extras": [
            {}
          ],
          "base_uri": "https://localhost:8080/",
          "height": 34
        },
        "outputId": "6ea3a81f-8d96-47f3-84a7-fc5d6435ab1f",
        "executionInfo": {
          "status": "ok",
          "timestamp": 1522089484151,
          "user_tz": 240,
          "elapsed": 367,
          "user": {
            "displayName": "Adityi Jain",
            "photoUrl": "//lh4.googleusercontent.com/-Oendzrm2UYs/AAAAAAAAAAI/AAAAAAAABVI/KLJBHKIpiMo/s50-c-k-no/photo.jpg",
            "userId": "113461199095791330828"
          }
        }
      },
      "cell_type": "code",
      "source": [
        "X = review[\"text\"]\n",
        "y = review.stars\n",
        "X.shape\n",
        "y.shape"
      ],
      "execution_count": 0,
      "outputs": [
        {
          "output_type": "execute_result",
          "data": {
            "text/plain": [
              "(200000,)"
            ]
          },
          "metadata": {
            "tags": []
          },
          "execution_count": 12
        }
      ]
    },
    {
      "metadata": {
        "id": "uz0-h8YIveBg",
        "colab_type": "code",
        "colab": {
          "autoexec": {
            "startup": false,
            "wait_interval": 0
          }
        },
        "cellView": "form"
      },
      "cell_type": "code",
      "source": [
        "#@title PREPROCESSING AND FEATURES EXTRACTION\n"
      ],
      "execution_count": 0,
      "outputs": []
    },
    {
      "metadata": {
        "id": "10Mdh5z9COqT",
        "colab_type": "code",
        "colab": {
          "autoexec": {
            "startup": false,
            "wait_interval": 0
          }
        }
      },
      "cell_type": "code",
      "source": [
        "#STEP 1/2: PREPROCESSING AND FEATURES EXTRACTION.\n",
        "#STEMMING OF DOC USING NLTK\n",
        "# Stemming is done so as to remove words which are of different tenses or with derivational affixes and hence it help to receive\n",
        "# root words. Liked playing/played are two different words with common stem play.\n",
        "# TfIdf vectorizer was used so that higher weightage is given to rare words and common words will be given less weightage.\n",
        "# Snowball stemmer was used for stemming and TFIDF vectorizer (combination of count vectorizer and TFIDF transformer\n",
        "# were used)\n",
        "\n",
        "from sklearn.feature_extraction.text import TfidfVectorizer\n",
        "import nltk.stem\n",
        "\n",
        "english_stemmer = nltk.stem.SnowballStemmer('english')\n",
        "class StemmedTfidfVectorizer(TfidfVectorizer):\n",
        "    def build_analyzer(self):\n",
        "        analyzer = super(StemmedTfidfVectorizer, self).build_analyzer()\n",
        "        return lambda doc: ([english_stemmer.stem(w) for w in analyzer(doc)])\n",
        "      # this code resulted in a function, StemmedTfidfVectorizer which will help to convert the text in features,\n",
        "      # which will combine the features of count vectorizer and TFIDF.\n"
      ],
      "execution_count": 0,
      "outputs": []
    },
    {
      "metadata": {
        "id": "2XHKry-pR_NF",
        "colab_type": "code",
        "colab": {
          "autoexec": {
            "startup": false,
            "wait_interval": 0
          }
        }
      },
      "cell_type": "code",
      "source": [
        "\n",
        "# WILL USE TF-IDF VECTORIZER, WHICH IS COMBINATION OF COUNT VECTORIZER AND TF IDF TRANSFORMER\n",
        "# preprocessing and feature extraction, with english used for stop words.\n",
        "# The data was devided into training and testing data in the ratio 75:25.\n",
        "from sklearn.model_selection import train_test_split\n",
        "\n",
        "X_train, X_test, y_train, y_test = train_test_split(X, y, test_size=0.25, random_state=5)\n",
        "\n",
        "#UNIGRAM\n",
        "vectorizer_1 = StemmedTfidfVectorizer(stop_words='english')"
      ],
      "execution_count": 0,
      "outputs": []
    },
    {
      "metadata": {
        "id": "MKRBoOVvsfBu",
        "colab_type": "code",
        "colab": {
          "autoexec": {
            "startup": false,
            "wait_interval": 0
          }
        }
      },
      "cell_type": "code",
      "source": [
        "X_train_dtm = vectorizer_1.fit_transform(X_train)\n",
        "#dtm is data term matrix\n",
        "#do fitting and transfrom in single step\n"
      ],
      "execution_count": 0,
      "outputs": []
    },
    {
      "metadata": {
        "id": "_7hc_JekEN7-",
        "colab_type": "code",
        "colab": {
          "autoexec": {
            "startup": false,
            "wait_interval": 0
          },
          "output_extras": [
            {}
          ],
          "base_uri": "https://localhost:8080/",
          "height": 34
        },
        "outputId": "68c23776-e9e1-4d51-84e4-52a9bf1bad19",
        "executionInfo": {
          "status": "ok",
          "timestamp": 1522089634027,
          "user_tz": 240,
          "elapsed": 486,
          "user": {
            "displayName": "Adityi Jain",
            "photoUrl": "//lh4.googleusercontent.com/-Oendzrm2UYs/AAAAAAAAAAI/AAAAAAAABVI/KLJBHKIpiMo/s50-c-k-no/photo.jpg",
            "userId": "113461199095791330828"
          }
        }
      },
      "cell_type": "code",
      "source": [
        "tokens = vectorizer_1.get_feature_names()\n",
        "print(len(tokens))\n",
        "# number of features in unigram"
      ],
      "execution_count": 0,
      "outputs": [
        {
          "output_type": "stream",
          "text": [
            "81363\n"
          ],
          "name": "stdout"
        }
      ]
    },
    {
      "metadata": {
        "id": "dw0Wy9wHxT87",
        "colab_type": "code",
        "colab": {
          "autoexec": {
            "startup": false,
            "wait_interval": 0
          }
        }
      },
      "cell_type": "code",
      "source": [
        "X_test_dtm = vectorizer_1.transform(X_test)\n",
        "# This will convert the test data into features, without fitting."
      ],
      "execution_count": 0,
      "outputs": []
    },
    {
      "metadata": {
        "id": "la-Vf44u6k4A",
        "colab_type": "code",
        "colab": {
          "autoexec": {
            "startup": false,
            "wait_interval": 0
          }
        }
      },
      "cell_type": "code",
      "source": [
        "# REPEATING WITH BIGRAM METHOD\n",
        "# Bigram will make pair of words, like \"very good\", \"very bad\" instead of treating a single word as a feature. This will help\n",
        "# to increase the accuracy. Example: \"I love food from dosa grill\", its unigram would be \"I\", \"love\", \"food\" , \"from\", \"dosa\"\n",
        "#\"grill\", while boigram will be: \"I love\" \"love food\", \"food from\", \"from dosa\", \"dosa grill\". So this one will have combination\n",
        "#of both single words and paired words\n",
        "vectorizer_2 =  StemmedTfidfVectorizer(stop_words=\"english\", ngram_range=(1,2))\n",
        "X_train_dtm_2 = vectorizer_2.fit_transform(X_train)\n"
      ],
      "execution_count": 0,
      "outputs": []
    },
    {
      "metadata": {
        "id": "Q9m4K9Oy-RSh",
        "colab_type": "code",
        "colab": {
          "autoexec": {
            "startup": false,
            "wait_interval": 0
          },
          "output_extras": [
            {}
          ],
          "base_uri": "https://localhost:8080/",
          "height": 34
        },
        "outputId": "c0c41a99-2e77-4957-efdb-64e0059ec70c",
        "executionInfo": {
          "status": "ok",
          "timestamp": 1522090098309,
          "user_tz": 240,
          "elapsed": 5633,
          "user": {
            "displayName": "Adityi Jain",
            "photoUrl": "//lh4.googleusercontent.com/-Oendzrm2UYs/AAAAAAAAAAI/AAAAAAAABVI/KLJBHKIpiMo/s50-c-k-no/photo.jpg",
            "userId": "113461199095791330828"
          }
        }
      },
      "cell_type": "code",
      "source": [
        "tokens_2 = vectorizer_2.get_feature_names()\n",
        "print(len(tokens_2))\n",
        "#number of features in bigram"
      ],
      "execution_count": 0,
      "outputs": [
        {
          "output_type": "stream",
          "text": [
            "2849324\n"
          ],
          "name": "stdout"
        }
      ]
    },
    {
      "metadata": {
        "id": "ZWkxvMM5-RPB",
        "colab_type": "code",
        "colab": {
          "autoexec": {
            "startup": false,
            "wait_interval": 0
          }
        }
      },
      "cell_type": "code",
      "source": [
        "\n",
        "X_test_dtm_2 = vectorizer_2.transform(X_test)"
      ],
      "execution_count": 0,
      "outputs": []
    },
    {
      "metadata": {
        "id": "cSDqMbIh-RMd",
        "colab_type": "code",
        "colab": {
          "autoexec": {
            "startup": false,
            "wait_interval": 0
          },
          "output_extras": [
            {}
          ],
          "base_uri": "https://localhost:8080/",
          "height": 54
        },
        "outputId": "2b939d7c-820e-401d-b70e-5175e0c415a1",
        "executionInfo": {
          "status": "ok",
          "timestamp": 1522090305979,
          "user_tz": 240,
          "elapsed": 337,
          "user": {
            "displayName": "Adityi Jain",
            "photoUrl": "//lh4.googleusercontent.com/-Oendzrm2UYs/AAAAAAAAAAI/AAAAAAAABVI/KLJBHKIpiMo/s50-c-k-no/photo.jpg",
            "userId": "113461199095791330828"
          }
        }
      },
      "cell_type": "code",
      "source": [
        "print(tokens_2[200000:200059])"
      ],
      "execution_count": 0,
      "outputs": [
        {
          "output_type": "stream",
          "text": [
            "['bag 25', 'bag 30', 'bag 3rd', 'bag 48hr', 'bag 50', 'bag 60', 'bag 600', 'bag 75', 'bag 99', 'bag abercrombi', 'bag absurd', 'bag accessori', 'bag accus', 'bag actu', 'bag ad', 'bag adjust', 'bag adv', 'bag afterward', 'bag ag', 'bag aliant', 'bag alleg', 'bag allegi', 'bag almond', 'bag amaz', 'bag amen', 'bag anxi', 'bag apolog', 'bag appear', 'bag appet', 'bag appl', 'bag approach', 'bag area', 'bag arriv', 'bag ask', 'bag ass', 'bag assassin', 'bag assort', 'bag athletet', 'bag attach', 'bag attempt', 'bag authent', 'bag avail', 'bag avocado', 'bag aw', 'bag away', 'bag awesom', 'bag babi', 'bag bad', 'bag bag', 'bag bagel', 'bag bak', 'bag balaclava', 'bag bar', 'bag barbequ', 'bag bargain', 'bag bas', 'bag bean', 'bag beef', 'bag beer']\n"
          ],
          "name": "stdout"
        }
      ]
    },
    {
      "metadata": {
        "id": "BIIPqSy5vm7g",
        "colab_type": "code",
        "colab": {
          "autoexec": {
            "startup": false,
            "wait_interval": 0
          }
        },
        "cellView": "form"
      },
      "cell_type": "code",
      "source": [
        "#@title SUPERVISED LEARNING/ EVALUATION\n"
      ],
      "execution_count": 0,
      "outputs": []
    },
    {
      "metadata": {
        "id": "5kOemMzXKlYf",
        "colab_type": "code",
        "colab": {
          "autoexec": {
            "startup": false,
            "wait_interval": 0
          },
          "output_extras": [
            {}
          ],
          "base_uri": "https://localhost:8080/",
          "height": 34
        },
        "outputId": "fa625e26-37ab-4dc0-a571-06143c5bf8a5",
        "executionInfo": {
          "status": "ok",
          "timestamp": 1522090309917,
          "user_tz": 240,
          "elapsed": 316,
          "user": {
            "displayName": "Adityi Jain",
            "photoUrl": "//lh4.googleusercontent.com/-Oendzrm2UYs/AAAAAAAAAAI/AAAAAAAABVI/KLJBHKIpiMo/s50-c-k-no/photo.jpg",
            "userId": "113461199095791330828"
          }
        }
      },
      "cell_type": "code",
      "source": [
        "#STEP 3: SUPERVISED LEARNING/ EVALUATION\n",
        "# MULTINOMIAL NAIVE BAYES\n",
        "import warnings\n",
        "warnings.filterwarnings('ignore')\n",
        "from sklearn.naive_bayes import MultinomialNB\n",
        "nb1 = MultinomialNB()\n",
        "\n",
        "nb1.fit(X_train_dtm, y_train)\n",
        "#fitting for naives on unigram\n",
        "\n"
      ],
      "execution_count": 0,
      "outputs": [
        {
          "output_type": "execute_result",
          "data": {
            "text/plain": [
              "MultinomialNB(alpha=1.0, class_prior=None, fit_prior=True)"
            ]
          },
          "metadata": {
            "tags": []
          },
          "execution_count": 25
        }
      ]
    },
    {
      "metadata": {
        "id": "Smt9djvm6ZQo",
        "colab_type": "code",
        "colab": {
          "autoexec": {
            "startup": false,
            "wait_interval": 0
          },
          "output_extras": [
            {}
          ],
          "base_uri": "https://localhost:8080/",
          "height": 34
        },
        "outputId": "6e05afc0-d0f1-4008-dd6a-12a72944217b",
        "executionInfo": {
          "status": "ok",
          "timestamp": 1522090313406,
          "user_tz": 240,
          "elapsed": 1166,
          "user": {
            "displayName": "Adityi Jain",
            "photoUrl": "//lh4.googleusercontent.com/-Oendzrm2UYs/AAAAAAAAAAI/AAAAAAAABVI/KLJBHKIpiMo/s50-c-k-no/photo.jpg",
            "userId": "113461199095791330828"
          }
        }
      },
      "cell_type": "code",
      "source": [
        "nb2 = MultinomialNB()\n",
        "nb2.fit(X_train_dtm_2, y_train)"
      ],
      "execution_count": 0,
      "outputs": [
        {
          "output_type": "execute_result",
          "data": {
            "text/plain": [
              "MultinomialNB(alpha=1.0, class_prior=None, fit_prior=True)"
            ]
          },
          "metadata": {
            "tags": []
          },
          "execution_count": 26
        }
      ]
    },
    {
      "metadata": {
        "id": "r30cuVwI5eq_",
        "colab_type": "code",
        "colab": {
          "autoexec": {
            "startup": false,
            "wait_interval": 0
          }
        }
      },
      "cell_type": "code",
      "source": [
        "y_pred_nb1 = nb1.predict(X_test_dtm)\n",
        "# predicting for unigram\n"
      ],
      "execution_count": 0,
      "outputs": []
    },
    {
      "metadata": {
        "id": "FQ-eFAtL6bVR",
        "colab_type": "code",
        "colab": {
          "autoexec": {
            "startup": false,
            "wait_interval": 0
          }
        }
      },
      "cell_type": "code",
      "source": [
        "y_pred_nb2 = nb2.predict(X_test_dtm_2)\n",
        "# Predicting for bigram"
      ],
      "execution_count": 0,
      "outputs": []
    },
    {
      "metadata": {
        "id": "H92NOZiq5q-M",
        "colab_type": "code",
        "colab": {
          "autoexec": {
            "startup": false,
            "wait_interval": 0
          },
          "output_extras": [
            {}
          ],
          "base_uri": "https://localhost:8080/",
          "height": 34
        },
        "outputId": "1f934ab6-18fa-4d2d-d58f-3f0de04c4e4e",
        "executionInfo": {
          "status": "ok",
          "timestamp": 1522090317377,
          "user_tz": 240,
          "elapsed": 322,
          "user": {
            "displayName": "Adityi Jain",
            "photoUrl": "//lh4.googleusercontent.com/-Oendzrm2UYs/AAAAAAAAAAI/AAAAAAAABVI/KLJBHKIpiMo/s50-c-k-no/photo.jpg",
            "userId": "113461199095791330828"
          }
        }
      },
      "cell_type": "code",
      "source": [
        "#F1 score for unigram NB\n",
        "f1_score(y_test, y_pred_nb1, average= 'weighted')\n"
      ],
      "execution_count": 0,
      "outputs": [
        {
          "output_type": "execute_result",
          "data": {
            "text/plain": [
              "0.43847600823977745"
            ]
          },
          "metadata": {
            "tags": []
          },
          "execution_count": 29
        }
      ]
    },
    {
      "metadata": {
        "id": "ddZ5L3dbscrM",
        "colab_type": "code",
        "colab": {
          "autoexec": {
            "startup": false,
            "wait_interval": 0
          }
        },
        "cellView": "code"
      },
      "cell_type": "code",
      "source": [
        "\n",
        "F1_nb = round(f1_score(y_test, y_pred_nb1, average= 'weighted'),5)\n",
        "print(F1_nb)"
      ],
      "execution_count": 0,
      "outputs": []
    },
    {
      "metadata": {
        "id": "GKjufNZa5ydV",
        "colab_type": "code",
        "colab": {
          "autoexec": {
            "startup": false,
            "wait_interval": 0
          },
          "output_extras": [
            {}
          ],
          "base_uri": "https://localhost:8080/",
          "height": 34
        },
        "outputId": "5b4541da-76ca-44ce-84db-404ca4841a59",
        "executionInfo": {
          "status": "ok",
          "timestamp": 1522090320470,
          "user_tz": 240,
          "elapsed": 303,
          "user": {
            "displayName": "Adityi Jain",
            "photoUrl": "//lh4.googleusercontent.com/-Oendzrm2UYs/AAAAAAAAAAI/AAAAAAAABVI/KLJBHKIpiMo/s50-c-k-no/photo.jpg",
            "userId": "113461199095791330828"
          }
        }
      },
      "cell_type": "code",
      "source": [
        "# F1 score for bigram NB\n",
        "# to ignore warning due to classes with no predictions made\n",
        "from sklearn.metrics import f1_score\n",
        "f1_score(y_test, y_pred_nb2, average= 'weighted')\n"
      ],
      "execution_count": 0,
      "outputs": [
        {
          "output_type": "execute_result",
          "data": {
            "text/plain": [
              "0.28645948412433225"
            ]
          },
          "metadata": {
            "tags": []
          },
          "execution_count": 31
        }
      ]
    },
    {
      "metadata": {
        "id": "VBZ_UHNCAW4S",
        "colab_type": "code",
        "colab": {
          "autoexec": {
            "startup": false,
            "wait_interval": 0
          },
          "output_extras": [
            {}
          ],
          "base_uri": "https://localhost:8080/",
          "height": 34
        },
        "outputId": "4a117fcd-7dad-4983-b0ab-77f033e0ed80",
        "executionInfo": {
          "status": "ok",
          "timestamp": 1522090321756,
          "user_tz": 240,
          "elapsed": 321,
          "user": {
            "displayName": "Adityi Jain",
            "photoUrl": "//lh4.googleusercontent.com/-Oendzrm2UYs/AAAAAAAAAAI/AAAAAAAABVI/KLJBHKIpiMo/s50-c-k-no/photo.jpg",
            "userId": "113461199095791330828"
          }
        }
      },
      "cell_type": "code",
      "source": [
        "F2_nb = round(f1_score(y_test, y_pred_nb2, average= 'weighted'),5)\n",
        "print(F2_nb)"
      ],
      "execution_count": 0,
      "outputs": [
        {
          "output_type": "stream",
          "text": [
            "0.28646\n"
          ],
          "name": "stdout"
        }
      ]
    },
    {
      "metadata": {
        "id": "LCLGYEd051G0",
        "colab_type": "code",
        "colab": {
          "autoexec": {
            "startup": false,
            "wait_interval": 0
          },
          "output_extras": [
            {}
          ],
          "base_uri": "https://localhost:8080/",
          "height": 87
        },
        "outputId": "22bee5aa-b462-4cdf-ff78-a5dbe90c7d3e",
        "executionInfo": {
          "status": "ok",
          "timestamp": 1522090356111,
          "user_tz": 240,
          "elapsed": 33373,
          "user": {
            "displayName": "Adityi Jain",
            "photoUrl": "//lh4.googleusercontent.com/-Oendzrm2UYs/AAAAAAAAAAI/AAAAAAAABVI/KLJBHKIpiMo/s50-c-k-no/photo.jpg",
            "userId": "113461199095791330828"
          }
        }
      },
      "cell_type": "code",
      "source": [
        "# LOGISTIC REGRESSION\n",
        "from sklearn.linear_model import LogisticRegression\n",
        "lr1 = LogisticRegression(class_weight='balanced')\n",
        "lr1.fit(X_train_dtm, y_train)\n",
        "#class weight balanced was used so that it can give proper results for unbalanced class outputs.\n",
        "\n"
      ],
      "execution_count": 0,
      "outputs": [
        {
          "output_type": "execute_result",
          "data": {
            "text/plain": [
              "LogisticRegression(C=1.0, class_weight='balanced', dual=False,\n",
              "          fit_intercept=True, intercept_scaling=1, max_iter=100,\n",
              "          multi_class='ovr', n_jobs=1, penalty='l2', random_state=None,\n",
              "          solver='liblinear', tol=0.0001, verbose=0, warm_start=False)"
            ]
          },
          "metadata": {
            "tags": []
          },
          "execution_count": 33
        }
      ]
    },
    {
      "metadata": {
        "id": "YhbNJZuEA0AN",
        "colab_type": "code",
        "colab": {
          "autoexec": {
            "startup": false,
            "wait_interval": 0
          }
        }
      },
      "cell_type": "code",
      "source": [
        "#predicting for unigram\n",
        "y_pred_lr1 = lr1.predict(X_test_dtm)"
      ],
      "execution_count": 0,
      "outputs": []
    },
    {
      "metadata": {
        "id": "uP0fhuPR1gNw",
        "colab_type": "code",
        "colab": {
          "autoexec": {
            "startup": false,
            "wait_interval": 0
          },
          "output_extras": [
            {}
          ],
          "base_uri": "https://localhost:8080/",
          "height": 87
        },
        "outputId": "8c922124-e784-48b4-c7b4-d021accdb77c",
        "executionInfo": {
          "status": "ok",
          "timestamp": 1522090437367,
          "user_tz": 240,
          "elapsed": 78099,
          "user": {
            "displayName": "Adityi Jain",
            "photoUrl": "//lh4.googleusercontent.com/-Oendzrm2UYs/AAAAAAAAAAI/AAAAAAAABVI/KLJBHKIpiMo/s50-c-k-no/photo.jpg",
            "userId": "113461199095791330828"
          }
        }
      },
      "cell_type": "code",
      "source": [
        "lr2 = LogisticRegression(class_weight='balanced')\n",
        "lr2.fit(X_train_dtm_2, y_train)"
      ],
      "execution_count": 0,
      "outputs": [
        {
          "output_type": "execute_result",
          "data": {
            "text/plain": [
              "LogisticRegression(C=1.0, class_weight='balanced', dual=False,\n",
              "          fit_intercept=True, intercept_scaling=1, max_iter=100,\n",
              "          multi_class='ovr', n_jobs=1, penalty='l2', random_state=None,\n",
              "          solver='liblinear', tol=0.0001, verbose=0, warm_start=False)"
            ]
          },
          "metadata": {
            "tags": []
          },
          "execution_count": 35
        }
      ]
    },
    {
      "metadata": {
        "id": "-sxXbA_R1lh5",
        "colab_type": "code",
        "colab": {
          "autoexec": {
            "startup": false,
            "wait_interval": 0
          }
        }
      },
      "cell_type": "code",
      "source": [
        "y_pred_lr2 = lr2.predict(X_test_dtm_2)"
      ],
      "execution_count": 0,
      "outputs": []
    },
    {
      "metadata": {
        "id": "e9eZQqau2P6M",
        "colab_type": "code",
        "colab": {
          "autoexec": {
            "startup": false,
            "wait_interval": 0
          },
          "output_extras": [
            {}
          ],
          "base_uri": "https://localhost:8080/",
          "height": 34
        },
        "outputId": "bda84be8-2d0f-4b26-83a3-25e7c05b03cc",
        "executionInfo": {
          "status": "ok",
          "timestamp": 1522090438241,
          "user_tz": 240,
          "elapsed": 305,
          "user": {
            "displayName": "Adityi Jain",
            "photoUrl": "//lh4.googleusercontent.com/-Oendzrm2UYs/AAAAAAAAAAI/AAAAAAAABVI/KLJBHKIpiMo/s50-c-k-no/photo.jpg",
            "userId": "113461199095791330828"
          }
        }
      },
      "cell_type": "code",
      "source": [
        "# F1 score for unigram LR\n",
        "f1_score(y_test, y_pred_lr1, average= 'weighted')"
      ],
      "execution_count": 0,
      "outputs": [
        {
          "output_type": "execute_result",
          "data": {
            "text/plain": [
              "0.6380637428163922"
            ]
          },
          "metadata": {
            "tags": []
          },
          "execution_count": 37
        }
      ]
    },
    {
      "metadata": {
        "id": "NfYIN1dvAlMV",
        "colab_type": "code",
        "colab": {
          "autoexec": {
            "startup": false,
            "wait_interval": 0
          },
          "output_extras": [
            {}
          ],
          "base_uri": "https://localhost:8080/",
          "height": 34
        },
        "outputId": "61bce539-5c35-486f-c97a-f815472c83b4",
        "executionInfo": {
          "status": "ok",
          "timestamp": 1522090448827,
          "user_tz": 240,
          "elapsed": 305,
          "user": {
            "displayName": "Adityi Jain",
            "photoUrl": "//lh4.googleusercontent.com/-Oendzrm2UYs/AAAAAAAAAAI/AAAAAAAABVI/KLJBHKIpiMo/s50-c-k-no/photo.jpg",
            "userId": "113461199095791330828"
          }
        }
      },
      "cell_type": "code",
      "source": [
        "F1_lr = round(f1_score(y_test, y_pred_lr1, average= 'weighted'),5)\n",
        "print(F1_lr)"
      ],
      "execution_count": 0,
      "outputs": [
        {
          "output_type": "stream",
          "text": [
            "0.63806\n"
          ],
          "name": "stdout"
        }
      ]
    },
    {
      "metadata": {
        "id": "9hQdau202aTH",
        "colab_type": "code",
        "colab": {
          "autoexec": {
            "startup": false,
            "wait_interval": 0
          },
          "output_extras": [
            {}
          ],
          "base_uri": "https://localhost:8080/",
          "height": 34
        },
        "outputId": "65ad1e36-77e6-481c-aa29-7e0fe7aaf3a0",
        "executionInfo": {
          "status": "ok",
          "timestamp": 1522090450133,
          "user_tz": 240,
          "elapsed": 313,
          "user": {
            "displayName": "Adityi Jain",
            "photoUrl": "//lh4.googleusercontent.com/-Oendzrm2UYs/AAAAAAAAAAI/AAAAAAAABVI/KLJBHKIpiMo/s50-c-k-no/photo.jpg",
            "userId": "113461199095791330828"
          }
        }
      },
      "cell_type": "code",
      "source": [
        "# F1 score for bigram LR\n",
        "f1_score(y_test, y_pred_lr2, average= 'weighted')"
      ],
      "execution_count": 0,
      "outputs": [
        {
          "output_type": "execute_result",
          "data": {
            "text/plain": [
              "0.6486225428994348"
            ]
          },
          "metadata": {
            "tags": []
          },
          "execution_count": 39
        }
      ]
    },
    {
      "metadata": {
        "id": "IeyNW-t_AxJ6",
        "colab_type": "code",
        "colab": {
          "autoexec": {
            "startup": false,
            "wait_interval": 0
          },
          "output_extras": [
            {}
          ],
          "base_uri": "https://localhost:8080/",
          "height": 34
        },
        "outputId": "a0e60556-5340-4357-9881-931f07f1e299",
        "executionInfo": {
          "status": "ok",
          "timestamp": 1522090451603,
          "user_tz": 240,
          "elapsed": 408,
          "user": {
            "displayName": "Adityi Jain",
            "photoUrl": "//lh4.googleusercontent.com/-Oendzrm2UYs/AAAAAAAAAAI/AAAAAAAABVI/KLJBHKIpiMo/s50-c-k-no/photo.jpg",
            "userId": "113461199095791330828"
          }
        }
      },
      "cell_type": "code",
      "source": [
        "F2_lr = round(f1_score(y_test, y_pred_lr2, average= 'weighted'),5)\n",
        "print(F2_lr)"
      ],
      "execution_count": 0,
      "outputs": [
        {
          "output_type": "stream",
          "text": [
            "0.64862\n"
          ],
          "name": "stdout"
        }
      ]
    },
    {
      "metadata": {
        "id": "gs1CTRGA2eRF",
        "colab_type": "code",
        "colab": {
          "autoexec": {
            "startup": false,
            "wait_interval": 0
          }
        }
      },
      "cell_type": "code",
      "source": [
        "# DECISION TREE CLASSIFIER\n",
        "from sklearn.tree import DecisionTreeClassifier\n",
        "from sklearn.grid_search import GridSearchCV\n",
        "\n",
        "param_grid = {'max_depth': [10, 20, 40, 50],\n",
        " 'min_samples_leaf': [5,10,15],\n",
        " 'min_samples_split': [5,10,15]}\n",
        "clf = DecisionTreeClassifier(class_weight=\"balanced\")\n"
      ],
      "execution_count": 0,
      "outputs": []
    },
    {
      "metadata": {
        "id": "kQdlObrQrH-M",
        "colab_type": "code",
        "colab": {
          "autoexec": {
            "startup": false,
            "wait_interval": 0
          }
        }
      },
      "cell_type": "code",
      "source": [
        "grid_obj1 = GridSearchCV(clf, param_grid, scoring=\"f1_weighted\", verbose=10)"
      ],
      "execution_count": 0,
      "outputs": []
    },
    {
      "metadata": {
        "id": "gztQK95IVSwb",
        "colab_type": "code",
        "colab": {
          "autoexec": {
            "startup": false,
            "wait_interval": 0
          },
          "output_extras": [
            {},
            {},
            {},
            {},
            {},
            {},
            {},
            {},
            {},
            {},
            {},
            {},
            {},
            {},
            {},
            {},
            {},
            {},
            {},
            {},
            {},
            {}
          ],
          "base_uri": "https://localhost:8080/",
          "height": 4012
        },
        "outputId": "2efc0026-b72d-4b4d-d78b-86359a4b41bd",
        "executionInfo": {
          "status": "ok",
          "timestamp": 1522098202885,
          "user_tz": 240,
          "elapsed": 7720421,
          "user": {
            "displayName": "Adityi Jain",
            "photoUrl": "//lh4.googleusercontent.com/-Oendzrm2UYs/AAAAAAAAAAI/AAAAAAAABVI/KLJBHKIpiMo/s50-c-k-no/photo.jpg",
            "userId": "113461199095791330828"
          }
        }
      },
      "cell_type": "code",
      "source": [
        "grid_fit1 = grid_obj1.fit(X_train_dtm, y_train)"
      ],
      "execution_count": 0,
      "outputs": [
        {
          "output_type": "stream",
          "text": [
            "Fitting 3 folds for each of 36 candidates, totalling 108 fits\n",
            "[CV] max_depth=10, min_samples_leaf=5, min_samples_split=5 ...........\n",
            "[CV]  max_depth=10, min_samples_leaf=5, min_samples_split=5, score=0.413793 -  16.3s\n",
            "[CV] max_depth=10, min_samples_leaf=5, min_samples_split=5 ...........\n"
          ],
          "name": "stdout"
        },
        {
          "output_type": "stream",
          "text": [
            "[Parallel(n_jobs=1)]: Done   1 out of   1 | elapsed:   16.3s remaining:    0.0s\n"
          ],
          "name": "stderr"
        },
        {
          "output_type": "stream",
          "text": [
            "[CV]  max_depth=10, min_samples_leaf=5, min_samples_split=5, score=0.412216 -  17.0s\n",
            "[CV] max_depth=10, min_samples_leaf=5, min_samples_split=5 ...........\n"
          ],
          "name": "stdout"
        },
        {
          "output_type": "stream",
          "text": [
            "[Parallel(n_jobs=1)]: Done   2 out of   2 | elapsed:   33.3s remaining:    0.0s\n"
          ],
          "name": "stderr"
        },
        {
          "output_type": "stream",
          "text": [
            "[CV]  max_depth=10, min_samples_leaf=5, min_samples_split=5, score=0.409210 -  17.3s\n",
            "[CV] max_depth=10, min_samples_leaf=5, min_samples_split=10 ..........\n"
          ],
          "name": "stdout"
        },
        {
          "output_type": "stream",
          "text": [
            "[Parallel(n_jobs=1)]: Done   3 out of   3 | elapsed:   50.7s remaining:    0.0s\n"
          ],
          "name": "stderr"
        },
        {
          "output_type": "stream",
          "text": [
            "[CV]  max_depth=10, min_samples_leaf=5, min_samples_split=10, score=0.413800 -  16.6s\n",
            "[CV] max_depth=10, min_samples_leaf=5, min_samples_split=10 ..........\n"
          ],
          "name": "stdout"
        },
        {
          "output_type": "stream",
          "text": [
            "[Parallel(n_jobs=1)]: Done   4 out of   4 | elapsed:  1.1min remaining:    0.0s\n"
          ],
          "name": "stderr"
        },
        {
          "output_type": "stream",
          "text": [
            "[CV]  max_depth=10, min_samples_leaf=5, min_samples_split=10, score=0.412272 -  17.2s\n",
            "[CV] max_depth=10, min_samples_leaf=5, min_samples_split=10 ..........\n"
          ],
          "name": "stdout"
        },
        {
          "output_type": "stream",
          "text": [
            "[Parallel(n_jobs=1)]: Done   5 out of   5 | elapsed:  1.4min remaining:    0.0s\n"
          ],
          "name": "stderr"
        },
        {
          "output_type": "stream",
          "text": [
            "[CV]  max_depth=10, min_samples_leaf=5, min_samples_split=10, score=0.409650 -  17.3s\n",
            "[CV] max_depth=10, min_samples_leaf=5, min_samples_split=15 ..........\n"
          ],
          "name": "stdout"
        },
        {
          "output_type": "stream",
          "text": [
            "[Parallel(n_jobs=1)]: Done   6 out of   6 | elapsed:  1.7min remaining:    0.0s\n"
          ],
          "name": "stderr"
        },
        {
          "output_type": "stream",
          "text": [
            "[CV]  max_depth=10, min_samples_leaf=5, min_samples_split=15, score=0.413718 -  16.5s\n",
            "[CV] max_depth=10, min_samples_leaf=5, min_samples_split=15 ..........\n"
          ],
          "name": "stdout"
        },
        {
          "output_type": "stream",
          "text": [
            "[Parallel(n_jobs=1)]: Done   7 out of   7 | elapsed:  2.0min remaining:    0.0s\n"
          ],
          "name": "stderr"
        },
        {
          "output_type": "stream",
          "text": [
            "[CV]  max_depth=10, min_samples_leaf=5, min_samples_split=15, score=0.412256 -  16.6s\n",
            "[CV] max_depth=10, min_samples_leaf=5, min_samples_split=15 ..........\n"
          ],
          "name": "stdout"
        },
        {
          "output_type": "stream",
          "text": [
            "[Parallel(n_jobs=1)]: Done   8 out of   8 | elapsed:  2.2min remaining:    0.0s\n"
          ],
          "name": "stderr"
        },
        {
          "output_type": "stream",
          "text": [
            "[CV]  max_depth=10, min_samples_leaf=5, min_samples_split=15, score=0.409179 -  16.8s\n",
            "[CV] max_depth=10, min_samples_leaf=10, min_samples_split=5 ..........\n"
          ],
          "name": "stdout"
        },
        {
          "output_type": "stream",
          "text": [
            "[Parallel(n_jobs=1)]: Done   9 out of   9 | elapsed:  2.5min remaining:    0.0s\n"
          ],
          "name": "stderr"
        },
        {
          "output_type": "stream",
          "text": [
            "[CV]  max_depth=10, min_samples_leaf=10, min_samples_split=5, score=0.413711 -  15.9s\n",
            "[CV] max_depth=10, min_samples_leaf=10, min_samples_split=5 ..........\n",
            "[CV]  max_depth=10, min_samples_leaf=10, min_samples_split=5, score=0.411855 -  16.4s\n",
            "[CV] max_depth=10, min_samples_leaf=10, min_samples_split=5 ..........\n",
            "[CV]  max_depth=10, min_samples_leaf=10, min_samples_split=5, score=0.408795 -  16.5s\n",
            "[CV] max_depth=10, min_samples_leaf=10, min_samples_split=10 .........\n",
            "[CV]  max_depth=10, min_samples_leaf=10, min_samples_split=10, score=0.413711 -  16.0s\n",
            "[CV] max_depth=10, min_samples_leaf=10, min_samples_split=10 .........\n",
            "[CV]  max_depth=10, min_samples_leaf=10, min_samples_split=10, score=0.411893 -  16.6s\n",
            "[CV] max_depth=10, min_samples_leaf=10, min_samples_split=10 .........\n",
            "[CV]  max_depth=10, min_samples_leaf=10, min_samples_split=10, score=0.408795 -  16.5s\n",
            "[CV] max_depth=10, min_samples_leaf=10, min_samples_split=15 .........\n",
            "[CV]  max_depth=10, min_samples_leaf=10, min_samples_split=15, score=0.413711 -  15.9s\n",
            "[CV] max_depth=10, min_samples_leaf=10, min_samples_split=15 .........\n",
            "[CV]  max_depth=10, min_samples_leaf=10, min_samples_split=15, score=0.411893 -  16.7s\n",
            "[CV] max_depth=10, min_samples_leaf=10, min_samples_split=15 .........\n",
            "[CV]  max_depth=10, min_samples_leaf=10, min_samples_split=15, score=0.408735 -  16.5s\n",
            "[CV] max_depth=10, min_samples_leaf=15, min_samples_split=5 ..........\n",
            "[CV]  max_depth=10, min_samples_leaf=15, min_samples_split=5, score=0.414587 -  15.6s\n",
            "[CV] max_depth=10, min_samples_leaf=15, min_samples_split=5 ..........\n",
            "[CV]  max_depth=10, min_samples_leaf=15, min_samples_split=5, score=0.412329 -  16.2s\n",
            "[CV] max_depth=10, min_samples_leaf=15, min_samples_split=5 ..........\n",
            "[CV]  max_depth=10, min_samples_leaf=15, min_samples_split=5, score=0.407833 -  16.1s\n",
            "[CV] max_depth=10, min_samples_leaf=15, min_samples_split=10 .........\n",
            "[CV]  max_depth=10, min_samples_leaf=15, min_samples_split=10, score=0.414587 -  15.7s\n",
            "[CV] max_depth=10, min_samples_leaf=15, min_samples_split=10 .........\n",
            "[CV]  max_depth=10, min_samples_leaf=15, min_samples_split=10, score=0.412329 -  16.0s\n",
            "[CV] max_depth=10, min_samples_leaf=15, min_samples_split=10 .........\n",
            "[CV]  max_depth=10, min_samples_leaf=15, min_samples_split=10, score=0.407858 -  16.2s\n",
            "[CV] max_depth=10, min_samples_leaf=15, min_samples_split=15 .........\n",
            "[CV]  max_depth=10, min_samples_leaf=15, min_samples_split=15, score=0.414587 -  15.5s\n",
            "[CV] max_depth=10, min_samples_leaf=15, min_samples_split=15 .........\n",
            "[CV]  max_depth=10, min_samples_leaf=15, min_samples_split=15, score=0.412329 -  16.0s\n",
            "[CV] max_depth=10, min_samples_leaf=15, min_samples_split=15 .........\n",
            "[CV]  max_depth=10, min_samples_leaf=15, min_samples_split=15, score=0.407858 -  16.1s\n",
            "[CV] max_depth=20, min_samples_leaf=5, min_samples_split=5 ...........\n",
            "[CV]  max_depth=20, min_samples_leaf=5, min_samples_split=5, score=0.444243 -  53.1s\n",
            "[CV] max_depth=20, min_samples_leaf=5, min_samples_split=5 ...........\n",
            "[CV]  max_depth=20, min_samples_leaf=5, min_samples_split=5, score=0.452106 -  53.1s\n",
            "[CV] max_depth=20, min_samples_leaf=5, min_samples_split=5 ...........\n",
            "[CV]  max_depth=20, min_samples_leaf=5, min_samples_split=5, score=0.441158 -  55.1s\n",
            "[CV] max_depth=20, min_samples_leaf=5, min_samples_split=10 ..........\n",
            "[CV]  max_depth=20, min_samples_leaf=5, min_samples_split=10, score=0.443822 -  53.4s\n",
            "[CV] max_depth=20, min_samples_leaf=5, min_samples_split=10 ..........\n",
            "[CV]  max_depth=20, min_samples_leaf=5, min_samples_split=10, score=0.452357 -  52.2s\n",
            "[CV] max_depth=20, min_samples_leaf=5, min_samples_split=10 ..........\n",
            "[CV]  max_depth=20, min_samples_leaf=5, min_samples_split=10, score=0.441878 -  53.4s\n",
            "[CV] max_depth=20, min_samples_leaf=5, min_samples_split=15 ..........\n",
            "[CV]  max_depth=20, min_samples_leaf=5, min_samples_split=15, score=0.444500 -  51.4s\n",
            "[CV] max_depth=20, min_samples_leaf=5, min_samples_split=15 ..........\n",
            "[CV]  max_depth=20, min_samples_leaf=5, min_samples_split=15, score=0.451630 -  50.6s\n",
            "[CV] max_depth=20, min_samples_leaf=5, min_samples_split=15 ..........\n",
            "[CV]  max_depth=20, min_samples_leaf=5, min_samples_split=15, score=0.442021 -  51.6s\n",
            "[CV] max_depth=20, min_samples_leaf=10, min_samples_split=5 ..........\n",
            "[CV]  max_depth=20, min_samples_leaf=10, min_samples_split=5, score=0.441001 -  47.6s\n",
            "[CV] max_depth=20, min_samples_leaf=10, min_samples_split=5 ..........\n",
            "[CV]  max_depth=20, min_samples_leaf=10, min_samples_split=5, score=0.448287 -  47.2s\n",
            "[CV] max_depth=20, min_samples_leaf=10, min_samples_split=5 ..........\n",
            "[CV]  max_depth=20, min_samples_leaf=10, min_samples_split=5, score=0.437194 -  49.6s\n",
            "[CV] max_depth=20, min_samples_leaf=10, min_samples_split=10 .........\n",
            "[CV]  max_depth=20, min_samples_leaf=10, min_samples_split=10, score=0.441157 -  48.0s\n",
            "[CV] max_depth=20, min_samples_leaf=10, min_samples_split=10 .........\n",
            "[CV]  max_depth=20, min_samples_leaf=10, min_samples_split=10, score=0.448227 -  47.3s\n",
            "[CV] max_depth=20, min_samples_leaf=10, min_samples_split=10 .........\n",
            "[CV]  max_depth=20, min_samples_leaf=10, min_samples_split=10, score=0.437143 -  48.9s\n",
            "[CV] max_depth=20, min_samples_leaf=10, min_samples_split=15 .........\n",
            "[CV]  max_depth=20, min_samples_leaf=10, min_samples_split=15, score=0.440883 -  47.8s\n",
            "[CV] max_depth=20, min_samples_leaf=10, min_samples_split=15 .........\n",
            "[CV]  max_depth=20, min_samples_leaf=10, min_samples_split=15, score=0.448225 -  47.7s\n",
            "[CV] max_depth=20, min_samples_leaf=10, min_samples_split=15 .........\n"
          ],
          "name": "stdout"
        },
        {
          "output_type": "stream",
          "text": [
            "[CV]  max_depth=20, min_samples_leaf=10, min_samples_split=15, score=0.437276 -  49.1s\n",
            "[CV] max_depth=20, min_samples_leaf=15, min_samples_split=5 ..........\n",
            "[CV]  max_depth=20, min_samples_leaf=15, min_samples_split=5, score=0.441770 -  44.1s\n",
            "[CV] max_depth=20, min_samples_leaf=15, min_samples_split=5 ..........\n",
            "[CV]  max_depth=20, min_samples_leaf=15, min_samples_split=5, score=0.450091 -  43.7s\n",
            "[CV] max_depth=20, min_samples_leaf=15, min_samples_split=5 ..........\n",
            "[CV]  max_depth=20, min_samples_leaf=15, min_samples_split=5, score=0.433383 -  44.8s\n",
            "[CV] max_depth=20, min_samples_leaf=15, min_samples_split=10 .........\n",
            "[CV]  max_depth=20, min_samples_leaf=15, min_samples_split=10, score=0.441681 -  43.6s\n",
            "[CV] max_depth=20, min_samples_leaf=15, min_samples_split=10 .........\n",
            "[CV]  max_depth=20, min_samples_leaf=15, min_samples_split=10, score=0.450065 -  43.8s\n",
            "[CV] max_depth=20, min_samples_leaf=15, min_samples_split=10 .........\n",
            "[CV]  max_depth=20, min_samples_leaf=15, min_samples_split=10, score=0.433316 -  44.9s\n",
            "[CV] max_depth=20, min_samples_leaf=15, min_samples_split=15 .........\n",
            "[CV]  max_depth=20, min_samples_leaf=15, min_samples_split=15, score=0.441852 -  44.1s\n",
            "[CV] max_depth=20, min_samples_leaf=15, min_samples_split=15 .........\n",
            "[CV]  max_depth=20, min_samples_leaf=15, min_samples_split=15, score=0.449881 -  43.6s\n",
            "[CV] max_depth=20, min_samples_leaf=15, min_samples_split=15 .........\n",
            "[CV]  max_depth=20, min_samples_leaf=15, min_samples_split=15, score=0.433528 -  45.7s\n",
            "[CV] max_depth=40, min_samples_leaf=5, min_samples_split=5 ...........\n",
            "[CV]  max_depth=40, min_samples_leaf=5, min_samples_split=5, score=0.449511 - 2.0min\n",
            "[CV] max_depth=40, min_samples_leaf=5, min_samples_split=5 ...........\n",
            "[CV]  max_depth=40, min_samples_leaf=5, min_samples_split=5, score=0.451857 - 2.0min\n",
            "[CV] max_depth=40, min_samples_leaf=5, min_samples_split=5 ...........\n",
            "[CV]  max_depth=40, min_samples_leaf=5, min_samples_split=5, score=0.448098 - 2.0min\n",
            "[CV] max_depth=40, min_samples_leaf=5, min_samples_split=10 ..........\n",
            "[CV]  max_depth=40, min_samples_leaf=5, min_samples_split=10, score=0.448278 - 2.0min\n",
            "[CV] max_depth=40, min_samples_leaf=5, min_samples_split=10 ..........\n",
            "[CV]  max_depth=40, min_samples_leaf=5, min_samples_split=10, score=0.453332 - 2.0min\n",
            "[CV] max_depth=40, min_samples_leaf=5, min_samples_split=10 ..........\n",
            "[CV]  max_depth=40, min_samples_leaf=5, min_samples_split=10, score=0.447592 - 2.0min\n",
            "[CV] max_depth=40, min_samples_leaf=5, min_samples_split=15 ..........\n",
            "[CV]  max_depth=40, min_samples_leaf=5, min_samples_split=15, score=0.447546 - 1.9min\n",
            "[CV] max_depth=40, min_samples_leaf=5, min_samples_split=15 ..........\n",
            "[CV]  max_depth=40, min_samples_leaf=5, min_samples_split=15, score=0.451966 - 1.9min\n",
            "[CV] max_depth=40, min_samples_leaf=5, min_samples_split=15 ..........\n",
            "[CV]  max_depth=40, min_samples_leaf=5, min_samples_split=15, score=0.447240 - 1.9min\n",
            "[CV] max_depth=40, min_samples_leaf=10, min_samples_split=5 ..........\n",
            "[CV]  max_depth=40, min_samples_leaf=10, min_samples_split=5, score=0.450395 - 1.6min\n",
            "[CV] max_depth=40, min_samples_leaf=10, min_samples_split=5 ..........\n",
            "[CV]  max_depth=40, min_samples_leaf=10, min_samples_split=5, score=0.452548 - 1.7min\n",
            "[CV] max_depth=40, min_samples_leaf=10, min_samples_split=5 ..........\n",
            "[CV]  max_depth=40, min_samples_leaf=10, min_samples_split=5, score=0.443569 - 1.6min\n",
            "[CV] max_depth=40, min_samples_leaf=10, min_samples_split=10 .........\n",
            "[CV]  max_depth=40, min_samples_leaf=10, min_samples_split=10, score=0.450609 - 1.6min\n",
            "[CV] max_depth=40, min_samples_leaf=10, min_samples_split=10 .........\n",
            "[CV]  max_depth=40, min_samples_leaf=10, min_samples_split=10, score=0.452206 - 1.7min\n",
            "[CV] max_depth=40, min_samples_leaf=10, min_samples_split=10 .........\n",
            "[CV]  max_depth=40, min_samples_leaf=10, min_samples_split=10, score=0.443449 - 1.6min\n",
            "[CV] max_depth=40, min_samples_leaf=10, min_samples_split=15 .........\n",
            "[CV]  max_depth=40, min_samples_leaf=10, min_samples_split=15, score=0.451446 - 1.6min\n",
            "[CV] max_depth=40, min_samples_leaf=10, min_samples_split=15 .........\n",
            "[CV]  max_depth=40, min_samples_leaf=10, min_samples_split=15, score=0.452679 - 1.6min\n",
            "[CV] max_depth=40, min_samples_leaf=10, min_samples_split=15 .........\n",
            "[CV]  max_depth=40, min_samples_leaf=10, min_samples_split=15, score=0.443201 - 1.6min\n",
            "[CV] max_depth=40, min_samples_leaf=15, min_samples_split=5 ..........\n",
            "[CV]  max_depth=40, min_samples_leaf=15, min_samples_split=5, score=0.449218 - 1.4min\n",
            "[CV] max_depth=40, min_samples_leaf=15, min_samples_split=5 ..........\n",
            "[CV]  max_depth=40, min_samples_leaf=15, min_samples_split=5, score=0.454282 - 1.4min\n",
            "[CV] max_depth=40, min_samples_leaf=15, min_samples_split=5 ..........\n",
            "[CV]  max_depth=40, min_samples_leaf=15, min_samples_split=5, score=0.442516 - 1.4min\n",
            "[CV] max_depth=40, min_samples_leaf=15, min_samples_split=10 .........\n",
            "[CV]  max_depth=40, min_samples_leaf=15, min_samples_split=10, score=0.449071 - 1.4min\n",
            "[CV] max_depth=40, min_samples_leaf=15, min_samples_split=10 .........\n",
            "[CV]  max_depth=40, min_samples_leaf=15, min_samples_split=10, score=0.454547 - 1.4min\n",
            "[CV] max_depth=40, min_samples_leaf=15, min_samples_split=10 .........\n",
            "[CV]  max_depth=40, min_samples_leaf=15, min_samples_split=10, score=0.442882 - 1.4min\n",
            "[CV] max_depth=40, min_samples_leaf=15, min_samples_split=15 .........\n",
            "[CV]  max_depth=40, min_samples_leaf=15, min_samples_split=15, score=0.449106 - 1.4min\n",
            "[CV] max_depth=40, min_samples_leaf=15, min_samples_split=15 .........\n"
          ],
          "name": "stdout"
        },
        {
          "output_type": "stream",
          "text": [
            "[CV]  max_depth=40, min_samples_leaf=15, min_samples_split=15, score=0.454340 - 1.4min\n",
            "[CV] max_depth=40, min_samples_leaf=15, min_samples_split=15 .........\n",
            "[CV]  max_depth=40, min_samples_leaf=15, min_samples_split=15, score=0.443202 - 1.4min\n",
            "[CV] max_depth=50, min_samples_leaf=5, min_samples_split=5 ...........\n",
            "[CV]  max_depth=50, min_samples_leaf=5, min_samples_split=5, score=0.445859 - 2.3min\n",
            "[CV] max_depth=50, min_samples_leaf=5, min_samples_split=5 ...........\n",
            "[CV]  max_depth=50, min_samples_leaf=5, min_samples_split=5, score=0.446398 - 2.3min\n",
            "[CV] max_depth=50, min_samples_leaf=5, min_samples_split=5 ...........\n",
            "[CV]  max_depth=50, min_samples_leaf=5, min_samples_split=5, score=0.446435 - 2.3min\n",
            "[CV] max_depth=50, min_samples_leaf=5, min_samples_split=10 ..........\n",
            "[CV]  max_depth=50, min_samples_leaf=5, min_samples_split=10, score=0.446493 - 2.3min\n",
            "[CV] max_depth=50, min_samples_leaf=5, min_samples_split=10 ..........\n",
            "[CV]  max_depth=50, min_samples_leaf=5, min_samples_split=10, score=0.446661 - 2.3min\n",
            "[CV] max_depth=50, min_samples_leaf=5, min_samples_split=10 ..........\n",
            "[CV]  max_depth=50, min_samples_leaf=5, min_samples_split=10, score=0.447607 - 2.3min\n",
            "[CV] max_depth=50, min_samples_leaf=5, min_samples_split=15 ..........\n",
            "[CV]  max_depth=50, min_samples_leaf=5, min_samples_split=15, score=0.445770 - 2.2min\n",
            "[CV] max_depth=50, min_samples_leaf=5, min_samples_split=15 ..........\n",
            "[CV]  max_depth=50, min_samples_leaf=5, min_samples_split=15, score=0.445636 - 2.2min\n",
            "[CV] max_depth=50, min_samples_leaf=5, min_samples_split=15 ..........\n",
            "[CV]  max_depth=50, min_samples_leaf=5, min_samples_split=15, score=0.448720 - 2.2min\n",
            "[CV] max_depth=50, min_samples_leaf=10, min_samples_split=5 ..........\n",
            "[CV]  max_depth=50, min_samples_leaf=10, min_samples_split=5, score=0.446416 - 1.8min\n",
            "[CV] max_depth=50, min_samples_leaf=10, min_samples_split=5 ..........\n",
            "[CV]  max_depth=50, min_samples_leaf=10, min_samples_split=5, score=0.445024 - 1.8min\n",
            "[CV] max_depth=50, min_samples_leaf=10, min_samples_split=5 ..........\n",
            "[CV]  max_depth=50, min_samples_leaf=10, min_samples_split=5, score=0.447313 - 1.8min\n",
            "[CV] max_depth=50, min_samples_leaf=10, min_samples_split=10 .........\n",
            "[CV]  max_depth=50, min_samples_leaf=10, min_samples_split=10, score=0.446794 - 1.8min\n",
            "[CV] max_depth=50, min_samples_leaf=10, min_samples_split=10 .........\n",
            "[CV]  max_depth=50, min_samples_leaf=10, min_samples_split=10, score=0.445687 - 1.8min\n",
            "[CV] max_depth=50, min_samples_leaf=10, min_samples_split=10 .........\n",
            "[CV]  max_depth=50, min_samples_leaf=10, min_samples_split=10, score=0.446526 - 1.8min\n",
            "[CV] max_depth=50, min_samples_leaf=10, min_samples_split=15 .........\n",
            "[CV]  max_depth=50, min_samples_leaf=10, min_samples_split=15, score=0.447023 - 1.8min\n",
            "[CV] max_depth=50, min_samples_leaf=10, min_samples_split=15 .........\n",
            "[CV]  max_depth=50, min_samples_leaf=10, min_samples_split=15, score=0.446004 - 1.8min\n",
            "[CV] max_depth=50, min_samples_leaf=10, min_samples_split=15 .........\n",
            "[CV]  max_depth=50, min_samples_leaf=10, min_samples_split=15, score=0.446233 - 1.9min\n",
            "[CV] max_depth=50, min_samples_leaf=15, min_samples_split=5 ..........\n",
            "[CV]  max_depth=50, min_samples_leaf=15, min_samples_split=5, score=0.453414 - 1.5min\n",
            "[CV] max_depth=50, min_samples_leaf=15, min_samples_split=5 ..........\n",
            "[CV]  max_depth=50, min_samples_leaf=15, min_samples_split=5, score=0.449155 - 1.5min\n",
            "[CV] max_depth=50, min_samples_leaf=15, min_samples_split=5 ..........\n",
            "[CV]  max_depth=50, min_samples_leaf=15, min_samples_split=5, score=0.446471 - 1.5min\n",
            "[CV] max_depth=50, min_samples_leaf=15, min_samples_split=10 .........\n",
            "[CV]  max_depth=50, min_samples_leaf=15, min_samples_split=10, score=0.453320 - 1.5min\n",
            "[CV] max_depth=50, min_samples_leaf=15, min_samples_split=10 .........\n",
            "[CV]  max_depth=50, min_samples_leaf=15, min_samples_split=10, score=0.449286 - 1.5min\n",
            "[CV] max_depth=50, min_samples_leaf=15, min_samples_split=10 .........\n",
            "[CV]  max_depth=50, min_samples_leaf=15, min_samples_split=10, score=0.446506 - 1.5min\n",
            "[CV] max_depth=50, min_samples_leaf=15, min_samples_split=15 .........\n",
            "[CV]  max_depth=50, min_samples_leaf=15, min_samples_split=15, score=0.453064 - 1.5min\n",
            "[CV] max_depth=50, min_samples_leaf=15, min_samples_split=15 .........\n",
            "[CV]  max_depth=50, min_samples_leaf=15, min_samples_split=15, score=0.449010 - 1.5min\n",
            "[CV] max_depth=50, min_samples_leaf=15, min_samples_split=15 .........\n",
            "[CV]  max_depth=50, min_samples_leaf=15, min_samples_split=15, score=0.446843 - 1.5min\n"
          ],
          "name": "stdout"
        },
        {
          "output_type": "stream",
          "text": [
            "[Parallel(n_jobs=1)]: Done 108 out of 108 | elapsed: 124.9min finished\n"
          ],
          "name": "stderr"
        }
      ]
    },
    {
      "metadata": {
        "id": "hLiSs7HnUCo9",
        "colab_type": "code",
        "colab": {
          "autoexec": {
            "startup": false,
            "wait_interval": 0
          }
        }
      },
      "cell_type": "code",
      "source": [
        "grid_best_1 = grid_fit1.best_params_\n",
        "# This will help to know about the best parameters which were finalised after grid search (unigram)"
      ],
      "execution_count": 0,
      "outputs": []
    },
    {
      "metadata": {
        "id": "Kh2Y0ryEUZwd",
        "colab_type": "code",
        "colab": {
          "autoexec": {
            "startup": false,
            "wait_interval": 0
          },
          "output_extras": [
            {}
          ],
          "base_uri": "https://localhost:8080/",
          "height": 34
        },
        "outputId": "670ee128-3e1a-4278-c811-7cec20001a40",
        "executionInfo": {
          "status": "ok",
          "timestamp": 1522098671671,
          "user_tz": 240,
          "elapsed": 307,
          "user": {
            "displayName": "Adityi Jain",
            "photoUrl": "//lh4.googleusercontent.com/-Oendzrm2UYs/AAAAAAAAAAI/AAAAAAAABVI/KLJBHKIpiMo/s50-c-k-no/photo.jpg",
            "userId": "113461199095791330828"
          }
        }
      },
      "cell_type": "code",
      "source": [
        "print(grid_best_1)"
      ],
      "execution_count": 0,
      "outputs": [
        {
          "output_type": "stream",
          "text": [
            "{'max_depth': 40, 'min_samples_leaf': 5, 'min_samples_split': 5}\n"
          ],
          "name": "stdout"
        }
      ]
    },
    {
      "metadata": {
        "id": "Jb938lc6sv_c",
        "colab_type": "code",
        "colab": {
          "autoexec": {
            "startup": false,
            "wait_interval": 0
          }
        }
      },
      "cell_type": "code",
      "source": [
        "grid_best_obj = grid_fit1.best_estimator_\n",
        "# model classifier with best estimated parameters for unigram"
      ],
      "execution_count": 0,
      "outputs": []
    },
    {
      "metadata": {
        "id": "r_CBoVKWs5j-",
        "colab_type": "code",
        "colab": {
          "autoexec": {
            "startup": false,
            "wait_interval": 0
          }
        }
      },
      "cell_type": "code",
      "source": [
        "y_pred_dt1 = grid_best_obj.predict(X_test_dtm)"
      ],
      "execution_count": 0,
      "outputs": []
    },
    {
      "metadata": {
        "id": "5iUXnUjBtF2s",
        "colab_type": "code",
        "colab": {
          "autoexec": {
            "startup": false,
            "wait_interval": 0
          },
          "output_extras": [
            {}
          ],
          "base_uri": "https://localhost:8080/",
          "height": 34
        },
        "outputId": "b2536e34-aac5-4bfd-c9bf-3f26116cc8ce",
        "executionInfo": {
          "status": "ok",
          "timestamp": 1522098682443,
          "user_tz": 240,
          "elapsed": 310,
          "user": {
            "displayName": "Adityi Jain",
            "photoUrl": "//lh4.googleusercontent.com/-Oendzrm2UYs/AAAAAAAAAAI/AAAAAAAABVI/KLJBHKIpiMo/s50-c-k-no/photo.jpg",
            "userId": "113461199095791330828"
          }
        }
      },
      "cell_type": "code",
      "source": [
        "# F1 score for unigram DT\n",
        "f1_score(y_test, y_pred_dt1, average= 'weighted')"
      ],
      "execution_count": 0,
      "outputs": [
        {
          "output_type": "execute_result",
          "data": {
            "text/plain": [
              "0.45931859552596127"
            ]
          },
          "metadata": {
            "tags": []
          },
          "execution_count": 48
        }
      ]
    },
    {
      "metadata": {
        "id": "7ZUkaEa9BFMY",
        "colab_type": "code",
        "colab": {
          "autoexec": {
            "startup": false,
            "wait_interval": 0
          },
          "output_extras": [
            {}
          ],
          "base_uri": "https://localhost:8080/",
          "height": 34
        },
        "outputId": "603cc5ec-e050-425f-a4ea-71570f14faa7",
        "executionInfo": {
          "status": "ok",
          "timestamp": 1522098686120,
          "user_tz": 240,
          "elapsed": 308,
          "user": {
            "displayName": "Adityi Jain",
            "photoUrl": "//lh4.googleusercontent.com/-Oendzrm2UYs/AAAAAAAAAAI/AAAAAAAABVI/KLJBHKIpiMo/s50-c-k-no/photo.jpg",
            "userId": "113461199095791330828"
          }
        }
      },
      "cell_type": "code",
      "source": [
        "F1_dt = round(f1_score(y_test, y_pred_dt1, average= 'weighted'),5)\n",
        "print(F1_dt)"
      ],
      "execution_count": 0,
      "outputs": [
        {
          "output_type": "stream",
          "text": [
            "0.45932\n"
          ],
          "name": "stdout"
        }
      ]
    },
    {
      "metadata": {
        "id": "SnsEC3BKkCnG",
        "colab_type": "code",
        "colab": {
          "autoexec": {
            "startup": false,
            "wait_interval": 0
          }
        }
      },
      "cell_type": "code",
      "source": [
        "# From the best parammeters, new clf was made for training and predicting for bigram"
      ],
      "execution_count": 0,
      "outputs": []
    },
    {
      "metadata": {
        "id": "UZBV8EKoJShu",
        "colab_type": "code",
        "colab": {
          "autoexec": {
            "startup": false,
            "wait_interval": 0
          }
        }
      },
      "cell_type": "code",
      "source": [
        "clf = DecisionTreeClassifier(max_depth=40, min_samples_leaf=5, min_samples_split=5,class_weight=\"balanced\")"
      ],
      "execution_count": 0,
      "outputs": []
    },
    {
      "metadata": {
        "id": "PSGp0VXSJShv",
        "colab_type": "code",
        "colab": {
          "autoexec": {
            "startup": false,
            "wait_interval": 0
          }
        }
      },
      "cell_type": "code",
      "source": [
        "clf_2 = clf.fit(X_train_dtm_2, y_train)"
      ],
      "execution_count": 0,
      "outputs": []
    },
    {
      "metadata": {
        "id": "6e5RJeozATvP",
        "colab_type": "code",
        "colab": {
          "autoexec": {
            "startup": false,
            "wait_interval": 0
          }
        }
      },
      "cell_type": "code",
      "source": [
        "y_pred_dt2 = clf_2.predict(X_test_dtm_2)"
      ],
      "execution_count": 0,
      "outputs": []
    },
    {
      "metadata": {
        "id": "U31PCJ7mATsc",
        "colab_type": "code",
        "colab": {
          "autoexec": {
            "startup": false,
            "wait_interval": 0
          },
          "output_extras": [
            {}
          ],
          "base_uri": "https://localhost:8080/",
          "height": 34
        },
        "outputId": "8e25a2cd-50fb-4910-aa10-ad05c87ad869",
        "executionInfo": {
          "status": "ok",
          "timestamp": 1522366370573,
          "user_tz": 240,
          "elapsed": 369,
          "user": {
            "displayName": "Adityi Jain",
            "photoUrl": "//lh4.googleusercontent.com/-Oendzrm2UYs/AAAAAAAAAAI/AAAAAAAABVI/KLJBHKIpiMo/s50-c-k-no/photo.jpg",
            "userId": "113461199095791330828"
          }
        }
      },
      "cell_type": "code",
      "source": [
        "# F1 score for bigram DT\n",
        "f1_score(y_test, y_pred_dt2, average= 'weighted')"
      ],
      "execution_count": 0,
      "outputs": [
        {
          "output_type": "execute_result",
          "data": {
            "text/plain": [
              "0.4582643186981527"
            ]
          },
          "metadata": {
            "tags": []
          },
          "execution_count": 41
        }
      ]
    },
    {
      "metadata": {
        "id": "qHo9SDCzATpn",
        "colab_type": "code",
        "colab": {
          "autoexec": {
            "startup": false,
            "wait_interval": 0
          },
          "output_extras": [
            {}
          ],
          "base_uri": "https://localhost:8080/",
          "height": 34
        },
        "outputId": "24846b3d-14c1-4bc0-ed8b-2ef88fcd6e1e",
        "executionInfo": {
          "status": "ok",
          "timestamp": 1522366395489,
          "user_tz": 240,
          "elapsed": 394,
          "user": {
            "displayName": "Adityi Jain",
            "photoUrl": "//lh4.googleusercontent.com/-Oendzrm2UYs/AAAAAAAAAAI/AAAAAAAABVI/KLJBHKIpiMo/s50-c-k-no/photo.jpg",
            "userId": "113461199095791330828"
          }
        }
      },
      "cell_type": "code",
      "source": [
        "F2_dt = round(f1_score(y_test, y_pred_dt2, average= 'weighted'),5)\n",
        "print(F2_dt)"
      ],
      "execution_count": 0,
      "outputs": [
        {
          "output_type": "stream",
          "text": [
            "0.45826\n"
          ],
          "name": "stdout"
        }
      ]
    },
    {
      "metadata": {
        "id": "Zoquws91bOU7",
        "colab_type": "code",
        "colab": {
          "autoexec": {
            "startup": false,
            "wait_interval": 0
          }
        },
        "cellView": "code"
      },
      "cell_type": "code",
      "source": [
        "\n",
        "# RANDOM FOREST CLASSIFICATION\n",
        "from sklearn.grid_search import GridSearchCV\n",
        "from sklearn.metrics import make_scorer\n",
        "from sklearn.ensemble import RandomForestClassifier\n",
        "param_grid = {'max_depth': [40, 60],\n",
        " 'n_estimators': [200, 400]}\n",
        "clf = RandomForestClassifier(class_weight=\"balanced\")\n",
        "\n",
        "grid_obj1 = GridSearchCV(clf, param_grid, scoring=\"f1_weighted\", verbose=10)"
      ],
      "execution_count": 0,
      "outputs": []
    },
    {
      "metadata": {
        "id": "M4TW7-2EbOSY",
        "colab_type": "code",
        "colab": {
          "autoexec": {
            "startup": false,
            "wait_interval": 0
          },
          "output_extras": [
            {},
            {},
            {},
            {},
            {},
            {},
            {},
            {},
            {},
            {},
            {},
            {},
            {},
            {},
            {},
            {},
            {},
            {},
            {},
            {}
          ],
          "base_uri": "https://localhost:8080/",
          "height": 633
        },
        "outputId": "8b05e5ec-6aa6-49e2-9025-55a54bc5412f",
        "executionInfo": {
          "status": "ok",
          "timestamp": 1522360206233,
          "user_tz": 240,
          "elapsed": 8139640,
          "user": {
            "displayName": "Adityi Jain",
            "photoUrl": "//lh4.googleusercontent.com/-Oendzrm2UYs/AAAAAAAAAAI/AAAAAAAABVI/KLJBHKIpiMo/s50-c-k-no/photo.jpg",
            "userId": "113461199095791330828"
          }
        }
      },
      "cell_type": "code",
      "source": [
        "grid_fit1 = grid_obj1.fit(X_train_dtm, y_train)"
      ],
      "execution_count": 0,
      "outputs": [
        {
          "output_type": "stream",
          "text": [
            "Fitting 3 folds for each of 4 candidates, totalling 12 fits\n",
            "[CV] max_depth=40, n_estimators=200 ..................................\n",
            "[CV] ......... max_depth=40, n_estimators=200, score=0.568643 - 4.9min\n",
            "[CV] max_depth=40, n_estimators=200 ..................................\n"
          ],
          "name": "stdout"
        },
        {
          "output_type": "stream",
          "text": [
            "[Parallel(n_jobs=1)]: Done   1 out of   1 | elapsed:  4.9min remaining:    0.0s\n"
          ],
          "name": "stderr"
        },
        {
          "output_type": "stream",
          "text": [
            "[CV] ......... max_depth=40, n_estimators=200, score=0.569478 - 4.9min\n",
            "[CV] max_depth=40, n_estimators=200 ..................................\n"
          ],
          "name": "stdout"
        },
        {
          "output_type": "stream",
          "text": [
            "[Parallel(n_jobs=1)]: Done   2 out of   2 | elapsed:  9.8min remaining:    0.0s\n"
          ],
          "name": "stderr"
        },
        {
          "output_type": "stream",
          "text": [
            "[CV] ......... max_depth=40, n_estimators=200, score=0.563553 - 4.8min\n",
            "[CV] max_depth=40, n_estimators=400 ..................................\n"
          ],
          "name": "stdout"
        },
        {
          "output_type": "stream",
          "text": [
            "[Parallel(n_jobs=1)]: Done   3 out of   3 | elapsed: 14.6min remaining:    0.0s\n"
          ],
          "name": "stderr"
        },
        {
          "output_type": "stream",
          "text": [
            "[CV] ......... max_depth=40, n_estimators=400, score=0.569203 - 9.6min\n",
            "[CV] max_depth=40, n_estimators=400 ..................................\n"
          ],
          "name": "stdout"
        },
        {
          "output_type": "stream",
          "text": [
            "[Parallel(n_jobs=1)]: Done   4 out of   4 | elapsed: 24.1min remaining:    0.0s\n"
          ],
          "name": "stderr"
        },
        {
          "output_type": "stream",
          "text": [
            "[CV] ......... max_depth=40, n_estimators=400, score=0.572102 - 9.6min\n",
            "[CV] max_depth=40, n_estimators=400 ..................................\n"
          ],
          "name": "stdout"
        },
        {
          "output_type": "stream",
          "text": [
            "[Parallel(n_jobs=1)]: Done   5 out of   5 | elapsed: 33.7min remaining:    0.0s\n"
          ],
          "name": "stderr"
        },
        {
          "output_type": "stream",
          "text": [
            "[CV] ......... max_depth=40, n_estimators=400, score=0.565892 - 9.2min\n",
            "[CV] max_depth=60, n_estimators=200 ..................................\n"
          ],
          "name": "stdout"
        },
        {
          "output_type": "stream",
          "text": [
            "[Parallel(n_jobs=1)]: Done   6 out of   6 | elapsed: 42.9min remaining:    0.0s\n"
          ],
          "name": "stderr"
        },
        {
          "output_type": "stream",
          "text": [
            "[CV] ......... max_depth=60, n_estimators=200, score=0.552246 - 9.0min\n",
            "[CV] max_depth=60, n_estimators=200 ..................................\n"
          ],
          "name": "stdout"
        },
        {
          "output_type": "stream",
          "text": [
            "[Parallel(n_jobs=1)]: Done   7 out of   7 | elapsed: 51.8min remaining:    0.0s\n"
          ],
          "name": "stderr"
        },
        {
          "output_type": "stream",
          "text": [
            "[CV] ......... max_depth=60, n_estimators=200, score=0.553517 - 9.1min\n",
            "[CV] max_depth=60, n_estimators=200 ..................................\n"
          ],
          "name": "stdout"
        },
        {
          "output_type": "stream",
          "text": [
            "[Parallel(n_jobs=1)]: Done   8 out of   8 | elapsed: 60.9min remaining:    0.0s\n"
          ],
          "name": "stderr"
        },
        {
          "output_type": "stream",
          "text": [
            "[CV] ......... max_depth=60, n_estimators=200, score=0.549079 - 8.7min\n",
            "[CV] max_depth=60, n_estimators=400 ..................................\n"
          ],
          "name": "stdout"
        },
        {
          "output_type": "stream",
          "text": [
            "[Parallel(n_jobs=1)]: Done   9 out of   9 | elapsed: 69.6min remaining:    0.0s\n"
          ],
          "name": "stderr"
        },
        {
          "output_type": "stream",
          "text": [
            "[CV] ......... max_depth=60, n_estimators=400, score=0.552278 -17.3min\n",
            "[CV] max_depth=60, n_estimators=400 ..................................\n",
            "[CV] ......... max_depth=60, n_estimators=400, score=0.553562 -19.4min\n",
            "[CV] max_depth=60, n_estimators=400 ..................................\n",
            "[CV] ......... max_depth=60, n_estimators=400, score=0.550792 -19.0min\n"
          ],
          "name": "stdout"
        },
        {
          "output_type": "stream",
          "text": [
            "[Parallel(n_jobs=1)]: Done  12 out of  12 | elapsed: 125.3min finished\n"
          ],
          "name": "stderr"
        }
      ]
    },
    {
      "metadata": {
        "id": "huz7ccN9bOO3",
        "colab_type": "code",
        "colab": {
          "autoexec": {
            "startup": false,
            "wait_interval": 0
          }
        }
      },
      "cell_type": "code",
      "source": [
        "grid_best_1 = grid_fit1.best_params_"
      ],
      "execution_count": 0,
      "outputs": []
    },
    {
      "metadata": {
        "id": "07MjB8tybOMM",
        "colab_type": "code",
        "colab": {
          "autoexec": {
            "startup": false,
            "wait_interval": 0
          },
          "output_extras": [
            {}
          ],
          "base_uri": "https://localhost:8080/",
          "height": 34
        },
        "outputId": "0096d582-f1ba-4016-f9b7-674c97910747",
        "executionInfo": {
          "status": "ok",
          "timestamp": 1522360230267,
          "user_tz": 240,
          "elapsed": 285,
          "user": {
            "displayName": "Adityi Jain",
            "photoUrl": "//lh4.googleusercontent.com/-Oendzrm2UYs/AAAAAAAAAAI/AAAAAAAABVI/KLJBHKIpiMo/s50-c-k-no/photo.jpg",
            "userId": "113461199095791330828"
          }
        }
      },
      "cell_type": "code",
      "source": [
        "print(grid_best_1)"
      ],
      "execution_count": 0,
      "outputs": [
        {
          "output_type": "stream",
          "text": [
            "{'max_depth': 40, 'n_estimators': 400}\n"
          ],
          "name": "stdout"
        }
      ]
    },
    {
      "metadata": {
        "id": "NH9HOq5TbOIk",
        "colab_type": "code",
        "colab": {
          "autoexec": {
            "startup": false,
            "wait_interval": 0
          }
        }
      },
      "cell_type": "code",
      "source": [
        "grid_best_obj1 = grid_fit1.best_estimator_"
      ],
      "execution_count": 0,
      "outputs": []
    },
    {
      "metadata": {
        "id": "UoR8JuAkbOGE",
        "colab_type": "code",
        "colab": {
          "autoexec": {
            "startup": false,
            "wait_interval": 0
          }
        }
      },
      "cell_type": "code",
      "source": [
        "y_pred_rf = grid_best_obj1.predict(X_test_dtm)\n",
        "# predciting for unigram"
      ],
      "execution_count": 0,
      "outputs": []
    },
    {
      "metadata": {
        "id": "rDXu26fabOCR",
        "colab_type": "code",
        "colab": {
          "autoexec": {
            "startup": false,
            "wait_interval": 0
          },
          "output_extras": [
            {}
          ],
          "base_uri": "https://localhost:8080/",
          "height": 34
        },
        "outputId": "6ecf5c71-ee85-4c68-996a-e5b6e1227258",
        "executionInfo": {
          "status": "ok",
          "timestamp": 1522360254981,
          "user_tz": 240,
          "elapsed": 425,
          "user": {
            "displayName": "Adityi Jain",
            "photoUrl": "//lh4.googleusercontent.com/-Oendzrm2UYs/AAAAAAAAAAI/AAAAAAAABVI/KLJBHKIpiMo/s50-c-k-no/photo.jpg",
            "userId": "113461199095791330828"
          }
        }
      },
      "cell_type": "code",
      "source": [
        "# F1 score for unigram RF\n",
        "from sklearn.metrics import f1_score\n",
        "f1_score(y_test, y_pred_rf, average= 'weighted')"
      ],
      "execution_count": 0,
      "outputs": [
        {
          "output_type": "execute_result",
          "data": {
            "text/plain": [
              "0.5764521294369451"
            ]
          },
          "metadata": {
            "tags": []
          },
          "execution_count": 27
        }
      ]
    },
    {
      "metadata": {
        "id": "J2iwK93KbN_N",
        "colab_type": "code",
        "colab": {
          "autoexec": {
            "startup": false,
            "wait_interval": 0
          },
          "output_extras": [
            {}
          ],
          "base_uri": "https://localhost:8080/",
          "height": 34
        },
        "outputId": "8f1cadac-3305-4772-ec19-5296acdec126",
        "executionInfo": {
          "status": "ok",
          "timestamp": 1522360259168,
          "user_tz": 240,
          "elapsed": 271,
          "user": {
            "displayName": "Adityi Jain",
            "photoUrl": "//lh4.googleusercontent.com/-Oendzrm2UYs/AAAAAAAAAAI/AAAAAAAABVI/KLJBHKIpiMo/s50-c-k-no/photo.jpg",
            "userId": "113461199095791330828"
          }
        }
      },
      "cell_type": "code",
      "source": [
        "F1_rf = round(f1_score(y_test, y_pred_rf, average= 'weighted'),5)\n",
        "print(F1_rf)"
      ],
      "execution_count": 0,
      "outputs": [
        {
          "output_type": "stream",
          "text": [
            "0.57645\n"
          ],
          "name": "stdout"
        }
      ]
    },
    {
      "metadata": {
        "id": "X3dH3KCabN8w",
        "colab_type": "code",
        "colab": {
          "autoexec": {
            "startup": false,
            "wait_interval": 0
          }
        }
      },
      "cell_type": "code",
      "source": [
        "clf = RandomForestClassifier(max_depth=40, n_estimators=400,class_weight=\"balanced\")\n",
        "#based on best parameters, new clf was made for bigram\n"
      ],
      "execution_count": 0,
      "outputs": []
    },
    {
      "metadata": {
        "id": "pk3qgozy3Fdp",
        "colab_type": "code",
        "colab": {
          "autoexec": {
            "startup": false,
            "wait_interval": 0
          }
        }
      },
      "cell_type": "code",
      "source": [
        "grid_fit2 = clf.fit(X_train_dtm_2, y_train)"
      ],
      "execution_count": 0,
      "outputs": []
    },
    {
      "metadata": {
        "id": "Jk6WAeQgbNwX",
        "colab_type": "code",
        "colab": {
          "autoexec": {
            "startup": false,
            "wait_interval": 0
          }
        }
      },
      "cell_type": "code",
      "source": [
        "y_pred_rf2 = grid_fit2.predict(X_test_dtm_2)"
      ],
      "execution_count": 0,
      "outputs": []
    },
    {
      "metadata": {
        "id": "a3CmGsbHbNtP",
        "colab_type": "code",
        "colab": {
          "autoexec": {
            "startup": false,
            "wait_interval": 0
          },
          "output_extras": [
            {}
          ],
          "base_uri": "https://localhost:8080/",
          "height": 34
        },
        "outputId": "87e3a7ea-a195-4319-d58a-7326cdbb4949",
        "executionInfo": {
          "status": "ok",
          "timestamp": 1522363650037,
          "user_tz": 240,
          "elapsed": 491,
          "user": {
            "displayName": "Adityi Jain",
            "photoUrl": "//lh4.googleusercontent.com/-Oendzrm2UYs/AAAAAAAAAAI/AAAAAAAABVI/KLJBHKIpiMo/s50-c-k-no/photo.jpg",
            "userId": "113461199095791330828"
          }
        }
      },
      "cell_type": "code",
      "source": [
        "# F1 score for bigram RF\n",
        "f1_score(y_test, y_pred_rf2, average= 'weighted')"
      ],
      "execution_count": 0,
      "outputs": [
        {
          "output_type": "execute_result",
          "data": {
            "text/plain": [
              "0.5598125418533823"
            ]
          },
          "metadata": {
            "tags": []
          },
          "execution_count": 33
        }
      ]
    },
    {
      "metadata": {
        "id": "fiJmDR6HbNp9",
        "colab_type": "code",
        "colab": {
          "autoexec": {
            "startup": false,
            "wait_interval": 0
          },
          "output_extras": [
            {}
          ],
          "base_uri": "https://localhost:8080/",
          "height": 34
        },
        "outputId": "f60d65fa-f0aa-4649-e159-ca01f59c8c6f",
        "executionInfo": {
          "status": "ok",
          "timestamp": 1522363657010,
          "user_tz": 240,
          "elapsed": 382,
          "user": {
            "displayName": "Adityi Jain",
            "photoUrl": "//lh4.googleusercontent.com/-Oendzrm2UYs/AAAAAAAAAAI/AAAAAAAABVI/KLJBHKIpiMo/s50-c-k-no/photo.jpg",
            "userId": "113461199095791330828"
          }
        }
      },
      "cell_type": "code",
      "source": [
        "F2_rf = round(f1_score(y_test, y_pred_rf2, average= 'weighted'),5)\n",
        "print(F2_rf)"
      ],
      "execution_count": 0,
      "outputs": [
        {
          "output_type": "stream",
          "text": [
            "0.55981\n"
          ],
          "name": "stdout"
        }
      ]
    },
    {
      "metadata": {
        "id": "QKrWCEGrbNjf",
        "colab_type": "code",
        "colab": {
          "autoexec": {
            "startup": false,
            "wait_interval": 0
          }
        }
      },
      "cell_type": "code",
      "source": [
        "# The data of 200,000 was huge for SVM, and its very tough (for my setup) to train and tune this huge data for SVM.\n",
        "# hence for SVM, I used 25000 reviews, and the whole process was repeated starting from TFIDF vectorization\n",
        "# to stemming for SVM."
      ],
      "execution_count": 0,
      "outputs": []
    },
    {
      "metadata": {
        "id": "0oWqv21crJxK",
        "colab_type": "code",
        "colab": {
          "autoexec": {
            "startup": false,
            "wait_interval": 0
          }
        }
      },
      "cell_type": "code",
      "source": [
        "# Step 0: Receiving and reading the file.\n",
        "import pandas as pd\n",
        "xyz = pd.read_csv('yelp_review.csv', nrows=25000)"
      ],
      "execution_count": 0,
      "outputs": []
    },
    {
      "metadata": {
        "id": "AomFQzjZrJxO",
        "colab_type": "code",
        "colab": {
          "autoexec": {
            "startup": false,
            "wait_interval": 0
          },
          "output_extras": [
            {}
          ],
          "base_uri": "https://localhost:8080/",
          "height": 203
        },
        "outputId": "7e873d1f-efc6-459a-e7aa-c64f7b2f7732",
        "executionInfo": {
          "status": "ok",
          "timestamp": 1522367269952,
          "user_tz": 240,
          "elapsed": 394,
          "user": {
            "displayName": "Adityi Jain",
            "photoUrl": "//lh4.googleusercontent.com/-Oendzrm2UYs/AAAAAAAAAAI/AAAAAAAABVI/KLJBHKIpiMo/s50-c-k-no/photo.jpg",
            "userId": "113461199095791330828"
          }
        }
      },
      "cell_type": "code",
      "source": [
        "# taking relevant columns from the reviews\n",
        "review = xyz[['text', 'stars']]\n",
        "review.head()"
      ],
      "execution_count": 0,
      "outputs": [
        {
          "output_type": "execute_result",
          "data": {
            "text/html": [
              "<div>\n",
              "<style scoped>\n",
              "    .dataframe tbody tr th:only-of-type {\n",
              "        vertical-align: middle;\n",
              "    }\n",
              "\n",
              "    .dataframe tbody tr th {\n",
              "        vertical-align: top;\n",
              "    }\n",
              "\n",
              "    .dataframe thead th {\n",
              "        text-align: right;\n",
              "    }\n",
              "</style>\n",
              "<table border=\"1\" class=\"dataframe\">\n",
              "  <thead>\n",
              "    <tr style=\"text-align: right;\">\n",
              "      <th></th>\n",
              "      <th>text</th>\n",
              "      <th>stars</th>\n",
              "    </tr>\n",
              "  </thead>\n",
              "  <tbody>\n",
              "    <tr>\n",
              "      <th>0</th>\n",
              "      <td>Super simple place but amazing nonetheless. It...</td>\n",
              "      <td>5</td>\n",
              "    </tr>\n",
              "    <tr>\n",
              "      <th>1</th>\n",
              "      <td>Small unassuming place that changes their menu...</td>\n",
              "      <td>5</td>\n",
              "    </tr>\n",
              "    <tr>\n",
              "      <th>2</th>\n",
              "      <td>Lester's is located in a beautiful neighborhoo...</td>\n",
              "      <td>5</td>\n",
              "    </tr>\n",
              "    <tr>\n",
              "      <th>3</th>\n",
              "      <td>Love coming here. Yes the place always needs t...</td>\n",
              "      <td>4</td>\n",
              "    </tr>\n",
              "    <tr>\n",
              "      <th>4</th>\n",
              "      <td>Had their chocolate almond croissant and it wa...</td>\n",
              "      <td>4</td>\n",
              "    </tr>\n",
              "  </tbody>\n",
              "</table>\n",
              "</div>"
            ],
            "text/plain": [
              "                                                text  stars\n",
              "0  Super simple place but amazing nonetheless. It...      5\n",
              "1  Small unassuming place that changes their menu...      5\n",
              "2  Lester's is located in a beautiful neighborhoo...      5\n",
              "3  Love coming here. Yes the place always needs t...      4\n",
              "4  Had their chocolate almond croissant and it wa...      4"
            ]
          },
          "metadata": {
            "tags": []
          },
          "execution_count": 50
        }
      ]
    },
    {
      "metadata": {
        "id": "aMtOe-VKrJxS",
        "colab_type": "code",
        "colab": {
          "autoexec": {
            "startup": false,
            "wait_interval": 0
          }
        }
      },
      "cell_type": "code",
      "source": [
        ""
      ],
      "execution_count": 0,
      "outputs": []
    },
    {
      "metadata": {
        "id": "com5Ha2JrJxU",
        "colab_type": "code",
        "colab": {
          "autoexec": {
            "startup": false,
            "wait_interval": 0
          }
        }
      },
      "cell_type": "code",
      "source": [
        "# The distributin of the rating shows that the classes or output are highly imbalanced, with more number of reviews towards \n",
        "#higher ratings. The pie plot below gives the details."
      ],
      "execution_count": 0,
      "outputs": []
    },
    {
      "metadata": {
        "id": "lbomsv3arJxW",
        "colab_type": "code",
        "colab": {
          "autoexec": {
            "startup": false,
            "wait_interval": 0
          },
          "output_extras": [
            {}
          ],
          "base_uri": "https://localhost:8080/",
          "height": 34
        },
        "outputId": "ba85d4c5-ea67-4917-a9dd-b8456b3877e5",
        "executionInfo": {
          "status": "ok",
          "timestamp": 1522367273848,
          "user_tz": 240,
          "elapsed": 456,
          "user": {
            "displayName": "Adityi Jain",
            "photoUrl": "//lh4.googleusercontent.com/-Oendzrm2UYs/AAAAAAAAAAI/AAAAAAAABVI/KLJBHKIpiMo/s50-c-k-no/photo.jpg",
            "userId": "113461199095791330828"
          }
        }
      },
      "cell_type": "code",
      "source": [
        "\n",
        "X = review[\"text\"]\n",
        "y = review.stars\n",
        "X.shape\n",
        "y.shape"
      ],
      "execution_count": 0,
      "outputs": [
        {
          "output_type": "execute_result",
          "data": {
            "text/plain": [
              "(25000,)"
            ]
          },
          "metadata": {
            "tags": []
          },
          "execution_count": 52
        }
      ]
    },
    {
      "metadata": {
        "id": "wrg9SaaPrJxZ",
        "colab_type": "code",
        "colab": {
          "autoexec": {
            "startup": false,
            "wait_interval": 0
          }
        }
      },
      "cell_type": "code",
      "source": [
        "#STEP 1/2: PREPROCESSING AND FEATURES EXTRACTION.\n",
        "#STEMMING OF DOC USING NLTK\n",
        "\n",
        "from sklearn.feature_extraction.text import TfidfVectorizer\n",
        "import nltk.stem\n",
        "\n",
        "english_stemmer = nltk.stem.SnowballStemmer('english')\n",
        "class StemmedTfidfVectorizer(TfidfVectorizer):\n",
        "    def build_analyzer(self):\n",
        "        analyzer = super(StemmedTfidfVectorizer, self).build_analyzer()\n",
        "        return lambda doc: ([english_stemmer.stem(w) for w in analyzer(doc)])\n"
      ],
      "execution_count": 0,
      "outputs": []
    },
    {
      "metadata": {
        "id": "MWwTrb6-rJxe",
        "colab_type": "code",
        "colab": {
          "autoexec": {
            "startup": false,
            "wait_interval": 0
          }
        }
      },
      "cell_type": "code",
      "source": [
        "\n",
        "# WILL USE TF-IDF VECTORIZER, WHICH IS COMBINATION OF COUNT VECTORIZER AND TF IDF TRANSFORMER\n",
        "# preprocessing and feature extraction\n",
        "from sklearn.model_selection import train_test_split\n",
        "\n",
        "X_train, X_test, y_train, y_test = train_test_split(X, y, test_size=0.25, random_state=5)\n",
        "\n",
        "#UNIGRAM\n",
        "vectorizer_1 = StemmedTfidfVectorizer(stop_words='english')"
      ],
      "execution_count": 0,
      "outputs": []
    },
    {
      "metadata": {
        "id": "rfMHvh5OrJxh",
        "colab_type": "code",
        "colab": {
          "autoexec": {
            "startup": false,
            "wait_interval": 0
          }
        }
      },
      "cell_type": "code",
      "source": [
        "X_train_dtm = vectorizer_1.fit_transform(X_train)\n",
        "#dtm is data term matrix\n",
        "#do fitting and transfrom in single step\n"
      ],
      "execution_count": 0,
      "outputs": []
    },
    {
      "metadata": {
        "id": "03LIrxInrJxk",
        "colab_type": "code",
        "colab": {
          "autoexec": {
            "startup": false,
            "wait_interval": 0
          },
          "output_extras": [
            {}
          ],
          "base_uri": "https://localhost:8080/",
          "height": 34
        },
        "outputId": "0d4e8e6a-40fd-46de-8f72-8c2ad8dc96ca",
        "executionInfo": {
          "status": "ok",
          "timestamp": 1522367323057,
          "user_tz": 240,
          "elapsed": 336,
          "user": {
            "displayName": "Adityi Jain",
            "photoUrl": "//lh4.googleusercontent.com/-Oendzrm2UYs/AAAAAAAAAAI/AAAAAAAABVI/KLJBHKIpiMo/s50-c-k-no/photo.jpg",
            "userId": "113461199095791330828"
          }
        }
      },
      "cell_type": "code",
      "source": [
        "tokens = vectorizer_1.get_feature_names()\n",
        "print(len(tokens))\n",
        "# number of features in unigram"
      ],
      "execution_count": 0,
      "outputs": [
        {
          "output_type": "stream",
          "text": [
            "29766\n"
          ],
          "name": "stdout"
        }
      ]
    },
    {
      "metadata": {
        "id": "T-lJiGdHrJxn",
        "colab_type": "code",
        "colab": {
          "autoexec": {
            "startup": false,
            "wait_interval": 0
          }
        }
      },
      "cell_type": "code",
      "source": [
        "X_test_dtm = vectorizer_1.transform(X_test)"
      ],
      "execution_count": 0,
      "outputs": []
    },
    {
      "metadata": {
        "id": "-0EhpIv3rJxo",
        "colab_type": "code",
        "colab": {
          "autoexec": {
            "startup": false,
            "wait_interval": 0
          }
        }
      },
      "cell_type": "code",
      "source": [
        "# REPEATING WITH BIGRAM METHOD\n",
        "vectorizer_2 =  StemmedTfidfVectorizer(stop_words=\"english\", ngram_range=(1,2))\n",
        "X_train_dtm_2 = vectorizer_2.fit_transform(X_train)\n"
      ],
      "execution_count": 0,
      "outputs": []
    },
    {
      "metadata": {
        "id": "TY0P-6IVrJxq",
        "colab_type": "code",
        "colab": {
          "autoexec": {
            "startup": false,
            "wait_interval": 0
          },
          "output_extras": [
            {}
          ],
          "base_uri": "https://localhost:8080/",
          "height": 34
        },
        "outputId": "2f5bd9b7-4c3e-4a17-a51d-3cd61fb56da4",
        "executionInfo": {
          "status": "ok",
          "timestamp": 1522367402324,
          "user_tz": 240,
          "elapsed": 1590,
          "user": {
            "displayName": "Adityi Jain",
            "photoUrl": "//lh4.googleusercontent.com/-Oendzrm2UYs/AAAAAAAAAAI/AAAAAAAABVI/KLJBHKIpiMo/s50-c-k-no/photo.jpg",
            "userId": "113461199095791330828"
          }
        }
      },
      "cell_type": "code",
      "source": [
        "tokens_2 = vectorizer_2.get_feature_names()\n",
        "print(len(tokens_2))\n",
        "#number of features in bigram"
      ],
      "execution_count": 0,
      "outputs": [
        {
          "output_type": "stream",
          "text": [
            "644047\n"
          ],
          "name": "stdout"
        }
      ]
    },
    {
      "metadata": {
        "id": "k_CAn0a8rJxt",
        "colab_type": "code",
        "colab": {
          "autoexec": {
            "startup": false,
            "wait_interval": 0
          }
        }
      },
      "cell_type": "code",
      "source": [
        "\n",
        "X_test_dtm_2 = vectorizer_2.transform(X_test)"
      ],
      "execution_count": 0,
      "outputs": []
    },
    {
      "metadata": {
        "id": "ZjYWoZBVpZ4C",
        "colab_type": "code",
        "colab": {
          "autoexec": {
            "startup": false,
            "wait_interval": 0
          }
        }
      },
      "cell_type": "code",
      "source": [
        "import warnings\n",
        "warnings.filterwarnings(\"ignore\", category=DeprecationWarning) "
      ],
      "execution_count": 0,
      "outputs": []
    },
    {
      "metadata": {
        "id": "aLMyJUthq08i",
        "colab_type": "code",
        "colab": {
          "autoexec": {
            "startup": false,
            "wait_interval": 0
          }
        }
      },
      "cell_type": "code",
      "source": [
        "# SUPPORT VECTOR MACHINES\n",
        "from sklearn import svm\n",
        "from sklearn.grid_search import GridSearchCV\n",
        "\n",
        "clf = svm.SVC(class_weight=\"balanced\")\n",
        "param_grid = {'C': [1,10,50], \n",
        "          'kernel': ['linear','rbf'],\n",
        "         \"gamma\":[0.01, 0.1, 1]}\n",
        "\n",
        "\n",
        "grid_obj1 = GridSearchCV(clf, param_grid, scoring=\"f1_weighted\", verbose=10)"
      ],
      "execution_count": 0,
      "outputs": []
    },
    {
      "metadata": {
        "id": "3_5-JA32qvQl",
        "colab_type": "code",
        "colab": {
          "autoexec": {
            "startup": false,
            "wait_interval": 0
          },
          "output_extras": [
            {},
            {},
            {},
            {},
            {},
            {},
            {},
            {},
            {},
            {},
            {},
            {},
            {},
            {},
            {},
            {},
            {}
          ],
          "base_uri": "https://localhost:8080/",
          "height": 2202
        },
        "outputId": "77886758-c5a8-4c45-dd49-ad9a41f06b05",
        "executionInfo": {
          "status": "ok",
          "timestamp": 1522374371140,
          "user_tz": 240,
          "elapsed": 6925240,
          "user": {
            "displayName": "Adityi Jain",
            "photoUrl": "//lh4.googleusercontent.com/-Oendzrm2UYs/AAAAAAAAAAI/AAAAAAAABVI/KLJBHKIpiMo/s50-c-k-no/photo.jpg",
            "userId": "113461199095791330828"
          }
        }
      },
      "cell_type": "code",
      "source": [
        "grid_fit1 = grid_obj1.fit(X_train_dtm, y_train)"
      ],
      "execution_count": 0,
      "outputs": [
        {
          "output_type": "stream",
          "text": [
            "Fitting 3 folds for each of 18 candidates, totalling 54 fits\n",
            "[CV] C=1, gamma=0.01, kernel=linear ..................................\n",
            "[CV] ......... C=1, gamma=0.01, kernel=linear, score=0.552679 - 1.7min\n",
            "[CV] C=1, gamma=0.01, kernel=linear ..................................\n"
          ],
          "name": "stdout"
        },
        {
          "output_type": "stream",
          "text": [
            "[Parallel(n_jobs=1)]: Done   1 out of   1 | elapsed:  1.7min remaining:    0.0s\n"
          ],
          "name": "stderr"
        },
        {
          "output_type": "stream",
          "text": [
            "[CV] ......... C=1, gamma=0.01, kernel=linear, score=0.566551 - 1.7min\n",
            "[CV] C=1, gamma=0.01, kernel=linear ..................................\n"
          ],
          "name": "stdout"
        },
        {
          "output_type": "stream",
          "text": [
            "[Parallel(n_jobs=1)]: Done   2 out of   2 | elapsed:  3.5min remaining:    0.0s\n"
          ],
          "name": "stderr"
        },
        {
          "output_type": "stream",
          "text": [
            "[CV] ......... C=1, gamma=0.01, kernel=linear, score=0.553674 - 1.7min\n",
            "[CV] C=1, gamma=0.01, kernel=rbf .....................................\n"
          ],
          "name": "stdout"
        },
        {
          "output_type": "stream",
          "text": [
            "[Parallel(n_jobs=1)]: Done   3 out of   3 | elapsed:  5.2min remaining:    0.0s\n",
            "/usr/local/lib/python3.6/dist-packages/sklearn/metrics/classification.py:1135: UndefinedMetricWarning: F-score is ill-defined and being set to 0.0 in labels with no predicted samples.\n",
            "  'precision', 'predicted', average, warn_for)\n",
            "[Parallel(n_jobs=1)]: Done   4 out of   4 | elapsed:  7.8min remaining:    0.0s\n"
          ],
          "name": "stderr"
        },
        {
          "output_type": "stream",
          "text": [
            "[CV] ............ C=1, gamma=0.01, kernel=rbf, score=0.362423 - 2.6min\n",
            "[CV] C=1, gamma=0.01, kernel=rbf .....................................\n",
            "[CV] ............ C=1, gamma=0.01, kernel=rbf, score=0.193262 - 2.6min\n",
            "[CV] C=1, gamma=0.01, kernel=rbf .....................................\n"
          ],
          "name": "stdout"
        },
        {
          "output_type": "stream",
          "text": [
            "[Parallel(n_jobs=1)]: Done   5 out of   5 | elapsed: 10.4min remaining:    0.0s\n",
            "/usr/local/lib/python3.6/dist-packages/sklearn/metrics/classification.py:1135: UndefinedMetricWarning: F-score is ill-defined and being set to 0.0 in labels with no predicted samples.\n",
            "  'precision', 'predicted', average, warn_for)\n",
            "[Parallel(n_jobs=1)]: Done   6 out of   6 | elapsed: 13.1min remaining:    0.0s\n"
          ],
          "name": "stderr"
        },
        {
          "output_type": "stream",
          "text": [
            "[CV] ............ C=1, gamma=0.01, kernel=rbf, score=0.387085 - 2.6min\n",
            "[CV] C=1, gamma=0.1, kernel=linear ...................................\n",
            "[CV] .......... C=1, gamma=0.1, kernel=linear, score=0.552679 - 1.7min\n",
            "[CV] C=1, gamma=0.1, kernel=linear ...................................\n"
          ],
          "name": "stdout"
        },
        {
          "output_type": "stream",
          "text": [
            "[Parallel(n_jobs=1)]: Done   7 out of   7 | elapsed: 14.8min remaining:    0.0s\n"
          ],
          "name": "stderr"
        },
        {
          "output_type": "stream",
          "text": [
            "[CV] .......... C=1, gamma=0.1, kernel=linear, score=0.566551 - 1.7min\n",
            "[CV] C=1, gamma=0.1, kernel=linear ...................................\n"
          ],
          "name": "stdout"
        },
        {
          "output_type": "stream",
          "text": [
            "[Parallel(n_jobs=1)]: Done   8 out of   8 | elapsed: 16.5min remaining:    0.0s\n"
          ],
          "name": "stderr"
        },
        {
          "output_type": "stream",
          "text": [
            "[CV] .......... C=1, gamma=0.1, kernel=linear, score=0.553674 - 1.7min\n",
            "[CV] C=1, gamma=0.1, kernel=rbf ......................................\n"
          ],
          "name": "stdout"
        },
        {
          "output_type": "stream",
          "text": [
            "[Parallel(n_jobs=1)]: Done   9 out of   9 | elapsed: 18.2min remaining:    0.0s\n"
          ],
          "name": "stderr"
        },
        {
          "output_type": "stream",
          "text": [
            "[CV] ............. C=1, gamma=0.1, kernel=rbf, score=0.560019 - 2.2min\n",
            "[CV] C=1, gamma=0.1, kernel=rbf ......................................\n",
            "[CV] ............. C=1, gamma=0.1, kernel=rbf, score=0.558634 - 2.2min\n",
            "[CV] C=1, gamma=0.1, kernel=rbf ......................................\n",
            "[CV] ............. C=1, gamma=0.1, kernel=rbf, score=0.553254 - 2.2min\n",
            "[CV] C=1, gamma=1, kernel=linear .....................................\n",
            "[CV] ............ C=1, gamma=1, kernel=linear, score=0.552679 - 1.7min\n",
            "[CV] C=1, gamma=1, kernel=linear .....................................\n",
            "[CV] ............ C=1, gamma=1, kernel=linear, score=0.566551 - 1.7min\n",
            "[CV] C=1, gamma=1, kernel=linear .....................................\n",
            "[CV] ............ C=1, gamma=1, kernel=linear, score=0.553674 - 1.7min\n",
            "[CV] C=1, gamma=1, kernel=rbf ........................................\n",
            "[CV] ............... C=1, gamma=1, kernel=rbf, score=0.574149 - 2.3min\n",
            "[CV] C=1, gamma=1, kernel=rbf ........................................\n",
            "[CV] ............... C=1, gamma=1, kernel=rbf, score=0.577139 - 2.3min\n",
            "[CV] C=1, gamma=1, kernel=rbf ........................................\n",
            "[CV] ............... C=1, gamma=1, kernel=rbf, score=0.568939 - 2.3min\n",
            "[CV] C=10, gamma=0.01, kernel=linear .................................\n",
            "[CV] ........ C=10, gamma=0.01, kernel=linear, score=0.522631 - 1.8min\n",
            "[CV] C=10, gamma=0.01, kernel=linear .................................\n",
            "[CV] ........ C=10, gamma=0.01, kernel=linear, score=0.525822 - 1.8min\n",
            "[CV] C=10, gamma=0.01, kernel=linear .................................\n",
            "[CV] ........ C=10, gamma=0.01, kernel=linear, score=0.520983 - 1.9min\n",
            "[CV] C=10, gamma=0.01, kernel=rbf ....................................\n",
            "[CV] ........... C=10, gamma=0.01, kernel=rbf, score=0.561629 - 2.2min\n",
            "[CV] C=10, gamma=0.01, kernel=rbf ....................................\n",
            "[CV] ........... C=10, gamma=0.01, kernel=rbf, score=0.562144 - 2.2min\n",
            "[CV] C=10, gamma=0.01, kernel=rbf ....................................\n",
            "[CV] ........... C=10, gamma=0.01, kernel=rbf, score=0.555908 - 2.2min\n",
            "[CV] C=10, gamma=0.1, kernel=linear ..................................\n",
            "[CV] ......... C=10, gamma=0.1, kernel=linear, score=0.522631 - 1.8min\n",
            "[CV] C=10, gamma=0.1, kernel=linear ..................................\n",
            "[CV] ......... C=10, gamma=0.1, kernel=linear, score=0.525822 - 1.8min\n",
            "[CV] C=10, gamma=0.1, kernel=linear ..................................\n",
            "[CV] ......... C=10, gamma=0.1, kernel=linear, score=0.520983 - 1.9min\n",
            "[CV] C=10, gamma=0.1, kernel=rbf .....................................\n",
            "[CV] ............ C=10, gamma=0.1, kernel=rbf, score=0.553012 - 1.8min\n",
            "[CV] C=10, gamma=0.1, kernel=rbf .....................................\n",
            "[CV] ............ C=10, gamma=0.1, kernel=rbf, score=0.562313 - 1.8min\n",
            "[CV] C=10, gamma=0.1, kernel=rbf .....................................\n",
            "[CV] ............ C=10, gamma=0.1, kernel=rbf, score=0.550683 - 1.8min\n",
            "[CV] C=10, gamma=1, kernel=linear ....................................\n",
            "[CV] ........... C=10, gamma=1, kernel=linear, score=0.522631 - 1.8min\n",
            "[CV] C=10, gamma=1, kernel=linear ....................................\n",
            "[CV] ........... C=10, gamma=1, kernel=linear, score=0.525822 - 1.8min\n",
            "[CV] C=10, gamma=1, kernel=linear ....................................\n",
            "[CV] ........... C=10, gamma=1, kernel=linear, score=0.520983 - 1.9min\n",
            "[CV] C=10, gamma=1, kernel=rbf .......................................\n",
            "[CV] .............. C=10, gamma=1, kernel=rbf, score=0.563936 - 2.9min\n",
            "[CV] C=10, gamma=1, kernel=rbf .......................................\n",
            "[CV] .............. C=10, gamma=1, kernel=rbf, score=0.561747 - 2.9min\n",
            "[CV] C=10, gamma=1, kernel=rbf .......................................\n",
            "[CV] .............. C=10, gamma=1, kernel=rbf, score=0.553958 - 2.9min\n",
            "[CV] C=50, gamma=0.01, kernel=linear .................................\n",
            "[CV] ........ C=50, gamma=0.01, kernel=linear, score=0.507282 - 1.9min\n",
            "[CV] C=50, gamma=0.01, kernel=linear .................................\n",
            "[CV] ........ C=50, gamma=0.01, kernel=linear, score=0.511630 - 1.9min\n",
            "[CV] C=50, gamma=0.01, kernel=linear .................................\n",
            "[CV] ........ C=50, gamma=0.01, kernel=linear, score=0.506715 - 1.8min\n",
            "[CV] C=50, gamma=0.01, kernel=rbf ....................................\n",
            "[CV] ........... C=50, gamma=0.01, kernel=rbf, score=0.554120 - 1.8min\n",
            "[CV] C=50, gamma=0.01, kernel=rbf ....................................\n",
            "[CV] ........... C=50, gamma=0.01, kernel=rbf, score=0.566933 - 1.8min\n",
            "[CV] C=50, gamma=0.01, kernel=rbf ....................................\n",
            "[CV] ........... C=50, gamma=0.01, kernel=rbf, score=0.553786 - 1.8min\n",
            "[CV] C=50, gamma=0.1, kernel=linear ..................................\n",
            "[CV] ......... C=50, gamma=0.1, kernel=linear, score=0.507282 - 1.9min\n",
            "[CV] C=50, gamma=0.1, kernel=linear ..................................\n",
            "[CV] ......... C=50, gamma=0.1, kernel=linear, score=0.511630 - 1.9min\n",
            "[CV] C=50, gamma=0.1, kernel=linear ..................................\n",
            "[CV] ......... C=50, gamma=0.1, kernel=linear, score=0.506715 - 1.8min\n",
            "[CV] C=50, gamma=0.1, kernel=rbf .....................................\n",
            "[CV] ............ C=50, gamma=0.1, kernel=rbf, score=0.528755 - 2.1min\n",
            "[CV] C=50, gamma=0.1, kernel=rbf .....................................\n"
          ],
          "name": "stdout"
        },
        {
          "output_type": "stream",
          "text": [
            "[CV] ............ C=50, gamma=0.1, kernel=rbf, score=0.534819 - 2.1min\n",
            "[CV] C=50, gamma=0.1, kernel=rbf .....................................\n",
            "[CV] ............ C=50, gamma=0.1, kernel=rbf, score=0.529624 - 2.1min\n",
            "[CV] C=50, gamma=1, kernel=linear ....................................\n",
            "[CV] ........... C=50, gamma=1, kernel=linear, score=0.507282 - 1.9min\n",
            "[CV] C=50, gamma=1, kernel=linear ....................................\n",
            "[CV] ........... C=50, gamma=1, kernel=linear, score=0.511630 - 1.9min\n",
            "[CV] C=50, gamma=1, kernel=linear ....................................\n",
            "[CV] ........... C=50, gamma=1, kernel=linear, score=0.506715 - 1.8min\n",
            "[CV] C=50, gamma=1, kernel=rbf .......................................\n",
            "[CV] .............. C=50, gamma=1, kernel=rbf, score=0.563914 - 2.9min\n",
            "[CV] C=50, gamma=1, kernel=rbf .......................................\n",
            "[CV] .............. C=50, gamma=1, kernel=rbf, score=0.561747 - 2.9min\n",
            "[CV] C=50, gamma=1, kernel=rbf .......................................\n",
            "[CV] .............. C=50, gamma=1, kernel=rbf, score=0.553958 - 2.9min\n"
          ],
          "name": "stdout"
        },
        {
          "output_type": "stream",
          "text": [
            "[Parallel(n_jobs=1)]: Done  54 out of  54 | elapsed: 111.3min finished\n"
          ],
          "name": "stderr"
        }
      ]
    },
    {
      "metadata": {
        "id": "datXYYSLjrCC",
        "colab_type": "code",
        "colab": {
          "autoexec": {
            "startup": false,
            "wait_interval": 0
          },
          "output_extras": [
            {}
          ],
          "base_uri": "https://localhost:8080/",
          "height": 34
        },
        "outputId": "a39ff18f-87fd-4ea3-f8a5-01b05b389640",
        "executionInfo": {
          "status": "ok",
          "timestamp": 1522374870458,
          "user_tz": 240,
          "elapsed": 774,
          "user": {
            "displayName": "Adityi Jain",
            "photoUrl": "//lh4.googleusercontent.com/-Oendzrm2UYs/AAAAAAAAAAI/AAAAAAAABVI/KLJBHKIpiMo/s50-c-k-no/photo.jpg",
            "userId": "113461199095791330828"
          }
        }
      },
      "cell_type": "code",
      "source": [
        "grid_fit1.best_params_"
      ],
      "execution_count": 0,
      "outputs": [
        {
          "output_type": "execute_result",
          "data": {
            "text/plain": [
              "{'C': 1, 'gamma': 1, 'kernel': 'rbf'}"
            ]
          },
          "metadata": {
            "tags": []
          },
          "execution_count": 64
        }
      ]
    },
    {
      "metadata": {
        "id": "BEhKTjjujq_E",
        "colab_type": "code",
        "colab": {
          "autoexec": {
            "startup": false,
            "wait_interval": 0
          }
        }
      },
      "cell_type": "code",
      "source": [
        "grid_best_obj1 = grid_fit1.best_estimator_\n",
        "# model classifier with best estimated parameters for unigram"
      ],
      "execution_count": 0,
      "outputs": []
    },
    {
      "metadata": {
        "id": "6nubdqqQjq7B",
        "colab_type": "code",
        "colab": {
          "autoexec": {
            "startup": false,
            "wait_interval": 0
          }
        }
      },
      "cell_type": "code",
      "source": [
        "y_pred_svm = grid_best_obj1.predict(X_test_dtm)"
      ],
      "execution_count": 0,
      "outputs": []
    },
    {
      "metadata": {
        "id": "LuwjFQeajq4F",
        "colab_type": "code",
        "colab": {
          "autoexec": {
            "startup": false,
            "wait_interval": 0
          },
          "output_extras": [
            {}
          ],
          "base_uri": "https://localhost:8080/",
          "height": 34
        },
        "outputId": "a146f5cf-873f-4c44-b421-524694525b78",
        "executionInfo": {
          "status": "ok",
          "timestamp": 1522374953049,
          "user_tz": 240,
          "elapsed": 378,
          "user": {
            "displayName": "Adityi Jain",
            "photoUrl": "//lh4.googleusercontent.com/-Oendzrm2UYs/AAAAAAAAAAI/AAAAAAAABVI/KLJBHKIpiMo/s50-c-k-no/photo.jpg",
            "userId": "113461199095791330828"
          }
        }
      },
      "cell_type": "code",
      "source": [
        "# F1 score for unigram SVM\n",
        "f1_score(y_test, y_pred_svm, average= 'weighted')"
      ],
      "execution_count": 0,
      "outputs": [
        {
          "output_type": "execute_result",
          "data": {
            "text/plain": [
              "0.5894538685240118"
            ]
          },
          "metadata": {
            "tags": []
          },
          "execution_count": 67
        }
      ]
    },
    {
      "metadata": {
        "id": "jqSBxUnGjq0U",
        "colab_type": "code",
        "colab": {
          "autoexec": {
            "startup": false,
            "wait_interval": 0
          },
          "output_extras": [
            {}
          ],
          "base_uri": "https://localhost:8080/",
          "height": 34
        },
        "outputId": "033318e7-9982-4f51-cf40-bb2b5472946b",
        "executionInfo": {
          "status": "ok",
          "timestamp": 1522374957892,
          "user_tz": 240,
          "elapsed": 1428,
          "user": {
            "displayName": "Adityi Jain",
            "photoUrl": "//lh4.googleusercontent.com/-Oendzrm2UYs/AAAAAAAAAAI/AAAAAAAABVI/KLJBHKIpiMo/s50-c-k-no/photo.jpg",
            "userId": "113461199095791330828"
          }
        }
      },
      "cell_type": "code",
      "source": [
        "F1_svm = round(f1_score(y_test, y_pred_svm, average= 'weighted'),5)\n",
        "print(F1_svm)"
      ],
      "execution_count": 0,
      "outputs": [
        {
          "output_type": "stream",
          "text": [
            "0.58945\n"
          ],
          "name": "stdout"
        }
      ]
    },
    {
      "metadata": {
        "id": "NAYI60f3jqv8",
        "colab_type": "code",
        "colab": {
          "autoexec": {
            "startup": false,
            "wait_interval": 0
          }
        }
      },
      "cell_type": "code",
      "source": [
        "grid_fit2 = svm.SVC(C=1, gamma=1, kernel=\"rbf\", class_weight=\"balanced\")"
      ],
      "execution_count": 0,
      "outputs": []
    },
    {
      "metadata": {
        "id": "Gjm1H90tjqmP",
        "colab_type": "code",
        "colab": {
          "autoexec": {
            "startup": false,
            "wait_interval": 0
          }
        }
      },
      "cell_type": "code",
      "source": [
        "grid_best_obj2 = grid_fit2.fit(X_train_dtm_2, y_train)\n",
        "#fitting for bigram"
      ],
      "execution_count": 0,
      "outputs": []
    },
    {
      "metadata": {
        "id": "_J3pCA9Zjqa-",
        "colab_type": "code",
        "colab": {
          "autoexec": {
            "startup": false,
            "wait_interval": 0
          }
        }
      },
      "cell_type": "code",
      "source": [
        "y_pred_svm2 = grid_best_obj2.predict(X_test_dtm_2)"
      ],
      "execution_count": 0,
      "outputs": []
    },
    {
      "metadata": {
        "id": "L5hIbb5GkUtc",
        "colab_type": "code",
        "colab": {
          "autoexec": {
            "startup": false,
            "wait_interval": 0
          },
          "output_extras": [
            {}
          ],
          "base_uri": "https://localhost:8080/",
          "height": 34
        },
        "outputId": "a5c8b50b-44c8-4c19-bd2c-a3647dc87218",
        "executionInfo": {
          "status": "ok",
          "timestamp": 1522375836437,
          "user_tz": 240,
          "elapsed": 382,
          "user": {
            "displayName": "Adityi Jain",
            "photoUrl": "//lh4.googleusercontent.com/-Oendzrm2UYs/AAAAAAAAAAI/AAAAAAAABVI/KLJBHKIpiMo/s50-c-k-no/photo.jpg",
            "userId": "113461199095791330828"
          }
        }
      },
      "cell_type": "code",
      "source": [
        "# F1 score for bigram SVM\n",
        "f1_score(y_test, y_pred_svm2, average= 'weighted')"
      ],
      "execution_count": 0,
      "outputs": [
        {
          "output_type": "execute_result",
          "data": {
            "text/plain": [
              "0.5721454732355884"
            ]
          },
          "metadata": {
            "tags": []
          },
          "execution_count": 73
        }
      ]
    },
    {
      "metadata": {
        "id": "ws8heiG9kUpT",
        "colab_type": "code",
        "colab": {
          "autoexec": {
            "startup": false,
            "wait_interval": 0
          },
          "output_extras": [
            {}
          ],
          "base_uri": "https://localhost:8080/",
          "height": 34
        },
        "outputId": "7c161c58-69a9-4864-931c-b39e5ea8fdb2",
        "executionInfo": {
          "status": "ok",
          "timestamp": 1522375836867,
          "user_tz": 240,
          "elapsed": 396,
          "user": {
            "displayName": "Adityi Jain",
            "photoUrl": "//lh4.googleusercontent.com/-Oendzrm2UYs/AAAAAAAAAAI/AAAAAAAABVI/KLJBHKIpiMo/s50-c-k-no/photo.jpg",
            "userId": "113461199095791330828"
          }
        }
      },
      "cell_type": "code",
      "source": [
        "F2_svm = round(f1_score(y_test, y_pred_svm2, average= 'weighted'),5)\n",
        "print(F2_svm)"
      ],
      "execution_count": 0,
      "outputs": [
        {
          "output_type": "stream",
          "text": [
            "0.57215\n"
          ],
          "name": "stdout"
        }
      ]
    },
    {
      "metadata": {
        "id": "_K-B5eii4HRG",
        "colab_type": "code",
        "colab": {
          "autoexec": {
            "startup": false,
            "wait_interval": 0
          }
        },
        "cellView": "form"
      },
      "cell_type": "code",
      "source": [
        "#@title EVALUATION OF THE SCORES\n"
      ],
      "execution_count": 0,
      "outputs": []
    },
    {
      "metadata": {
        "id": "0sWNjPizyZzP",
        "colab_type": "code",
        "colab": {
          "autoexec": {
            "startup": false,
            "wait_interval": 0
          }
        }
      },
      "cell_type": "code",
      "source": [
        "# Plotting all the score for comparison and evaluation\n",
        "# Storing all the values of scores in respective variables, rounded to 5 place of decimal.\n",
        "F1_nb = 0.43847\n",
        "F2_nb = 0.28646\n",
        "F1_lr = 0.63806\n",
        "F2_lr = 0.64862\n",
        "F1_dt = 0.45932\n",
        "F2_dt = 0.45826\n",
        "F1_rf = 0.57645\n",
        "F2_rf = 0.55981\n",
        "F1_svm = 0.58945\n",
        "F2_svm = 0.57215"
      ],
      "execution_count": 0,
      "outputs": []
    },
    {
      "metadata": {
        "id": "6OE6F-e5yZmh",
        "colab_type": "code",
        "colab": {
          "autoexec": {
            "startup": false,
            "wait_interval": 0
          },
          "output_extras": [
            {
              "item_id": 1
            },
            {
              "item_id": 2
            }
          ],
          "base_uri": "https://localhost:8080/",
          "height": 378
        },
        "outputId": "921c3808-cec4-456e-afec-aff843a60a5e",
        "executionInfo": {
          "status": "ok",
          "timestamp": 1522376710286,
          "user_tz": 240,
          "elapsed": 606,
          "user": {
            "displayName": "Adityi Jain",
            "photoUrl": "//lh4.googleusercontent.com/-Oendzrm2UYs/AAAAAAAAAAI/AAAAAAAABVI/KLJBHKIpiMo/s50-c-k-no/photo.jpg",
            "userId": "113461199095791330828"
          }
        }
      },
      "cell_type": "code",
      "source": [
        "import numpy as np\n",
        "import matplotlib.pyplot as plt\n",
        " \n",
        "# data to plot\n",
        "n_groups = 5\n",
        "F1_Score_unigram = (F1_nb, F1_lr, F1_dt, F1_svm, F1_rf)\n",
        "F1_Score_bigram = (F2_nb, F2_lr, F2_dt, F2_svm, F2_rf)\n",
        " \n",
        "# create plot\n",
        "fig, ax = plt.subplots()\n",
        "index = np.arange(n_groups)\n",
        "bar_width = 0.25\n",
        "opacity = 0.8\n",
        " \n",
        "rects1 = plt.bar(index, F1_Score_unigram, bar_width,\n",
        "                 alpha=opacity,\n",
        "                 color='r',\n",
        "                 label='F1_unigram')\n",
        " \n",
        "rects2 = plt.bar(index + bar_width, F1_Score_bigram, bar_width,\n",
        "                 alpha=opacity,\n",
        "                 color='b',\n",
        "                 label='F1_bigram+unigram')\n",
        " \n",
        "plt.xlabel('Type of Classfication model')\n",
        "plt.ylabel('Scores')\n",
        "plt.title('')\n",
        "plt.xticks(index + bar_width, ('NB', 'LR', 'DT', 'SVM', \"RF\"))\n",
        "plt.legend()"
      ],
      "execution_count": 5,
      "outputs": [
        {
          "output_type": "execute_result",
          "data": {
            "text/plain": [
              "<matplotlib.legend.Legend at 0x7f6e41cf8e10>"
            ]
          },
          "metadata": {
            "tags": []
          },
          "execution_count": 5
        },
        {
          "output_type": "display_data",
          "data": {
            "image/png": "[encoded data removed]",
            "text/plain": [
              "<matplotlib.figure.Figure at 0x7f6e41cd4748>"
            ]
          },
          "metadata": {
            "tags": []
          }
        }
      ]
    },
    {
      "metadata": {
        "id": "n_tQJa6VyZiR",
        "colab_type": "code",
        "colab": {
          "autoexec": {
            "startup": false,
            "wait_interval": 0
          }
        },
        "cellView": "form"
      },
      "cell_type": "code",
      "source": [
        "#@title DISCUSSION AND COMPARISON WITH BENCHMARK\n"
      ],
      "execution_count": 0,
      "outputs": []
    },
    {
      "metadata": {
        "id": "TpBJjzeawmLs",
        "colab_type": "text"
      },
      "cell_type": "markdown",
      "source": [
        "\n",
        "\n",
        "```\n",
        "It can be seen that the highest score is for logistic regression (unigram+monogram), with the score of 0.64862, i.e 64.9%, this is followed by logistic regression only with 0.63806, 63.8%. Apart from logisitc regression, the models  which performed well were Support vector machine with unigram score of 58.9% followed by random forest with 0.57645/ 57.6% for unigram. \n",
        "```\n",
        "\n"
      ]
    },
    {
      "metadata": {
        "id": "LcDzKmzMziew",
        "colab_type": "text"
      },
      "cell_type": "markdown",
      "source": [
        "\n",
        "\n",
        "```\n",
        "The benchmark model selected was from Yelp Dataset Challenge: Review Rating Prediction, from Nabiha Asghar. The highest accuracy from this model was 56% with Linear SVC and for logistic regression, the scores were 54% (accuracy score). For my model, the highest score (F1) was 64.9% for logistic regression (unigram+bigram) and 58.9% for SVM, unigram.\n",
        "\n",
        "Link for paper is as:\n",
        "```\n",
        "\n"
      ]
    },
    {
      "metadata": {
        "id": "vWmvCZ9t1Ubq",
        "colab_type": "text"
      },
      "cell_type": "markdown",
      "source": [
        "[https://arxiv.org/pdf/1605.05362.pdf](https://)\n",
        "\n"
      ]
    },
    {
      "metadata": {
        "id": "cQIQE0Od1iYm",
        "colab_type": "text"
      },
      "cell_type": "markdown",
      "source": [
        ""
      ]
    },
    {
      "metadata": {
        "id": "s7XU2nK_C5pz",
        "colab_type": "code",
        "colab": {
          "autoexec": {
            "startup": false,
            "wait_interval": 0
          }
        }
      },
      "cell_type": "code",
      "source": [
        ""
      ],
      "execution_count": 0,
      "outputs": []
    },
    {
      "metadata": {
        "id": "nnR7zWsCC5lY",
        "colab_type": "code",
        "colab": {
          "autoexec": {
            "startup": false,
            "wait_interval": 0
          }
        }
      },
      "cell_type": "code",
      "source": [
        ""
      ],
      "execution_count": 0,
      "outputs": []
    },
    {
      "metadata": {
        "id": "HmC2C_5lC5jD",
        "colab_type": "code",
        "colab": {
          "autoexec": {
            "startup": false,
            "wait_interval": 0
          }
        }
      },
      "cell_type": "code",
      "source": [
        ""
      ],
      "execution_count": 0,
      "outputs": []
    },
    {
      "metadata": {
        "id": "BmXgrCJAC5fB",
        "colab_type": "code",
        "colab": {
          "autoexec": {
            "startup": false,
            "wait_interval": 0
          }
        }
      },
      "cell_type": "code",
      "source": [
        ""
      ],
      "execution_count": 0,
      "outputs": []
    },
    {
      "metadata": {
        "id": "NehDKZfzC5cG",
        "colab_type": "code",
        "colab": {
          "autoexec": {
            "startup": false,
            "wait_interval": 0
          }
        }
      },
      "cell_type": "code",
      "source": [
        ""
      ],
      "execution_count": 0,
      "outputs": []
    },
    {
      "metadata": {
        "id": "zeEH0vCoC5Ws",
        "colab_type": "code",
        "colab": {
          "autoexec": {
            "startup": false,
            "wait_interval": 0
          }
        }
      },
      "cell_type": "code",
      "source": [
        ""
      ],
      "execution_count": 0,
      "outputs": []
    },
    {
      "metadata": {
        "id": "_KXbBZPxC5Tz",
        "colab_type": "code",
        "colab": {
          "autoexec": {
            "startup": false,
            "wait_interval": 0
          }
        }
      },
      "cell_type": "code",
      "source": [
        ""
      ],
      "execution_count": 0,
      "outputs": []
    },
    {
      "metadata": {
        "id": "Jkl3hPDeC5R4",
        "colab_type": "code",
        "colab": {
          "autoexec": {
            "startup": false,
            "wait_interval": 0
          }
        }
      },
      "cell_type": "code",
      "source": [
        ""
      ],
      "execution_count": 0,
      "outputs": []
    },
    {
      "metadata": {
        "id": "gCMg6Z0yC5OL",
        "colab_type": "code",
        "colab": {
          "autoexec": {
            "startup": false,
            "wait_interval": 0
          }
        }
      },
      "cell_type": "code",
      "source": [
        ""
      ],
      "execution_count": 0,
      "outputs": []
    },
    {
      "metadata": {
        "id": "bRlfu8cGC5Lm",
        "colab_type": "code",
        "colab": {
          "autoexec": {
            "startup": false,
            "wait_interval": 0
          }
        }
      },
      "cell_type": "code",
      "source": [
        ""
      ],
      "execution_count": 0,
      "outputs": []
    },
    {
      "metadata": {
        "id": "bZZyRRXVC5Ig",
        "colab_type": "code",
        "colab": {
          "autoexec": {
            "startup": false,
            "wait_interval": 0
          }
        }
      },
      "cell_type": "code",
      "source": [
        ""
      ],
      "execution_count": 0,
      "outputs": []
    },
    {
      "metadata": {
        "id": "NRvhRXSgC5Gi",
        "colab_type": "code",
        "colab": {
          "autoexec": {
            "startup": false,
            "wait_interval": 0
          }
        }
      },
      "cell_type": "code",
      "source": [
        ""
      ],
      "execution_count": 0,
      "outputs": []
    },
    {
      "metadata": {
        "id": "PXWKPax6C5Dh",
        "colab_type": "code",
        "colab": {
          "autoexec": {
            "startup": false,
            "wait_interval": 0
          }
        }
      },
      "cell_type": "code",
      "source": [
        ""
      ],
      "execution_count": 0,
      "outputs": []
    },
    {
      "metadata": {
        "id": "XZGGbHimC5BC",
        "colab_type": "code",
        "colab": {
          "autoexec": {
            "startup": false,
            "wait_interval": 0
          }
        }
      },
      "cell_type": "code",
      "source": [
        ""
      ],
      "execution_count": 0,
      "outputs": []
    },
    {
      "metadata": {
        "id": "TYZwIgHjC4-D",
        "colab_type": "code",
        "colab": {
          "autoexec": {
            "startup": false,
            "wait_interval": 0
          }
        }
      },
      "cell_type": "code",
      "source": [
        ""
      ],
      "execution_count": 0,
      "outputs": []
    },
    {
      "metadata": {
        "id": "0bFfb9sFC47s",
        "colab_type": "code",
        "colab": {
          "autoexec": {
            "startup": false,
            "wait_interval": 0
          }
        }
      },
      "cell_type": "code",
      "source": [
        ""
      ],
      "execution_count": 0,
      "outputs": []
    },
    {
      "metadata": {
        "id": "GMwLr4TAC44L",
        "colab_type": "code",
        "colab": {
          "autoexec": {
            "startup": false,
            "wait_interval": 0
          }
        }
      },
      "cell_type": "code",
      "source": [
        ""
      ],
      "execution_count": 0,
      "outputs": []
    },
    {
      "metadata": {
        "id": "QmsVPb4kC42M",
        "colab_type": "code",
        "colab": {
          "autoexec": {
            "startup": false,
            "wait_interval": 0
          }
        }
      },
      "cell_type": "code",
      "source": [
        ""
      ],
      "execution_count": 0,
      "outputs": []
    },
    {
      "metadata": {
        "id": "KvEPnvvfC4yf",
        "colab_type": "code",
        "colab": {
          "autoexec": {
            "startup": false,
            "wait_interval": 0
          }
        }
      },
      "cell_type": "code",
      "source": [
        ""
      ],
      "execution_count": 0,
      "outputs": []
    },
    {
      "metadata": {
        "id": "7uZnWAz3C4w8",
        "colab_type": "code",
        "colab": {
          "autoexec": {
            "startup": false,
            "wait_interval": 0
          }
        }
      },
      "cell_type": "code",
      "source": [
        ""
      ],
      "execution_count": 0,
      "outputs": []
    },
    {
      "metadata": {
        "id": "Ao6Oo-kHC4tq",
        "colab_type": "code",
        "colab": {
          "autoexec": {
            "startup": false,
            "wait_interval": 0
          }
        }
      },
      "cell_type": "code",
      "source": [
        ""
      ],
      "execution_count": 0,
      "outputs": []
    },
    {
      "metadata": {
        "id": "8CEZ6mSJC4qj",
        "colab_type": "code",
        "colab": {
          "autoexec": {
            "startup": false,
            "wait_interval": 0
          }
        }
      },
      "cell_type": "code",
      "source": [
        ""
      ],
      "execution_count": 0,
      "outputs": []
    },
    {
      "metadata": {
        "id": "XP-_YQo4C4ok",
        "colab_type": "code",
        "colab": {
          "autoexec": {
            "startup": false,
            "wait_interval": 0
          }
        }
      },
      "cell_type": "code",
      "source": [
        ""
      ],
      "execution_count": 0,
      "outputs": []
    },
    {
      "metadata": {
        "id": "onM4Trv1C4lP",
        "colab_type": "code",
        "colab": {
          "autoexec": {
            "startup": false,
            "wait_interval": 0
          }
        }
      },
      "cell_type": "code",
      "source": [
        ""
      ],
      "execution_count": 0,
      "outputs": []
    },
    {
      "metadata": {
        "id": "aCyjjPJuC4iO",
        "colab_type": "code",
        "colab": {
          "autoexec": {
            "startup": false,
            "wait_interval": 0
          }
        }
      },
      "cell_type": "code",
      "source": [
        ""
      ],
      "execution_count": 0,
      "outputs": []
    }
  ]
}